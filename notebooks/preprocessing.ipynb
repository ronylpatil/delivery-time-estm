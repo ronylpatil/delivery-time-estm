{
 "cells": [
  {
   "cell_type": "code",
   "execution_count": 322,
   "metadata": {},
   "outputs": [],
   "source": [
    "import pathlib\n",
    "import pandas as pd\n",
    "import numpy as np"
   ]
  },
  {
   "cell_type": "code",
   "execution_count": 323,
   "metadata": {},
   "outputs": [],
   "source": [
    "data_dir = pathlib.Path().absolute().parent.as_posix() + '/data/raw/train.csv'\n",
    "\n",
    "df = pd.read_csv(data_dir)"
   ]
  },
  {
   "cell_type": "code",
   "execution_count": 324,
   "metadata": {},
   "outputs": [
    {
     "data": {
      "text/html": [
       "<div>\n",
       "<style scoped>\n",
       "    .dataframe tbody tr th:only-of-type {\n",
       "        vertical-align: middle;\n",
       "    }\n",
       "\n",
       "    .dataframe tbody tr th {\n",
       "        vertical-align: top;\n",
       "    }\n",
       "\n",
       "    .dataframe thead th {\n",
       "        text-align: right;\n",
       "    }\n",
       "</style>\n",
       "<table border=\"1\" class=\"dataframe\">\n",
       "  <thead>\n",
       "    <tr style=\"text-align: right;\">\n",
       "      <th></th>\n",
       "      <th>ID</th>\n",
       "      <th>Delivery_person_ID</th>\n",
       "      <th>Delivery_person_Age</th>\n",
       "      <th>Delivery_person_Ratings</th>\n",
       "      <th>Restaurant_latitude</th>\n",
       "      <th>Restaurant_longitude</th>\n",
       "      <th>Delivery_location_latitude</th>\n",
       "      <th>Delivery_location_longitude</th>\n",
       "      <th>Order_Date</th>\n",
       "      <th>Time_Orderd</th>\n",
       "      <th>Time_Order_picked</th>\n",
       "      <th>Weatherconditions</th>\n",
       "      <th>Road_traffic_density</th>\n",
       "      <th>Vehicle_condition</th>\n",
       "      <th>Type_of_order</th>\n",
       "      <th>Type_of_vehicle</th>\n",
       "      <th>multiple_deliveries</th>\n",
       "      <th>Festival</th>\n",
       "      <th>City</th>\n",
       "      <th>Time_taken(min)</th>\n",
       "    </tr>\n",
       "  </thead>\n",
       "  <tbody>\n",
       "    <tr>\n",
       "      <th>14109</th>\n",
       "      <td>0xa0de</td>\n",
       "      <td>RANCHIRES010DEL01</td>\n",
       "      <td>22</td>\n",
       "      <td>4.7</td>\n",
       "      <td>23.354422</td>\n",
       "      <td>85.332900</td>\n",
       "      <td>23.424422</td>\n",
       "      <td>85.402900</td>\n",
       "      <td>02-03-2022</td>\n",
       "      <td>18:25:00</td>\n",
       "      <td>18:40:00</td>\n",
       "      <td>conditions Sunny</td>\n",
       "      <td>Medium</td>\n",
       "      <td>1</td>\n",
       "      <td>Snack</td>\n",
       "      <td>scooter</td>\n",
       "      <td>0</td>\n",
       "      <td>NaN</td>\n",
       "      <td>Metropolitian</td>\n",
       "      <td>(min) 13</td>\n",
       "    </tr>\n",
       "    <tr>\n",
       "      <th>27980</th>\n",
       "      <td>0x4b30</td>\n",
       "      <td>SURRES15DEL01</td>\n",
       "      <td>30</td>\n",
       "      <td>4.2</td>\n",
       "      <td>21.160522</td>\n",
       "      <td>72.771477</td>\n",
       "      <td>21.230522</td>\n",
       "      <td>72.841477</td>\n",
       "      <td>02-03-2022</td>\n",
       "      <td>20:25:00</td>\n",
       "      <td>20:30:00</td>\n",
       "      <td>conditions Stormy</td>\n",
       "      <td>Jam</td>\n",
       "      <td>0</td>\n",
       "      <td>Snack</td>\n",
       "      <td>motorcycle</td>\n",
       "      <td>3</td>\n",
       "      <td>Yes</td>\n",
       "      <td>Metropolitian</td>\n",
       "      <td>(min) 53</td>\n",
       "    </tr>\n",
       "    <tr>\n",
       "      <th>19660</th>\n",
       "      <td>0xb972</td>\n",
       "      <td>VADRES13DEL01</td>\n",
       "      <td>37</td>\n",
       "      <td>4.7</td>\n",
       "      <td>22.310237</td>\n",
       "      <td>73.158921</td>\n",
       "      <td>22.350237</td>\n",
       "      <td>73.198921</td>\n",
       "      <td>26-03-2022</td>\n",
       "      <td>12:40:00</td>\n",
       "      <td>12:50:00</td>\n",
       "      <td>conditions Stormy</td>\n",
       "      <td>High</td>\n",
       "      <td>1</td>\n",
       "      <td>Snack</td>\n",
       "      <td>motorcycle</td>\n",
       "      <td>1</td>\n",
       "      <td>No</td>\n",
       "      <td>Metropolitian</td>\n",
       "      <td>(min) 25</td>\n",
       "    </tr>\n",
       "  </tbody>\n",
       "</table>\n",
       "</div>"
      ],
      "text/plain": [
       "            ID  Delivery_person_ID Delivery_person_Age  \\\n",
       "14109  0xa0de   RANCHIRES010DEL01                   22   \n",
       "27980  0x4b30       SURRES15DEL01                   30   \n",
       "19660  0xb972       VADRES13DEL01                   37   \n",
       "\n",
       "      Delivery_person_Ratings  Restaurant_latitude  Restaurant_longitude  \\\n",
       "14109                     4.7            23.354422             85.332900   \n",
       "27980                     4.2            21.160522             72.771477   \n",
       "19660                     4.7            22.310237             73.158921   \n",
       "\n",
       "       Delivery_location_latitude  Delivery_location_longitude  Order_Date  \\\n",
       "14109                   23.424422                    85.402900  02-03-2022   \n",
       "27980                   21.230522                    72.841477  02-03-2022   \n",
       "19660                   22.350237                    73.198921  26-03-2022   \n",
       "\n",
       "      Time_Orderd Time_Order_picked  Weatherconditions Road_traffic_density  \\\n",
       "14109    18:25:00          18:40:00   conditions Sunny              Medium    \n",
       "27980    20:25:00          20:30:00  conditions Stormy                 Jam    \n",
       "19660    12:40:00          12:50:00  conditions Stormy                High    \n",
       "\n",
       "       Vehicle_condition Type_of_order Type_of_vehicle multiple_deliveries  \\\n",
       "14109                  1        Snack         scooter                    0   \n",
       "27980                  0        Snack      motorcycle                    3   \n",
       "19660                  1        Snack      motorcycle                    1   \n",
       "\n",
       "      Festival            City Time_taken(min)  \n",
       "14109     NaN   Metropolitian         (min) 13  \n",
       "27980     Yes   Metropolitian         (min) 53  \n",
       "19660      No   Metropolitian         (min) 25  "
      ]
     },
     "execution_count": 324,
     "metadata": {},
     "output_type": "execute_result"
    }
   ],
   "source": [
    "df.sample(3)"
   ]
  },
  {
   "cell_type": "code",
   "execution_count": 325,
   "metadata": {},
   "outputs": [
    {
     "data": {
      "text/plain": [
       "(45593, 20)"
      ]
     },
     "execution_count": 325,
     "metadata": {},
     "output_type": "execute_result"
    }
   ],
   "source": [
    "df.shape"
   ]
  },
  {
   "cell_type": "code",
   "execution_count": 326,
   "metadata": {},
   "outputs": [],
   "source": [
    "# drop ID & Delivery_pperson_id"
   ]
  },
  {
   "cell_type": "markdown",
   "metadata": {},
   "source": [
    "<font color = 'orange'>\n",
    "\n",
    "#### <b> City\n",
    "- handle NaN values\n",
    "- handle extra space at suffix\n",
    "- change data type"
   ]
  },
  {
   "cell_type": "code",
   "execution_count": 327,
   "metadata": {},
   "outputs": [
    {
     "name": "stdout",
     "output_type": "stream",
     "text": [
      "Unique Valeus: ['Urban ' 'Metropolitian ' 'Semi-Urban ' 'NaN '] \n",
      "\n",
      "NaN Count: 1200 \n",
      "\n",
      "Value Count: City\n",
      "Metropolitian     34093\n",
      "Urban             10136\n",
      "NaN                1200\n",
      "Semi-Urban          164\n",
      "Name: count, dtype: int64\n"
     ]
    }
   ],
   "source": [
    "print(f\"Unique Valeus: {df['City'].unique()} \\n\\nNaN Count: {df[df['City'] == 'NaN '].shape[0]} \\n\\nValue Count: {df['City'].value_counts()}\")"
   ]
  },
  {
   "cell_type": "code",
   "execution_count": 328,
   "metadata": {},
   "outputs": [
    {
     "data": {
      "text/plain": [
       "array(['Urban', 'Metropolitian', 'Semi-Urban', 'NaN'], dtype=object)"
      ]
     },
     "execution_count": 328,
     "metadata": {},
     "output_type": "execute_result"
    }
   ],
   "source": [
    "# fix extra spaces\n",
    "df['City'] = list(map(lambda x: x.strip(), df['City']))\n",
    "\n",
    "df['City'].unique()"
   ]
  },
  {
   "cell_type": "code",
   "execution_count": 329,
   "metadata": {},
   "outputs": [],
   "source": [
    "# fix 'NaN' with np.nan\n",
    "df['City'] = df['City'].replace('NaN', np.nan)"
   ]
  },
  {
   "cell_type": "code",
   "execution_count": 330,
   "metadata": {},
   "outputs": [
    {
     "data": {
      "text/plain": [
       "np.int64(1200)"
      ]
     },
     "execution_count": 330,
     "metadata": {},
     "output_type": "execute_result"
    }
   ],
   "source": [
    "df['City'].isnull().sum()"
   ]
  },
  {
   "cell_type": "markdown",
   "metadata": {},
   "source": [
    "<font color = 'orange'>\n",
    "\n",
    "#### <b> Festival\n",
    "- handle NaN\n",
    "- handle extra space at suffix\n",
    "- change data type"
   ]
  },
  {
   "cell_type": "code",
   "execution_count": 331,
   "metadata": {},
   "outputs": [
    {
     "name": "stdout",
     "output_type": "stream",
     "text": [
      "Unique Valeus: ['No ' 'Yes ' 'NaN '] \n",
      "\n",
      "NaN Count: 228 \n",
      "\n",
      "Value Count: Festival\n",
      "No      44469\n",
      "Yes       896\n",
      "NaN       228\n",
      "Name: count, dtype: int64\n"
     ]
    }
   ],
   "source": [
    "print(f\"Unique Valeus: {df['Festival'].unique()} \\n\\nNaN Count: {df[df['Festival'] == 'NaN '].shape[0]} \\n\\nValue Count: {df['Festival'].value_counts()}\")"
   ]
  },
  {
   "cell_type": "code",
   "execution_count": 332,
   "metadata": {},
   "outputs": [
    {
     "name": "stdout",
     "output_type": "stream",
     "text": [
      "Unique value: ['No' 'Yes' 'NaN']\n",
      "Value Count: 228\n"
     ]
    }
   ],
   "source": [
    "# fix the extra space\n",
    "df['Festival'] = list(map(lambda x: x.strip(), df['Festival']))\n",
    "print(f\"Unique value: {df['Festival'].unique()}\")\n",
    "\n",
    "# fix 'NaN' with np.nan\n",
    "df['Festival'] = df['Festival'].replace('NaN', np.nan)\n",
    "print(f\"Value Count: {df['Festival'].isnull().sum()}\")"
   ]
  },
  {
   "cell_type": "markdown",
   "metadata": {},
   "source": [
    "<font color = 'orange'>\n",
    "\n",
    "#### <b> multiple_deliveries\n",
    "- handle NaN\n",
    "- change data type"
   ]
  },
  {
   "cell_type": "code",
   "execution_count": 333,
   "metadata": {},
   "outputs": [
    {
     "data": {
      "text/plain": [
       "array(['0', '1', '3', 'NaN ', '2'], dtype=object)"
      ]
     },
     "execution_count": 333,
     "metadata": {},
     "output_type": "execute_result"
    }
   ],
   "source": [
    "df['multiple_deliveries'].unique()"
   ]
  },
  {
   "cell_type": "code",
   "execution_count": 335,
   "metadata": {},
   "outputs": [
    {
     "data": {
      "text/plain": [
       "multiple_deliveries\n",
       "1       28159\n",
       "0       14095\n",
       "2        1985\n",
       "NaN       993\n",
       "3         361\n",
       "Name: count, dtype: int64"
      ]
     },
     "execution_count": 335,
     "metadata": {},
     "output_type": "execute_result"
    }
   ],
   "source": [
    "df['multiple_deliveries'].value_counts()"
   ]
  },
  {
   "cell_type": "code",
   "execution_count": 337,
   "metadata": {},
   "outputs": [
    {
     "name": "stdout",
     "output_type": "stream",
     "text": [
      "Value Count: 993\n"
     ]
    }
   ],
   "source": [
    "# fix 'NaN ' with np.nan\n",
    "df['multiple_deliveries'] = df['multiple_deliveries'].replace('NaN ', np.nan)\n",
    "print(f\"Value Count: {df['multiple_deliveries'].isnull().sum()}\")"
   ]
  },
  {
   "cell_type": "code",
   "execution_count": 338,
   "metadata": {},
   "outputs": [],
   "source": [
    "# fixing data type\n",
    "df['multiple_deliveries'] = df['multiple_deliveries'].astype('Int64')"
   ]
  },
  {
   "cell_type": "code",
   "execution_count": 339,
   "metadata": {},
   "outputs": [],
   "source": [
    "# as we dont have any clear explanation we'll convert 1,2,3 as 1 which means multiple deliveries\n",
    "# and 0 means single delivery \n",
    "df['multiple_deliveries'] = df['multiple_deliveries'].apply(lambda x : x if x == 0 or np.isnan(x) else 1)"
   ]
  },
  {
   "cell_type": "code",
   "execution_count": 340,
   "metadata": {},
   "outputs": [
    {
     "data": {
      "text/plain": [
       "array([ 0.,  1., nan])"
      ]
     },
     "execution_count": 340,
     "metadata": {},
     "output_type": "execute_result"
    }
   ],
   "source": [
    "df['multiple_deliveries'].unique()"
   ]
  },
  {
   "cell_type": "markdown",
   "metadata": {},
   "source": [
    "<font color = 'orange'>\n",
    "\n",
    "#### <b> Type_of_vehicle\n",
    "- handle extra space at suffix\n",
    "- change data type"
   ]
  },
  {
   "cell_type": "code",
   "execution_count": 342,
   "metadata": {},
   "outputs": [
    {
     "data": {
      "text/plain": [
       "array(['motorcycle ', 'scooter ', 'electric_scooter ', 'bicycle '],\n",
       "      dtype=object)"
      ]
     },
     "execution_count": 342,
     "metadata": {},
     "output_type": "execute_result"
    }
   ],
   "source": [
    "df['Type_of_vehicle'].unique()"
   ]
  },
  {
   "cell_type": "code",
   "execution_count": 343,
   "metadata": {},
   "outputs": [
    {
     "name": "stdout",
     "output_type": "stream",
     "text": [
      "Unique value: ['motorcycle' 'scooter' 'electric_scooter' 'bicycle']\n"
     ]
    }
   ],
   "source": [
    "# fix the extra space\n",
    "df['Type_of_vehicle'] = list(map(lambda x: x.strip(), df['Type_of_vehicle']))\n",
    "print(f\"Unique value: {df['Type_of_vehicle'].unique()}\")"
   ]
  },
  {
   "cell_type": "markdown",
   "metadata": {},
   "source": [
    "<font color = 'orange'>\n",
    "\n",
    "#### <b> Type_of_order\n",
    "- handle extra space at suffix\n",
    "- change data type"
   ]
  },
  {
   "cell_type": "code",
   "execution_count": 344,
   "metadata": {},
   "outputs": [
    {
     "data": {
      "text/plain": [
       "array(['Snack ', 'Drinks ', 'Buffet ', 'Meal '], dtype=object)"
      ]
     },
     "execution_count": 344,
     "metadata": {},
     "output_type": "execute_result"
    }
   ],
   "source": [
    "df['Type_of_order'].unique()"
   ]
  },
  {
   "cell_type": "code",
   "execution_count": 345,
   "metadata": {},
   "outputs": [
    {
     "name": "stdout",
     "output_type": "stream",
     "text": [
      "Unique value: ['Snack' 'Drinks' 'Buffet' 'Meal']\n"
     ]
    }
   ],
   "source": [
    "# fix the extra space\n",
    "df['Type_of_order'] = list(map(lambda x: x.strip(), df['Type_of_order']))\n",
    "print(f\"Unique value: {df['Type_of_order'].unique()}\")"
   ]
  },
  {
   "cell_type": "markdown",
   "metadata": {},
   "source": [
    "<font color = 'orange'>\n",
    "\n",
    "#### <b> Road_traffic_density\n",
    "- handle NaN\n",
    "- handle extra space at suffix\n",
    "- change data type"
   ]
  },
  {
   "cell_type": "code",
   "execution_count": 346,
   "metadata": {},
   "outputs": [
    {
     "data": {
      "text/plain": [
       "array(['High ', 'Jam ', 'Low ', 'Medium ', 'NaN '], dtype=object)"
      ]
     },
     "execution_count": 346,
     "metadata": {},
     "output_type": "execute_result"
    }
   ],
   "source": [
    "df['Road_traffic_density'].unique()"
   ]
  },
  {
   "cell_type": "code",
   "execution_count": 347,
   "metadata": {},
   "outputs": [
    {
     "data": {
      "text/plain": [
       "Road_traffic_density\n",
       "Low        15477\n",
       "Jam        14143\n",
       "Medium     10947\n",
       "High        4425\n",
       "NaN          601\n",
       "Name: count, dtype: int64"
      ]
     },
     "execution_count": 347,
     "metadata": {},
     "output_type": "execute_result"
    }
   ],
   "source": [
    "df['Road_traffic_density'].value_counts()"
   ]
  },
  {
   "cell_type": "code",
   "execution_count": 348,
   "metadata": {},
   "outputs": [
    {
     "name": "stdout",
     "output_type": "stream",
     "text": [
      "Unique value: ['High' 'Jam' 'Low' 'Medium' 'NaN']\n",
      "Value Count: 601\n"
     ]
    }
   ],
   "source": [
    "# fix the extra space\n",
    "df['Road_traffic_density'] = list(map(lambda x: x.strip(), df['Road_traffic_density']))\n",
    "print(f\"Unique value: {df['Road_traffic_density'].unique()}\")\n",
    "\n",
    "# fix 'NaN' with np.nan\n",
    "df['Road_traffic_density'] = df['Road_traffic_density'].replace('NaN', np.nan)\n",
    "print(f\"Value Count: {df['Road_traffic_density'].isnull().sum()}\")"
   ]
  },
  {
   "cell_type": "markdown",
   "metadata": {},
   "source": [
    "<font color = 'orange'>\n",
    "\n",
    "#### <b> Delivery_person_Rattings\n",
    "- handle NaN\n",
    "- change data type"
   ]
  },
  {
   "cell_type": "code",
   "execution_count": 349,
   "metadata": {},
   "outputs": [
    {
     "data": {
      "text/plain": [
       "array(['4.9', '4.5', '4.4', '4.7', '4.6', '4.8', '4.2', '4.3', '4', '4.1',\n",
       "       '5', '3.5', 'NaN ', '3.8', '3.9', '3.7', '2.6', '2.5', '3.6',\n",
       "       '3.1', '2.7', '1', '3.2', '3.3', '6', '3.4', '2.8', '2.9', '3'],\n",
       "      dtype=object)"
      ]
     },
     "execution_count": 349,
     "metadata": {},
     "output_type": "execute_result"
    }
   ],
   "source": [
    "df['Delivery_person_Ratings'].unique()"
   ]
  },
  {
   "cell_type": "code",
   "execution_count": 350,
   "metadata": {},
   "outputs": [
    {
     "data": {
      "text/plain": [
       "1908"
      ]
     },
     "execution_count": 350,
     "metadata": {},
     "output_type": "execute_result"
    }
   ],
   "source": [
    "df[df['Delivery_person_Ratings'] == 'NaN '].shape[0]"
   ]
  },
  {
   "cell_type": "code",
   "execution_count": 351,
   "metadata": {},
   "outputs": [],
   "source": [
    "# fixing data type\n",
    "df['Delivery_person_Ratings'] = df['Delivery_person_Ratings'].astype('float')"
   ]
  },
  {
   "cell_type": "code",
   "execution_count": 352,
   "metadata": {},
   "outputs": [
    {
     "data": {
      "text/plain": [
       "np.int64(1908)"
      ]
     },
     "execution_count": 352,
     "metadata": {},
     "output_type": "execute_result"
    }
   ],
   "source": [
    "df['Delivery_person_Ratings'].isna().sum()"
   ]
  },
  {
   "cell_type": "markdown",
   "metadata": {},
   "source": [
    "<font color = 'orange'>\n",
    "\n",
    "#### <b> Delivery_person_Age\n",
    "- handle NaN\n",
    "- change data type"
   ]
  },
  {
   "cell_type": "code",
   "execution_count": 353,
   "metadata": {},
   "outputs": [
    {
     "data": {
      "text/plain": [
       "array(['37', '34', '23', '38', '32', '22', '33', '35', '36', '21', '24',\n",
       "       '29', '25', '31', '27', '26', '20', 'NaN ', '28', '39', '30', '15',\n",
       "       '50'], dtype=object)"
      ]
     },
     "execution_count": 353,
     "metadata": {},
     "output_type": "execute_result"
    }
   ],
   "source": [
    "df['Delivery_person_Age'].unique()"
   ]
  },
  {
   "cell_type": "code",
   "execution_count": 354,
   "metadata": {},
   "outputs": [
    {
     "data": {
      "text/plain": [
       "1854"
      ]
     },
     "execution_count": 354,
     "metadata": {},
     "output_type": "execute_result"
    }
   ],
   "source": [
    "# 'NaN ' is present in Delivery_person_Age column - 1854\n",
    "df[df['Delivery_person_Age'] == 'NaN '].shape[0]"
   ]
  },
  {
   "cell_type": "code",
   "execution_count": 355,
   "metadata": {},
   "outputs": [],
   "source": [
    "# fixing NaN\n",
    "df['Delivery_person_Age'] = df['Delivery_person_Age'].replace('NaN ', np.nan)\n",
    "\n",
    "# fixing data type\n",
    "df['Delivery_person_Age'] = df['Delivery_person_Age'].astype('Int64')"
   ]
  },
  {
   "cell_type": "code",
   "execution_count": 356,
   "metadata": {},
   "outputs": [
    {
     "data": {
      "text/plain": [
       "np.int64(1854)"
      ]
     },
     "execution_count": 356,
     "metadata": {},
     "output_type": "execute_result"
    }
   ],
   "source": [
    "df['Delivery_person_Age'].isnull().sum()"
   ]
  },
  {
   "cell_type": "markdown",
   "metadata": {},
   "source": [
    "<font color = 'orange'>\n",
    "\n",
    "#### <b> Weatherconditions\n",
    "- handle Nan\n",
    "- change data type"
   ]
  },
  {
   "cell_type": "code",
   "execution_count": 357,
   "metadata": {},
   "outputs": [
    {
     "data": {
      "text/plain": [
       "array(['conditions Sunny', 'conditions Stormy', 'conditions Sandstorms',\n",
       "       'conditions Cloudy', 'conditions Fog', 'conditions Windy',\n",
       "       'conditions NaN'], dtype=object)"
      ]
     },
     "execution_count": 357,
     "metadata": {},
     "output_type": "execute_result"
    }
   ],
   "source": [
    "df['Weatherconditions'].unique()"
   ]
  },
  {
   "cell_type": "code",
   "execution_count": 358,
   "metadata": {},
   "outputs": [
    {
     "data": {
      "text/plain": [
       "Weatherconditions\n",
       "conditions Fog           7654\n",
       "conditions Stormy        7586\n",
       "conditions Cloudy        7536\n",
       "conditions Sandstorms    7495\n",
       "conditions Windy         7422\n",
       "conditions Sunny         7284\n",
       "conditions NaN            616\n",
       "Name: count, dtype: int64"
      ]
     },
     "execution_count": 358,
     "metadata": {},
     "output_type": "execute_result"
    }
   ],
   "source": [
    "df['Weatherconditions'].value_counts()"
   ]
  },
  {
   "cell_type": "code",
   "execution_count": 359,
   "metadata": {},
   "outputs": [],
   "source": [
    "# fixing NaN\n",
    "df['Weatherconditions'] = df['Weatherconditions'].replace('conditions NaN', np.nan)"
   ]
  },
  {
   "cell_type": "code",
   "execution_count": 360,
   "metadata": {},
   "outputs": [
    {
     "data": {
      "text/plain": [
       "np.int64(616)"
      ]
     },
     "execution_count": 360,
     "metadata": {},
     "output_type": "execute_result"
    }
   ],
   "source": [
    "df['Weatherconditions'].isnull().sum()"
   ]
  },
  {
   "cell_type": "code",
   "execution_count": 361,
   "metadata": {},
   "outputs": [
    {
     "data": {
      "text/plain": [
       "ID                                0\n",
       "Delivery_person_ID                0\n",
       "Delivery_person_Age            1854\n",
       "Delivery_person_Ratings        1908\n",
       "Restaurant_latitude               0\n",
       "Restaurant_longitude              0\n",
       "Delivery_location_latitude        0\n",
       "Delivery_location_longitude       0\n",
       "Order_Date                        0\n",
       "Time_Orderd                       0\n",
       "Time_Order_picked                 0\n",
       "Weatherconditions               616\n",
       "Road_traffic_density            601\n",
       "Vehicle_condition                 0\n",
       "Type_of_order                     0\n",
       "Type_of_vehicle                   0\n",
       "multiple_deliveries             993\n",
       "Festival                        228\n",
       "City                           1200\n",
       "Time_taken(min)                   0\n",
       "dtype: int64"
      ]
     },
     "execution_count": 361,
     "metadata": {},
     "output_type": "execute_result"
    }
   ],
   "source": [
    "df.isnull().sum()"
   ]
  },
  {
   "cell_type": "code",
   "execution_count": 362,
   "metadata": {},
   "outputs": [
    {
     "data": {
      "text/plain": [
       "ID                             0.00\n",
       "Delivery_person_ID             0.00\n",
       "Delivery_person_Age            4.07\n",
       "Delivery_person_Ratings        4.18\n",
       "Restaurant_latitude            0.00\n",
       "Restaurant_longitude           0.00\n",
       "Delivery_location_latitude     0.00\n",
       "Delivery_location_longitude    0.00\n",
       "Order_Date                     0.00\n",
       "Time_Orderd                    0.00\n",
       "Time_Order_picked              0.00\n",
       "Weatherconditions              1.35\n",
       "Road_traffic_density           1.32\n",
       "Vehicle_condition              0.00\n",
       "Type_of_order                  0.00\n",
       "Type_of_vehicle                0.00\n",
       "multiple_deliveries            2.18\n",
       "Festival                       0.50\n",
       "City                           2.63\n",
       "Time_taken(min)                0.00\n",
       "dtype: float64"
      ]
     },
     "execution_count": 362,
     "metadata": {},
     "output_type": "execute_result"
    }
   ],
   "source": [
    "# % of NaN values\n",
    "round(df.isnull().mean() * 100, 2)"
   ]
  },
  {
   "cell_type": "markdown",
   "metadata": {},
   "source": [
    "# Feature Engineering\n",
    "\n",
    "\"restaurant - delivery location\" latitude & longitude\n",
    "- Euclidean dist\n",
    "- haversine dist\n",
    "- manhattan dist\n",
    "- estimate delivery time (assume 30 kmph)\n",
    "\n",
    "time ordered & time order picked\n",
    "- time lag\n",
    "- ordered picked time ratio\n",
    "\n",
    "order date\n",
    "- hour\n",
    "- day of week\n",
    "- month\n",
    "- quarter\n",
    "- year"
   ]
  },
  {
   "cell_type": "code",
   "execution_count": null,
   "metadata": {},
   "outputs": [],
   "source": []
  },
  {
   "cell_type": "code",
   "execution_count": null,
   "metadata": {},
   "outputs": [],
   "source": []
  },
  {
   "cell_type": "code",
   "execution_count": null,
   "metadata": {},
   "outputs": [],
   "source": []
  },
  {
   "cell_type": "code",
   "execution_count": null,
   "metadata": {},
   "outputs": [],
   "source": []
  },
  {
   "cell_type": "code",
   "execution_count": null,
   "metadata": {},
   "outputs": [],
   "source": []
  },
  {
   "cell_type": "code",
   "execution_count": null,
   "metadata": {},
   "outputs": [],
   "source": []
  },
  {
   "cell_type": "code",
   "execution_count": null,
   "metadata": {},
   "outputs": [],
   "source": []
  },
  {
   "cell_type": "code",
   "execution_count": null,
   "metadata": {},
   "outputs": [],
   "source": []
  },
  {
   "cell_type": "code",
   "execution_count": null,
   "metadata": {},
   "outputs": [],
   "source": []
  },
  {
   "cell_type": "code",
   "execution_count": null,
   "metadata": {},
   "outputs": [],
   "source": []
  }
 ],
 "metadata": {
  "kernelspec": {
   "display_name": "venv",
   "language": "python",
   "name": "python3"
  },
  "language_info": {
   "codemirror_mode": {
    "name": "ipython",
    "version": 3
   },
   "file_extension": ".py",
   "mimetype": "text/x-python",
   "name": "python",
   "nbconvert_exporter": "python",
   "pygments_lexer": "ipython3",
   "version": "3.9.2"
  }
 },
 "nbformat": 4,
 "nbformat_minor": 2
}
