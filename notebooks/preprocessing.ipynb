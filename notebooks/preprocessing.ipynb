{
 "cells": [
  {
   "cell_type": "code",
   "execution_count": 569,
   "metadata": {},
   "outputs": [],
   "source": [
    "import missingno\n",
    "import pathlib\n",
    "import pandas as pd\n",
    "import numpy as np\n",
    "import seaborn as sns\n",
    "import matplotlib.pyplot as plt"
   ]
  },
  {
   "cell_type": "code",
   "execution_count": 570,
   "metadata": {},
   "outputs": [],
   "source": [
    "data_dir = pathlib.Path().absolute().parent.as_posix() + \"/data/raw/train.csv\"\n",
    "\n",
    "df = pd.read_csv(data_dir)"
   ]
  },
  {
   "cell_type": "code",
   "execution_count": 361,
   "metadata": {},
   "outputs": [
    {
     "data": {
      "text/plain": [
       "(45593, 20)"
      ]
     },
     "execution_count": 361,
     "metadata": {},
     "output_type": "execute_result"
    }
   ],
   "source": [
    "df.shape"
   ]
  },
  {
   "cell_type": "code",
   "execution_count": 362,
   "metadata": {},
   "outputs": [],
   "source": [
    "# drop ID & Delivery_pperson_id\n",
    "df.drop(columns=[\"ID\", \"Delivery_person_ID\"], inplace=True)\n",
    "\n",
    "# rename columns\n",
    "df.rename(\n",
    "    columns={\"Delivery_person_Age\": \"Age\", \"Delivery_person_Ratings\": \"Ratings\"},\n",
    "    inplace=True,\n",
    ")"
   ]
  },
  {
   "cell_type": "code",
   "execution_count": 363,
   "metadata": {},
   "outputs": [
    {
     "data": {
      "text/html": [
       "<div>\n",
       "<style scoped>\n",
       "    .dataframe tbody tr th:only-of-type {\n",
       "        vertical-align: middle;\n",
       "    }\n",
       "\n",
       "    .dataframe tbody tr th {\n",
       "        vertical-align: top;\n",
       "    }\n",
       "\n",
       "    .dataframe thead th {\n",
       "        text-align: right;\n",
       "    }\n",
       "</style>\n",
       "<table border=\"1\" class=\"dataframe\">\n",
       "  <thead>\n",
       "    <tr style=\"text-align: right;\">\n",
       "      <th></th>\n",
       "      <th>Age</th>\n",
       "      <th>Ratings</th>\n",
       "      <th>Restaurant_latitude</th>\n",
       "      <th>Restaurant_longitude</th>\n",
       "      <th>Delivery_location_latitude</th>\n",
       "      <th>Delivery_location_longitude</th>\n",
       "      <th>Order_Date</th>\n",
       "      <th>Time_Orderd</th>\n",
       "      <th>Time_Order_picked</th>\n",
       "      <th>Weatherconditions</th>\n",
       "      <th>Road_traffic_density</th>\n",
       "      <th>Vehicle_condition</th>\n",
       "      <th>Type_of_order</th>\n",
       "      <th>Type_of_vehicle</th>\n",
       "      <th>multiple_deliveries</th>\n",
       "      <th>Festival</th>\n",
       "      <th>City</th>\n",
       "      <th>Time_taken(min)</th>\n",
       "    </tr>\n",
       "  </thead>\n",
       "  <tbody>\n",
       "    <tr>\n",
       "      <th>36714</th>\n",
       "      <td>27</td>\n",
       "      <td>4.1</td>\n",
       "      <td>12.906229</td>\n",
       "      <td>77.596791</td>\n",
       "      <td>13.016229</td>\n",
       "      <td>77.706791</td>\n",
       "      <td>31-03-2022</td>\n",
       "      <td>17:25:00</td>\n",
       "      <td>17:35:00</td>\n",
       "      <td>conditions Fog</td>\n",
       "      <td>Medium</td>\n",
       "      <td>1</td>\n",
       "      <td>Drinks</td>\n",
       "      <td>scooter</td>\n",
       "      <td>1</td>\n",
       "      <td>No</td>\n",
       "      <td>Metropolitian</td>\n",
       "      <td>(min) 32</td>\n",
       "    </tr>\n",
       "    <tr>\n",
       "      <th>12236</th>\n",
       "      <td>26</td>\n",
       "      <td>4.8</td>\n",
       "      <td>23.214294</td>\n",
       "      <td>77.435361</td>\n",
       "      <td>23.284294</td>\n",
       "      <td>77.505361</td>\n",
       "      <td>12-02-2022</td>\n",
       "      <td>19:55:00</td>\n",
       "      <td>20:00:00</td>\n",
       "      <td>conditions Windy</td>\n",
       "      <td>Jam</td>\n",
       "      <td>2</td>\n",
       "      <td>Snack</td>\n",
       "      <td>scooter</td>\n",
       "      <td>0</td>\n",
       "      <td>No</td>\n",
       "      <td>Metropolitian</td>\n",
       "      <td>(min) 17</td>\n",
       "    </tr>\n",
       "    <tr>\n",
       "      <th>5191</th>\n",
       "      <td>21</td>\n",
       "      <td>4.6</td>\n",
       "      <td>11.022298</td>\n",
       "      <td>76.998349</td>\n",
       "      <td>11.052298</td>\n",
       "      <td>77.028349</td>\n",
       "      <td>17-03-2022</td>\n",
       "      <td>20:35:00</td>\n",
       "      <td>20:40:00</td>\n",
       "      <td>conditions Fog</td>\n",
       "      <td>Jam</td>\n",
       "      <td>0</td>\n",
       "      <td>Meal</td>\n",
       "      <td>motorcycle</td>\n",
       "      <td>1</td>\n",
       "      <td>No</td>\n",
       "      <td>Metropolitian</td>\n",
       "      <td>(min) 25</td>\n",
       "    </tr>\n",
       "  </tbody>\n",
       "</table>\n",
       "</div>"
      ],
      "text/plain": [
       "      Age Ratings  Restaurant_latitude  Restaurant_longitude  \\\n",
       "36714  27     4.1            12.906229             77.596791   \n",
       "12236  26     4.8            23.214294             77.435361   \n",
       "5191   21     4.6            11.022298             76.998349   \n",
       "\n",
       "       Delivery_location_latitude  Delivery_location_longitude  Order_Date  \\\n",
       "36714                   13.016229                    77.706791  31-03-2022   \n",
       "12236                   23.284294                    77.505361  12-02-2022   \n",
       "5191                    11.052298                    77.028349  17-03-2022   \n",
       "\n",
       "      Time_Orderd Time_Order_picked Weatherconditions Road_traffic_density  \\\n",
       "36714    17:25:00          17:35:00    conditions Fog              Medium    \n",
       "12236    19:55:00          20:00:00  conditions Windy                 Jam    \n",
       "5191     20:35:00          20:40:00    conditions Fog                 Jam    \n",
       "\n",
       "       Vehicle_condition Type_of_order Type_of_vehicle multiple_deliveries  \\\n",
       "36714                  1       Drinks         scooter                    1   \n",
       "12236                  2        Snack         scooter                    0   \n",
       "5191                   0         Meal      motorcycle                    1   \n",
       "\n",
       "      Festival            City Time_taken(min)  \n",
       "36714      No   Metropolitian         (min) 32  \n",
       "12236      No   Metropolitian         (min) 17  \n",
       "5191       No   Metropolitian         (min) 25  "
      ]
     },
     "execution_count": 363,
     "metadata": {},
     "output_type": "execute_result"
    }
   ],
   "source": [
    "df.sample(3)"
   ]
  },
  {
   "cell_type": "code",
   "execution_count": 364,
   "metadata": {},
   "outputs": [
    {
     "data": {
      "text/plain": [
       "(45593, 18)"
      ]
     },
     "execution_count": 364,
     "metadata": {},
     "output_type": "execute_result"
    }
   ],
   "source": [
    "df.shape"
   ]
  },
  {
   "cell_type": "markdown",
   "metadata": {},
   "source": [
    "<font color = 'orange'>\n",
    "\n",
    "#### <b> Order_Date\n",
    "\n",
    "- change data type\n"
   ]
  },
  {
   "cell_type": "code",
   "execution_count": 440,
   "metadata": {},
   "outputs": [],
   "source": [
    "df[\"Order_Date\"] = pd.to_datetime(df[\"Order_Date\"], format=\"%d-%m-%Y\")"
   ]
  },
  {
   "cell_type": "markdown",
   "metadata": {},
   "source": [
    "<font color = 'orange'>\n",
    "\n",
    "#### <b> Time_Orderd\n",
    "\n",
    "- handle NaN values\n",
    "- change data type\n"
   ]
  },
  {
   "cell_type": "code",
   "execution_count": 365,
   "metadata": {},
   "outputs": [
    {
     "name": "stdout",
     "output_type": "stream",
     "text": [
      "Start Date: 01-03-2022 \n",
      "End Date: 31-03-2022\n"
     ]
    }
   ],
   "source": [
    "# data is of March-23\n",
    "print(\n",
    "    f\"Start Date: {df['Order_Date'].min()} \\n\\\n",
    "End Date: {df['Order_Date'].max()}\"\n",
    ")"
   ]
  },
  {
   "cell_type": "code",
   "execution_count": 366,
   "metadata": {},
   "outputs": [],
   "source": [
    "df[\"Time_Orderd\"] = df[\"Time_Orderd\"].replace(\"NaN \", np.nan)\n",
    "df[\"Time_Orderd\"] = pd.to_datetime(df[\"Time_Orderd\"], format=\"%H:%M:%S\").dt.time"
   ]
  },
  {
   "cell_type": "code",
   "execution_count": 367,
   "metadata": {},
   "outputs": [],
   "source": [
    "# handle NaN"
   ]
  },
  {
   "cell_type": "markdown",
   "metadata": {},
   "source": [
    "<font color = 'orange'>\n",
    "\n",
    "#### <b> Time_Order_picked\n",
    "\n",
    "- change data type\n"
   ]
  },
  {
   "cell_type": "code",
   "execution_count": 368,
   "metadata": {},
   "outputs": [],
   "source": [
    "df[\"Time_Order_picked\"] = pd.to_datetime(\n",
    "    df[\"Time_Order_picked\"], format=\"%H:%M:%S\"\n",
    ").dt.time"
   ]
  },
  {
   "cell_type": "markdown",
   "metadata": {},
   "source": [
    "<font color = 'orange'>\n",
    "\n",
    "#### <b> Vehicle_condition\n",
    "\n",
    "- change data type\n"
   ]
  },
  {
   "cell_type": "code",
   "execution_count": 369,
   "metadata": {},
   "outputs": [],
   "source": [
    "df[\"Vehicle_condition\"] = df[\"Vehicle_condition\"].astype(\"category\")"
   ]
  },
  {
   "cell_type": "markdown",
   "metadata": {},
   "source": [
    "<font color = 'orange'>\n",
    "\n",
    "#### <b> City\n",
    "\n",
    "- handle NaN values\n",
    "- handle extra space at suffix\n",
    "- change data type\n"
   ]
  },
  {
   "cell_type": "code",
   "execution_count": 370,
   "metadata": {},
   "outputs": [
    {
     "name": "stdout",
     "output_type": "stream",
     "text": [
      "Unique Valeus: ['Urban ' 'Metropolitian ' 'Semi-Urban ' 'NaN '] \n",
      "\n",
      "NaN Count: 1200 \n",
      "\n",
      "Value Count: City\n",
      "Metropolitian     34093\n",
      "Urban             10136\n",
      "NaN                1200\n",
      "Semi-Urban          164\n",
      "Name: count, dtype: int64\n"
     ]
    }
   ],
   "source": [
    "print(\n",
    "    f\"Unique Valeus: {df['City'].unique()} \\n\\nNaN Count: {df[df['City'] == 'NaN '].shape[0]} \\n\\nValue Count: {df['City'].value_counts()}\"\n",
    ")"
   ]
  },
  {
   "cell_type": "code",
   "execution_count": 371,
   "metadata": {},
   "outputs": [
    {
     "data": {
      "text/plain": [
       "array(['Urban', 'Metropolitian', 'Semi-Urban', 'NaN'], dtype=object)"
      ]
     },
     "execution_count": 371,
     "metadata": {},
     "output_type": "execute_result"
    }
   ],
   "source": [
    "# fix extra spaces\n",
    "df[\"City\"] = list(map(lambda x: x.strip(), df[\"City\"]))\n",
    "\n",
    "df[\"City\"].unique()"
   ]
  },
  {
   "cell_type": "code",
   "execution_count": 372,
   "metadata": {},
   "outputs": [],
   "source": [
    "# fix 'NaN' with np.nan\n",
    "df[\"City\"] = df[\"City\"].replace(\"NaN\", np.nan)"
   ]
  },
  {
   "cell_type": "code",
   "execution_count": 373,
   "metadata": {},
   "outputs": [
    {
     "data": {
      "text/plain": [
       "np.int64(1200)"
      ]
     },
     "execution_count": 373,
     "metadata": {},
     "output_type": "execute_result"
    }
   ],
   "source": [
    "df[\"City\"].isnull().sum()"
   ]
  },
  {
   "cell_type": "code",
   "execution_count": 374,
   "metadata": {},
   "outputs": [],
   "source": [
    "# NaN replaced by mode\n",
    "df[\"City\"] = df[\"City\"].fillna(value=df[\"City\"].value_counts().index[0])"
   ]
  },
  {
   "cell_type": "markdown",
   "metadata": {},
   "source": [
    "<font color = 'orange'>\n",
    "\n",
    "#### <b> Festival\n",
    "\n",
    "- handle NaN\n",
    "- handle extra space at suffix\n",
    "- change data type\n"
   ]
  },
  {
   "cell_type": "code",
   "execution_count": 375,
   "metadata": {},
   "outputs": [
    {
     "name": "stdout",
     "output_type": "stream",
     "text": [
      "Unique Valeus: ['No ' 'Yes ' 'NaN '] \n",
      "\n",
      "NaN Count: 228 \n",
      "\n",
      "Value Count: Festival\n",
      "No      44469\n",
      "Yes       896\n",
      "NaN       228\n",
      "Name: count, dtype: int64\n"
     ]
    }
   ],
   "source": [
    "print(\n",
    "    f\"Unique Valeus: {df['Festival'].unique()} \\n\\nNaN Count: {df[df['Festival'] == 'NaN '].shape[0]} \\n\\nValue Count: {df['Festival'].value_counts()}\"\n",
    ")"
   ]
  },
  {
   "cell_type": "code",
   "execution_count": 376,
   "metadata": {},
   "outputs": [
    {
     "name": "stdout",
     "output_type": "stream",
     "text": [
      "Unique value: ['No' 'Yes' 'NaN']\n",
      "Value Count: 228\n"
     ]
    }
   ],
   "source": [
    "# fix the extra space\n",
    "df[\"Festival\"] = list(map(lambda x: x.strip(), df[\"Festival\"]))\n",
    "print(f\"Unique value: {df['Festival'].unique()}\")\n",
    "\n",
    "# fix 'NaN' with np.nan\n",
    "df[\"Festival\"] = df[\"Festival\"].replace(\"NaN\", np.nan)\n",
    "print(f\"Value Count: {df['Festival'].isnull().sum()}\")"
   ]
  },
  {
   "cell_type": "code",
   "execution_count": 377,
   "metadata": {},
   "outputs": [],
   "source": [
    "# NaN replaced by mode of column\n",
    "df[\"Festival\"] = df[\"Festival\"].fillna(df[\"Festival\"].value_counts().index[0])"
   ]
  },
  {
   "cell_type": "code",
   "execution_count": 378,
   "metadata": {},
   "outputs": [
    {
     "data": {
      "text/plain": [
       "Festival\n",
       "No     44697\n",
       "Yes      896\n",
       "Name: count, dtype: int64"
      ]
     },
     "execution_count": 378,
     "metadata": {},
     "output_type": "execute_result"
    }
   ],
   "source": [
    "df[\"Festival\"].value_counts()"
   ]
  },
  {
   "cell_type": "markdown",
   "metadata": {},
   "source": [
    "<font color = 'orange'>\n",
    "\n",
    "#### <b> multiple_deliveries\n",
    "\n",
    "- handle NaN\n",
    "- change data type\n"
   ]
  },
  {
   "cell_type": "code",
   "execution_count": 379,
   "metadata": {},
   "outputs": [
    {
     "data": {
      "text/plain": [
       "array(['0', '1', '3', 'NaN ', '2'], dtype=object)"
      ]
     },
     "execution_count": 379,
     "metadata": {},
     "output_type": "execute_result"
    }
   ],
   "source": [
    "df[\"multiple_deliveries\"].unique()"
   ]
  },
  {
   "cell_type": "code",
   "execution_count": 380,
   "metadata": {},
   "outputs": [
    {
     "data": {
      "text/plain": [
       "multiple_deliveries\n",
       "1       28159\n",
       "0       14095\n",
       "2        1985\n",
       "NaN       993\n",
       "3         361\n",
       "Name: count, dtype: int64"
      ]
     },
     "execution_count": 380,
     "metadata": {},
     "output_type": "execute_result"
    }
   ],
   "source": [
    "df[\"multiple_deliveries\"].value_counts()"
   ]
  },
  {
   "cell_type": "code",
   "execution_count": 381,
   "metadata": {},
   "outputs": [
    {
     "name": "stdout",
     "output_type": "stream",
     "text": [
      "Value Count: 993\n"
     ]
    }
   ],
   "source": [
    "# fix 'NaN ' with np.nan\n",
    "df[\"multiple_deliveries\"] = df[\"multiple_deliveries\"].replace(\"NaN \", np.nan)\n",
    "print(f\"Value Count: {df['multiple_deliveries'].isnull().sum()}\")"
   ]
  },
  {
   "cell_type": "code",
   "execution_count": 382,
   "metadata": {},
   "outputs": [],
   "source": [
    "# fixing data type\n",
    "df[\"multiple_deliveries\"] = df[\"multiple_deliveries\"].astype(\"Int64\")"
   ]
  },
  {
   "cell_type": "code",
   "execution_count": 383,
   "metadata": {},
   "outputs": [],
   "source": [
    "# as we dont have any clear explanation we'll convert 1,2,3 as 1 which means multiple deliveries\n",
    "# and 0 means single delivery\n",
    "df[\"multiple_deliveries\"] = df[\"multiple_deliveries\"].apply(\n",
    "    lambda x: x if x == 0 or np.isnan(x) else 1\n",
    ")"
   ]
  },
  {
   "cell_type": "code",
   "execution_count": 384,
   "metadata": {},
   "outputs": [
    {
     "data": {
      "text/plain": [
       "array([ 0.,  1., nan])"
      ]
     },
     "execution_count": 384,
     "metadata": {},
     "output_type": "execute_result"
    }
   ],
   "source": [
    "df[\"multiple_deliveries\"].unique()"
   ]
  },
  {
   "cell_type": "code",
   "execution_count": 385,
   "metadata": {},
   "outputs": [
    {
     "data": {
      "text/plain": [
       "multiple_deliveries\n",
       "1.0    30505\n",
       "0.0    14095\n",
       "Name: count, dtype: int64"
      ]
     },
     "execution_count": 385,
     "metadata": {},
     "output_type": "execute_result"
    }
   ],
   "source": [
    "df[\"multiple_deliveries\"].value_counts()"
   ]
  },
  {
   "cell_type": "code",
   "execution_count": 386,
   "metadata": {},
   "outputs": [
    {
     "data": {
      "text/plain": [
       "np.int64(993)"
      ]
     },
     "execution_count": 386,
     "metadata": {},
     "output_type": "execute_result"
    }
   ],
   "source": [
    "df[\"multiple_deliveries\"].isna().sum()"
   ]
  },
  {
   "cell_type": "code",
   "execution_count": 387,
   "metadata": {},
   "outputs": [
    {
     "name": "stderr",
     "output_type": "stream",
     "text": [
      "C:\\Users\\lenovo\\AppData\\Local\\Temp\\ipykernel_18160\\4235229862.py:1: FutureWarning: A value is trying to be set on a copy of a DataFrame or Series through chained assignment using an inplace method.\n",
      "The behavior will change in pandas 3.0. This inplace method will never work because the intermediate object on which we are setting values always behaves as a copy.\n",
      "\n",
      "For example, when doing 'df[col].method(value, inplace=True)', try using 'df.method({col: value}, inplace=True)' or df[col] = df[col].method(value) instead, to perform the operation inplace on the original object.\n",
      "\n",
      "\n",
      "  df[\"multiple_deliveries\"].fillna(value=1, inplace=True)\n"
     ]
    }
   ],
   "source": [
    "df[\"multiple_deliveries\"].fillna(value=1, inplace=True)"
   ]
  },
  {
   "cell_type": "code",
   "execution_count": 388,
   "metadata": {},
   "outputs": [
    {
     "data": {
      "text/plain": [
       "multiple_deliveries\n",
       "1.0    31498\n",
       "0.0    14095\n",
       "Name: count, dtype: int64"
      ]
     },
     "execution_count": 388,
     "metadata": {},
     "output_type": "execute_result"
    }
   ],
   "source": [
    "df[\"multiple_deliveries\"].value_counts()"
   ]
  },
  {
   "cell_type": "markdown",
   "metadata": {},
   "source": [
    "<font color = 'orange'>\n",
    "\n",
    "#### <b> Type_of_vehicle\n",
    "\n",
    "- handle extra space at suffix\n",
    "- change data type\n"
   ]
  },
  {
   "cell_type": "code",
   "execution_count": 389,
   "metadata": {},
   "outputs": [
    {
     "data": {
      "text/plain": [
       "array(['motorcycle ', 'scooter ', 'electric_scooter ', 'bicycle '],\n",
       "      dtype=object)"
      ]
     },
     "execution_count": 389,
     "metadata": {},
     "output_type": "execute_result"
    }
   ],
   "source": [
    "df[\"Type_of_vehicle\"].unique()"
   ]
  },
  {
   "cell_type": "code",
   "execution_count": 390,
   "metadata": {},
   "outputs": [
    {
     "name": "stdout",
     "output_type": "stream",
     "text": [
      "Unique value: ['motorcycle' 'scooter' 'electric_scooter' 'bicycle']\n"
     ]
    }
   ],
   "source": [
    "# fix the extra space\n",
    "df[\"Type_of_vehicle\"] = list(map(lambda x: x.strip(), df[\"Type_of_vehicle\"]))\n",
    "print(f\"Unique value: {df['Type_of_vehicle'].unique()}\")"
   ]
  },
  {
   "cell_type": "markdown",
   "metadata": {},
   "source": [
    "<font color = 'orange'>\n",
    "\n",
    "#### <b> Type_of_order\n",
    "\n",
    "- handle extra space at suffix\n",
    "- change data type\n"
   ]
  },
  {
   "cell_type": "code",
   "execution_count": 391,
   "metadata": {},
   "outputs": [
    {
     "data": {
      "text/plain": [
       "array(['Snack ', 'Drinks ', 'Buffet ', 'Meal '], dtype=object)"
      ]
     },
     "execution_count": 391,
     "metadata": {},
     "output_type": "execute_result"
    }
   ],
   "source": [
    "df[\"Type_of_order\"].unique()"
   ]
  },
  {
   "cell_type": "code",
   "execution_count": 392,
   "metadata": {},
   "outputs": [
    {
     "name": "stdout",
     "output_type": "stream",
     "text": [
      "Unique value: ['Snack' 'Drinks' 'Buffet' 'Meal']\n"
     ]
    }
   ],
   "source": [
    "# fix the extra space\n",
    "df[\"Type_of_order\"] = list(map(lambda x: x.strip(), df[\"Type_of_order\"]))\n",
    "print(f\"Unique value: {df['Type_of_order'].unique()}\")"
   ]
  },
  {
   "cell_type": "markdown",
   "metadata": {},
   "source": [
    "<font color = 'orange'>\n",
    "\n",
    "#### <b> Road_traffic_density\n",
    "\n",
    "- handle NaN\n",
    "- handle extra space at suffix\n",
    "- change data type\n"
   ]
  },
  {
   "cell_type": "code",
   "execution_count": 393,
   "metadata": {},
   "outputs": [
    {
     "data": {
      "text/plain": [
       "array(['High ', 'Jam ', 'Low ', 'Medium ', 'NaN '], dtype=object)"
      ]
     },
     "execution_count": 393,
     "metadata": {},
     "output_type": "execute_result"
    }
   ],
   "source": [
    "df[\"Road_traffic_density\"].unique()"
   ]
  },
  {
   "cell_type": "code",
   "execution_count": 394,
   "metadata": {},
   "outputs": [
    {
     "data": {
      "text/plain": [
       "Road_traffic_density\n",
       "Low        15477\n",
       "Jam        14143\n",
       "Medium     10947\n",
       "High        4425\n",
       "NaN          601\n",
       "Name: count, dtype: int64"
      ]
     },
     "execution_count": 394,
     "metadata": {},
     "output_type": "execute_result"
    }
   ],
   "source": [
    "df[\"Road_traffic_density\"].value_counts()"
   ]
  },
  {
   "cell_type": "code",
   "execution_count": 395,
   "metadata": {},
   "outputs": [
    {
     "name": "stdout",
     "output_type": "stream",
     "text": [
      "Unique value: ['High' 'Jam' 'Low' 'Medium' 'NaN']\n",
      "Value Count: 601\n"
     ]
    }
   ],
   "source": [
    "# fix the extra space\n",
    "df[\"Road_traffic_density\"] = list(map(lambda x: x.strip(), df[\"Road_traffic_density\"]))\n",
    "print(f\"Unique value: {df['Road_traffic_density'].unique()}\")\n",
    "\n",
    "# fix 'NaN' with np.nan\n",
    "df[\"Road_traffic_density\"] = df[\"Road_traffic_density\"].replace(\"NaN\", np.nan)\n",
    "print(f\"Value Count: {df['Road_traffic_density'].isnull().sum()}\")"
   ]
  },
  {
   "cell_type": "code",
   "execution_count": 396,
   "metadata": {},
   "outputs": [],
   "source": [
    "df[\"Road_traffic_density\"] = df[\"Road_traffic_density\"].fillna(value=\"Low\")"
   ]
  },
  {
   "cell_type": "code",
   "execution_count": 397,
   "metadata": {},
   "outputs": [
    {
     "data": {
      "text/plain": [
       "Road_traffic_density\n",
       "Low       16078\n",
       "Jam       14143\n",
       "Medium    10947\n",
       "High       4425\n",
       "Name: count, dtype: int64"
      ]
     },
     "execution_count": 397,
     "metadata": {},
     "output_type": "execute_result"
    }
   ],
   "source": [
    "df[\"Road_traffic_density\"].value_counts()"
   ]
  },
  {
   "cell_type": "markdown",
   "metadata": {},
   "source": [
    "<font color = 'orange'>\n",
    "\n",
    "#### <b> Delivery_person_Rattings\n",
    "\n",
    "- handle NaN\n",
    "- change data type\n"
   ]
  },
  {
   "cell_type": "code",
   "execution_count": 398,
   "metadata": {},
   "outputs": [
    {
     "data": {
      "text/plain": [
       "array(['4.9', '4.5', '4.4', '4.7', '4.6', '4.8', '4.2', '4.3', '4', '4.1',\n",
       "       '5', '3.5', 'NaN ', '3.8', '3.9', '3.7', '2.6', '2.5', '3.6',\n",
       "       '3.1', '2.7', '1', '3.2', '3.3', '6', '3.4', '2.8', '2.9', '3'],\n",
       "      dtype=object)"
      ]
     },
     "execution_count": 398,
     "metadata": {},
     "output_type": "execute_result"
    }
   ],
   "source": [
    "df[\"Ratings\"].unique()"
   ]
  },
  {
   "cell_type": "code",
   "execution_count": 399,
   "metadata": {},
   "outputs": [
    {
     "data": {
      "text/plain": [
       "1908"
      ]
     },
     "execution_count": 399,
     "metadata": {},
     "output_type": "execute_result"
    }
   ],
   "source": [
    "df[df[\"Ratings\"] == \"NaN \"].shape[0]"
   ]
  },
  {
   "cell_type": "code",
   "execution_count": 400,
   "metadata": {},
   "outputs": [],
   "source": [
    "# fixing data type\n",
    "df[\"Ratings\"] = df[\"Ratings\"].astype(\"float\")"
   ]
  },
  {
   "cell_type": "code",
   "execution_count": 401,
   "metadata": {},
   "outputs": [
    {
     "data": {
      "text/plain": [
       "np.int64(1908)"
      ]
     },
     "execution_count": 401,
     "metadata": {},
     "output_type": "execute_result"
    }
   ],
   "source": [
    "df[\"Ratings\"].isna().sum()"
   ]
  },
  {
   "cell_type": "code",
   "execution_count": 402,
   "metadata": {},
   "outputs": [
    {
     "name": "stdout",
     "output_type": "stream",
     "text": [
      "Min: 1.0       \n",
      "Max: 6.0       \n",
      "Mean: 4.633780473846858       \n",
      "Median: 4.7\n"
     ]
    }
   ],
   "source": [
    "print(\n",
    "    f\"Min: {df['Ratings'].min()} \\\n",
    "      \\nMax: {df['Ratings'].max()} \\\n",
    "      \\nMean: {df['Ratings'].mean()} \\\n",
    "      \\nMedian: {df['Ratings'].median()}\"\n",
    ")"
   ]
  },
  {
   "cell_type": "code",
   "execution_count": 403,
   "metadata": {},
   "outputs": [
    {
     "data": {
      "text/plain": [
       "18"
      ]
     },
     "execution_count": 403,
     "metadata": {},
     "output_type": "execute_result"
    }
   ],
   "source": [
    "df[df[\"Ratings\"] > 5].shape[1]"
   ]
  },
  {
   "cell_type": "code",
   "execution_count": 404,
   "metadata": {},
   "outputs": [
    {
     "data": {
      "text/plain": [
       "[]"
      ]
     },
     "execution_count": 404,
     "metadata": {},
     "output_type": "execute_result"
    },
    {
     "data": {
      "image/png": "[encoded data removed]",
      "text/plain": [
       "<Figure size 600x300 with 1 Axes>"
      ]
     },
     "metadata": {},
     "output_type": "display_data"
    }
   ],
   "source": [
    "# box plot\n",
    "plt.figure(figsize=(6, 3))\n",
    "sns.boxplot(df, x=df[\"Ratings\"].astype(\"float\"), fill=False)\n",
    "plt.plot()"
   ]
  },
  {
   "cell_type": "code",
   "execution_count": 405,
   "metadata": {},
   "outputs": [
    {
     "data": {
      "image/png": "[encoded data removed]",
      "text/plain": [
       "<Figure size 640x480 with 1 Axes>"
      ]
     },
     "metadata": {},
     "output_type": "display_data"
    }
   ],
   "source": [
    "sns.kdeplot(df[\"Ratings\"])\n",
    "plt.show()"
   ]
  },
  {
   "cell_type": "code",
   "execution_count": 406,
   "metadata": {},
   "outputs": [],
   "source": [
    "# replace 6 ratting with median\n",
    "df[\"Ratings\"] = df[\"Ratings\"].replace(6, 4.7)"
   ]
  },
  {
   "cell_type": "markdown",
   "metadata": {},
   "source": [
    "<font color = 'orange'>\n",
    "\n",
    "#### <b> Age\n",
    "\n",
    "- handle NaN\n",
    "- change data type\n"
   ]
  },
  {
   "cell_type": "code",
   "execution_count": 407,
   "metadata": {},
   "outputs": [
    {
     "data": {
      "text/plain": [
       "array(['37', '34', '23', '38', '32', '22', '33', '35', '36', '21', '24',\n",
       "       '29', '25', '31', '27', '26', '20', 'NaN ', '28', '39', '30', '15',\n",
       "       '50'], dtype=object)"
      ]
     },
     "execution_count": 407,
     "metadata": {},
     "output_type": "execute_result"
    }
   ],
   "source": [
    "df[\"Age\"].unique()"
   ]
  },
  {
   "cell_type": "code",
   "execution_count": 408,
   "metadata": {},
   "outputs": [
    {
     "data": {
      "text/plain": [
       "1854"
      ]
     },
     "execution_count": 408,
     "metadata": {},
     "output_type": "execute_result"
    }
   ],
   "source": [
    "# 'NaN ' is present in Age column - 1854\n",
    "df[df[\"Age\"] == \"NaN \"].shape[0]"
   ]
  },
  {
   "cell_type": "code",
   "execution_count": 409,
   "metadata": {},
   "outputs": [],
   "source": [
    "# fixing NaN\n",
    "df[\"Age\"] = df[\"Age\"].replace(\"NaN \", np.nan)\n",
    "\n",
    "# fixing data type\n",
    "df[\"Age\"] = df[\"Age\"].astype(\"Int64\")"
   ]
  },
  {
   "cell_type": "code",
   "execution_count": 410,
   "metadata": {},
   "outputs": [
    {
     "data": {
      "text/plain": [
       "np.int64(1854)"
      ]
     },
     "execution_count": 410,
     "metadata": {},
     "output_type": "execute_result"
    }
   ],
   "source": [
    "df[\"Age\"].isnull().sum()"
   ]
  },
  {
   "cell_type": "code",
   "execution_count": 411,
   "metadata": {},
   "outputs": [
    {
     "name": "stdout",
     "output_type": "stream",
     "text": [
      "Min: 15       \n",
      "Max: 50       \n",
      "Mean: 29.567136880129862       \n",
      "Median: 30.0\n"
     ]
    }
   ],
   "source": [
    "print(\n",
    "    f\"Min: {df['Age'].min()} \\\n",
    "      \\nMax: {df['Age'].max()} \\\n",
    "      \\nMean: {df['Age'].mean()} \\\n",
    "      \\nMedian: {df['Age'].median()}\"\n",
    ")"
   ]
  },
  {
   "cell_type": "code",
   "execution_count": 412,
   "metadata": {},
   "outputs": [
    {
     "data": {
      "text/plain": [
       "[]"
      ]
     },
     "execution_count": 412,
     "metadata": {},
     "output_type": "execute_result"
    },
    {
     "data": {
      "image/png": "[encoded data removed]",
      "text/plain": [
       "<Figure size 600x300 with 1 Axes>"
      ]
     },
     "metadata": {},
     "output_type": "display_data"
    }
   ],
   "source": [
    "# box plot\n",
    "plt.figure(figsize=(6, 3))\n",
    "sns.boxplot(df, x=df[\"Age\"], fill=False)\n",
    "plt.plot()"
   ]
  },
  {
   "cell_type": "markdown",
   "metadata": {},
   "source": [
    "<font color = 'orange'>\n",
    "\n",
    "#### <b> Weatherconditions\n",
    "\n",
    "- handle Nan\n",
    "- change data type\n"
   ]
  },
  {
   "cell_type": "code",
   "execution_count": 413,
   "metadata": {},
   "outputs": [
    {
     "data": {
      "text/plain": [
       "array(['conditions Sunny', 'conditions Stormy', 'conditions Sandstorms',\n",
       "       'conditions Cloudy', 'conditions Fog', 'conditions Windy',\n",
       "       'conditions NaN'], dtype=object)"
      ]
     },
     "execution_count": 413,
     "metadata": {},
     "output_type": "execute_result"
    }
   ],
   "source": [
    "df[\"Weatherconditions\"].unique()"
   ]
  },
  {
   "cell_type": "code",
   "execution_count": 414,
   "metadata": {},
   "outputs": [
    {
     "data": {
      "text/plain": [
       "Weatherconditions\n",
       "conditions Fog           7654\n",
       "conditions Stormy        7586\n",
       "conditions Cloudy        7536\n",
       "conditions Sandstorms    7495\n",
       "conditions Windy         7422\n",
       "conditions Sunny         7284\n",
       "conditions NaN            616\n",
       "Name: count, dtype: int64"
      ]
     },
     "execution_count": 414,
     "metadata": {},
     "output_type": "execute_result"
    }
   ],
   "source": [
    "df[\"Weatherconditions\"].value_counts()"
   ]
  },
  {
   "cell_type": "code",
   "execution_count": 415,
   "metadata": {},
   "outputs": [
    {
     "data": {
      "text/plain": [
       "np.int64(0)"
      ]
     },
     "execution_count": 415,
     "metadata": {},
     "output_type": "execute_result"
    }
   ],
   "source": [
    "df[\"Weatherconditions\"].isnull().sum()"
   ]
  },
  {
   "cell_type": "code",
   "execution_count": 416,
   "metadata": {},
   "outputs": [],
   "source": [
    "# fixing category names\n",
    "df[\"Weatherconditions\"] = df[\"Weatherconditions\"].apply(lambda x: x.split(\" \")[-1])\n",
    "\n",
    "# fixing NaN\n",
    "df[\"Weatherconditions\"] = df[\"Weatherconditions\"].replace(\"NaN\", np.nan)"
   ]
  },
  {
   "cell_type": "code",
   "execution_count": 417,
   "metadata": {},
   "outputs": [
    {
     "data": {
      "text/plain": [
       "Weatherconditions\n",
       "Fog           7654\n",
       "Stormy        7586\n",
       "Cloudy        7536\n",
       "Sandstorms    7495\n",
       "Windy         7422\n",
       "Sunny         7284\n",
       "Name: count, dtype: int64"
      ]
     },
     "execution_count": 417,
     "metadata": {},
     "output_type": "execute_result"
    }
   ],
   "source": [
    "df[\"Weatherconditions\"].value_counts()"
   ]
  },
  {
   "cell_type": "code",
   "execution_count": 418,
   "metadata": {},
   "outputs": [],
   "source": [
    "df[\"Weatherconditions\"] = df[\"Weatherconditions\"].fillna(value=\"Fog\")"
   ]
  },
  {
   "cell_type": "code",
   "execution_count": 419,
   "metadata": {},
   "outputs": [
    {
     "data": {
      "text/plain": [
       "Weatherconditions\n",
       "Fog           8270\n",
       "Stormy        7586\n",
       "Cloudy        7536\n",
       "Sandstorms    7495\n",
       "Windy         7422\n",
       "Sunny         7284\n",
       "Name: count, dtype: int64"
      ]
     },
     "execution_count": 419,
     "metadata": {},
     "output_type": "execute_result"
    }
   ],
   "source": [
    "# replace NaN with Mode of Weatherconditions\n",
    "df[\"Weatherconditions\"].value_counts()"
   ]
  },
  {
   "cell_type": "code",
   "execution_count": 207,
   "metadata": {},
   "outputs": [
    {
     "data": {
      "text/plain": [
       "Age                            4.07\n",
       "Ratings                        4.18\n",
       "Restaurant_latitude            0.00\n",
       "Restaurant_longitude           0.00\n",
       "Delivery_location_latitude     0.00\n",
       "Delivery_location_longitude    0.00\n",
       "Order_Date                     0.00\n",
       "Time_Orderd                    3.80\n",
       "Time_Order_picked              0.00\n",
       "Weatherconditions              0.00\n",
       "Road_traffic_density           0.00\n",
       "Vehicle_condition              0.00\n",
       "Type_of_order                  0.00\n",
       "Type_of_vehicle                0.00\n",
       "multiple_deliveries            0.00\n",
       "Festival                       0.00\n",
       "City                           0.00\n",
       "Time_taken(min)                0.00\n",
       "dtype: float64"
      ]
     },
     "execution_count": 207,
     "metadata": {},
     "output_type": "execute_result"
    }
   ],
   "source": [
    "# % of NaN values\n",
    "round(df.isnull().mean() * 100, 2)"
   ]
  },
  {
   "cell_type": "code",
   "execution_count": 208,
   "metadata": {},
   "outputs": [
    {
     "data": {
      "text/plain": [
       "<Axes: >"
      ]
     },
     "execution_count": 208,
     "metadata": {},
     "output_type": "execute_result"
    },
    {
     "data": {
      "image/png": "[encoded data removed]",
      "text/plain": [
       "<Figure size 2500x1000 with 2 Axes>"
      ]
     },
     "metadata": {},
     "output_type": "display_data"
    }
   ],
   "source": [
    "# Age & Rating seems very correlated columns\n",
    "%matplotlib inline\n",
    "missingno.matrix(df.loc[:,['Age', 'Ratings', 'Time_Orderd']], color=(1, 0.38, 0.27))"
   ]
  },
  {
   "cell_type": "code",
   "execution_count": 220,
   "metadata": {},
   "outputs": [
    {
     "data": {
      "text/plain": [
       "<Axes: >"
      ]
     },
     "execution_count": 220,
     "metadata": {},
     "output_type": "execute_result"
    },
    {
     "data": {
      "image/png": "[encoded data removed]",
      "text/plain": [
       "<Figure size 300x300 with 2 Axes>"
      ]
     },
     "metadata": {},
     "output_type": "display_data"
    }
   ],
   "source": [
    "missingno.heatmap(df, cmap=\"PiYG\", figsize=(3, 3), fontsize=9)"
   ]
  },
  {
   "cell_type": "code",
   "execution_count": 209,
   "metadata": {},
   "outputs": [],
   "source": [
    "# sort the df for filling Order_Date with foward fill & backward fill\n",
    "df.sort_values(by=\"Order_Date\", ascending=True, inplace=True)\n",
    "df.reset_index(inplace=True, drop=True)"
   ]
  },
  {
   "cell_type": "code",
   "execution_count": 224,
   "metadata": {},
   "outputs": [
    {
     "data": {
      "text/html": [
       "<div>\n",
       "<style scoped>\n",
       "    .dataframe tbody tr th:only-of-type {\n",
       "        vertical-align: middle;\n",
       "    }\n",
       "\n",
       "    .dataframe tbody tr th {\n",
       "        vertical-align: top;\n",
       "    }\n",
       "\n",
       "    .dataframe thead th {\n",
       "        text-align: right;\n",
       "    }\n",
       "</style>\n",
       "<table border=\"1\" class=\"dataframe\">\n",
       "  <thead>\n",
       "    <tr style=\"text-align: right;\">\n",
       "      <th></th>\n",
       "      <th>Age</th>\n",
       "      <th>Ratings</th>\n",
       "      <th>Restaurant_latitude</th>\n",
       "      <th>Restaurant_longitude</th>\n",
       "      <th>Delivery_location_latitude</th>\n",
       "      <th>Delivery_location_longitude</th>\n",
       "      <th>Order_Date</th>\n",
       "      <th>Time_Orderd</th>\n",
       "      <th>Time_Order_picked</th>\n",
       "      <th>Weatherconditions</th>\n",
       "      <th>Road_traffic_density</th>\n",
       "      <th>Vehicle_condition</th>\n",
       "      <th>Type_of_order</th>\n",
       "      <th>Type_of_vehicle</th>\n",
       "      <th>multiple_deliveries</th>\n",
       "      <th>Festival</th>\n",
       "      <th>City</th>\n",
       "      <th>Time_taken(min)</th>\n",
       "    </tr>\n",
       "  </thead>\n",
       "  <tbody>\n",
       "    <tr>\n",
       "      <th>3</th>\n",
       "      <td>50</td>\n",
       "      <td>4.7</td>\n",
       "      <td>11.001852</td>\n",
       "      <td>76.976268</td>\n",
       "      <td>11.061852</td>\n",
       "      <td>77.036268</td>\n",
       "      <td>01-03-2022</td>\n",
       "      <td>NaT</td>\n",
       "      <td>17:50:00</td>\n",
       "      <td>NaN</td>\n",
       "      <td>Low</td>\n",
       "      <td>3</td>\n",
       "      <td>Meal</td>\n",
       "      <td>electric_scooter</td>\n",
       "      <td>0.0</td>\n",
       "      <td>No</td>\n",
       "      <td>Metropolitian</td>\n",
       "      <td>(min) 16</td>\n",
       "    </tr>\n",
       "    <tr>\n",
       "      <th>61</th>\n",
       "      <td>&lt;NA&gt;</td>\n",
       "      <td>NaN</td>\n",
       "      <td>13.026279</td>\n",
       "      <td>80.174568</td>\n",
       "      <td>13.086279</td>\n",
       "      <td>80.234568</td>\n",
       "      <td>01-03-2022</td>\n",
       "      <td>NaT</td>\n",
       "      <td>20:00:00</td>\n",
       "      <td>Sandstorms</td>\n",
       "      <td>Jam</td>\n",
       "      <td>0</td>\n",
       "      <td>Drinks</td>\n",
       "      <td>motorcycle</td>\n",
       "      <td>1.0</td>\n",
       "      <td>No</td>\n",
       "      <td>Metropolitian</td>\n",
       "      <td>(min) 27</td>\n",
       "    </tr>\n",
       "    <tr>\n",
       "      <th>103</th>\n",
       "      <td>&lt;NA&gt;</td>\n",
       "      <td>NaN</td>\n",
       "      <td>-12.933284</td>\n",
       "      <td>-77.615428</td>\n",
       "      <td>12.953284</td>\n",
       "      <td>77.635428</td>\n",
       "      <td>01-03-2022</td>\n",
       "      <td>NaT</td>\n",
       "      <td>11:55:00</td>\n",
       "      <td>NaN</td>\n",
       "      <td>Low</td>\n",
       "      <td>3</td>\n",
       "      <td>Buffet</td>\n",
       "      <td>scooter</td>\n",
       "      <td>1.0</td>\n",
       "      <td>No</td>\n",
       "      <td>Metropolitian</td>\n",
       "      <td>(min) 34</td>\n",
       "    </tr>\n",
       "    <tr>\n",
       "      <th>117</th>\n",
       "      <td>&lt;NA&gt;</td>\n",
       "      <td>NaN</td>\n",
       "      <td>-18.569156</td>\n",
       "      <td>73.774723</td>\n",
       "      <td>18.589156</td>\n",
       "      <td>73.794723</td>\n",
       "      <td>01-03-2022</td>\n",
       "      <td>NaT</td>\n",
       "      <td>09:55:00</td>\n",
       "      <td>Stormy</td>\n",
       "      <td>Low</td>\n",
       "      <td>1</td>\n",
       "      <td>Meal</td>\n",
       "      <td>scooter</td>\n",
       "      <td>1.0</td>\n",
       "      <td>No</td>\n",
       "      <td>Urban</td>\n",
       "      <td>(min) 22</td>\n",
       "    </tr>\n",
       "    <tr>\n",
       "      <th>136</th>\n",
       "      <td>&lt;NA&gt;</td>\n",
       "      <td>NaN</td>\n",
       "      <td>18.536562</td>\n",
       "      <td>73.896485</td>\n",
       "      <td>18.596562</td>\n",
       "      <td>73.956485</td>\n",
       "      <td>01-03-2022</td>\n",
       "      <td>NaT</td>\n",
       "      <td>20:50:00</td>\n",
       "      <td>Windy</td>\n",
       "      <td>Jam</td>\n",
       "      <td>1</td>\n",
       "      <td>Snack</td>\n",
       "      <td>motorcycle</td>\n",
       "      <td>1.0</td>\n",
       "      <td>No</td>\n",
       "      <td>Metropolitian</td>\n",
       "      <td>(min) 31</td>\n",
       "    </tr>\n",
       "    <tr>\n",
       "      <th>171</th>\n",
       "      <td>&lt;NA&gt;</td>\n",
       "      <td>NaN</td>\n",
       "      <td>17.438263</td>\n",
       "      <td>78.397865</td>\n",
       "      <td>17.458263</td>\n",
       "      <td>78.417865</td>\n",
       "      <td>01-03-2022</td>\n",
       "      <td>NaT</td>\n",
       "      <td>10:35:00</td>\n",
       "      <td>Stormy</td>\n",
       "      <td>Low</td>\n",
       "      <td>1</td>\n",
       "      <td>Meal</td>\n",
       "      <td>scooter</td>\n",
       "      <td>1.0</td>\n",
       "      <td>No</td>\n",
       "      <td>Metropolitian</td>\n",
       "      <td>(min) 22</td>\n",
       "    </tr>\n",
       "    <tr>\n",
       "      <th>172</th>\n",
       "      <td>&lt;NA&gt;</td>\n",
       "      <td>NaN</td>\n",
       "      <td>0.000000</td>\n",
       "      <td>0.000000</td>\n",
       "      <td>0.060000</td>\n",
       "      <td>0.060000</td>\n",
       "      <td>01-03-2022</td>\n",
       "      <td>NaT</td>\n",
       "      <td>22:05:00</td>\n",
       "      <td>NaN</td>\n",
       "      <td>Low</td>\n",
       "      <td>3</td>\n",
       "      <td>Meal</td>\n",
       "      <td>scooter</td>\n",
       "      <td>1.0</td>\n",
       "      <td>No</td>\n",
       "      <td>Metropolitian</td>\n",
       "      <td>(min) 37</td>\n",
       "    </tr>\n",
       "    <tr>\n",
       "      <th>193</th>\n",
       "      <td>&lt;NA&gt;</td>\n",
       "      <td>NaN</td>\n",
       "      <td>13.086438</td>\n",
       "      <td>80.220672</td>\n",
       "      <td>13.136439</td>\n",
       "      <td>80.270672</td>\n",
       "      <td>01-03-2022</td>\n",
       "      <td>NaT</td>\n",
       "      <td>23:10:00</td>\n",
       "      <td>Sandstorms</td>\n",
       "      <td>Low</td>\n",
       "      <td>1</td>\n",
       "      <td>Meal</td>\n",
       "      <td>scooter</td>\n",
       "      <td>1.0</td>\n",
       "      <td>No</td>\n",
       "      <td>Metropolitian</td>\n",
       "      <td>(min) 21</td>\n",
       "    </tr>\n",
       "    <tr>\n",
       "      <th>204</th>\n",
       "      <td>&lt;NA&gt;</td>\n",
       "      <td>NaN</td>\n",
       "      <td>0.000000</td>\n",
       "      <td>0.000000</td>\n",
       "      <td>0.030000</td>\n",
       "      <td>0.030000</td>\n",
       "      <td>01-03-2022</td>\n",
       "      <td>NaT</td>\n",
       "      <td>21:55:00</td>\n",
       "      <td>Stormy</td>\n",
       "      <td>Jam</td>\n",
       "      <td>2</td>\n",
       "      <td>Meal</td>\n",
       "      <td>scooter</td>\n",
       "      <td>1.0</td>\n",
       "      <td>No</td>\n",
       "      <td>Metropolitian</td>\n",
       "      <td>(min) 30</td>\n",
       "    </tr>\n",
       "    <tr>\n",
       "      <th>207</th>\n",
       "      <td>&lt;NA&gt;</td>\n",
       "      <td>NaN</td>\n",
       "      <td>22.311844</td>\n",
       "      <td>73.165081</td>\n",
       "      <td>22.371844</td>\n",
       "      <td>73.225081</td>\n",
       "      <td>01-03-2022</td>\n",
       "      <td>NaT</td>\n",
       "      <td>22:45:00</td>\n",
       "      <td>Cloudy</td>\n",
       "      <td>Low</td>\n",
       "      <td>2</td>\n",
       "      <td>Meal</td>\n",
       "      <td>scooter</td>\n",
       "      <td>0.0</td>\n",
       "      <td>No</td>\n",
       "      <td>Urban</td>\n",
       "      <td>(min) 18</td>\n",
       "    </tr>\n",
       "    <tr>\n",
       "      <th>229</th>\n",
       "      <td>&lt;NA&gt;</td>\n",
       "      <td>NaN</td>\n",
       "      <td>23.399250</td>\n",
       "      <td>85.390464</td>\n",
       "      <td>23.439250</td>\n",
       "      <td>85.430464</td>\n",
       "      <td>01-03-2022</td>\n",
       "      <td>NaT</td>\n",
       "      <td>17:15:00</td>\n",
       "      <td>Stormy</td>\n",
       "      <td>Medium</td>\n",
       "      <td>0</td>\n",
       "      <td>Drinks</td>\n",
       "      <td>motorcycle</td>\n",
       "      <td>1.0</td>\n",
       "      <td>No</td>\n",
       "      <td>Metropolitian</td>\n",
       "      <td>(min) 28</td>\n",
       "    </tr>\n",
       "    <tr>\n",
       "      <th>232</th>\n",
       "      <td>&lt;NA&gt;</td>\n",
       "      <td>NaN</td>\n",
       "      <td>12.297954</td>\n",
       "      <td>76.665169</td>\n",
       "      <td>12.357954</td>\n",
       "      <td>76.725169</td>\n",
       "      <td>01-03-2022</td>\n",
       "      <td>NaT</td>\n",
       "      <td>21:10:00</td>\n",
       "      <td>Sandstorms</td>\n",
       "      <td>Jam</td>\n",
       "      <td>0</td>\n",
       "      <td>Drinks</td>\n",
       "      <td>motorcycle</td>\n",
       "      <td>1.0</td>\n",
       "      <td>No</td>\n",
       "      <td>Metropolitian</td>\n",
       "      <td>(min) 23</td>\n",
       "    </tr>\n",
       "    <tr>\n",
       "      <th>246</th>\n",
       "      <td>15</td>\n",
       "      <td>1.0</td>\n",
       "      <td>13.054347</td>\n",
       "      <td>80.257221</td>\n",
       "      <td>13.114347</td>\n",
       "      <td>80.317221</td>\n",
       "      <td>01-03-2022</td>\n",
       "      <td>NaT</td>\n",
       "      <td>18:20:00</td>\n",
       "      <td>NaN</td>\n",
       "      <td>Low</td>\n",
       "      <td>3</td>\n",
       "      <td>Meal</td>\n",
       "      <td>electric_scooter</td>\n",
       "      <td>1.0</td>\n",
       "      <td>No</td>\n",
       "      <td>Urban</td>\n",
       "      <td>(min) 21</td>\n",
       "    </tr>\n",
       "    <tr>\n",
       "      <th>261</th>\n",
       "      <td>&lt;NA&gt;</td>\n",
       "      <td>NaN</td>\n",
       "      <td>-12.970221</td>\n",
       "      <td>77.645396</td>\n",
       "      <td>12.990221</td>\n",
       "      <td>77.665396</td>\n",
       "      <td>01-03-2022</td>\n",
       "      <td>NaT</td>\n",
       "      <td>10:45:00</td>\n",
       "      <td>NaN</td>\n",
       "      <td>Low</td>\n",
       "      <td>3</td>\n",
       "      <td>Snack</td>\n",
       "      <td>scooter</td>\n",
       "      <td>0.0</td>\n",
       "      <td>No</td>\n",
       "      <td>Metropolitian</td>\n",
       "      <td>(min) 29</td>\n",
       "    </tr>\n",
       "    <tr>\n",
       "      <th>349</th>\n",
       "      <td>&lt;NA&gt;</td>\n",
       "      <td>NaN</td>\n",
       "      <td>12.326356</td>\n",
       "      <td>76.619103</td>\n",
       "      <td>12.376356</td>\n",
       "      <td>76.669103</td>\n",
       "      <td>01-03-2022</td>\n",
       "      <td>NaT</td>\n",
       "      <td>22:00:00</td>\n",
       "      <td>Fog</td>\n",
       "      <td>Jam</td>\n",
       "      <td>2</td>\n",
       "      <td>Snack</td>\n",
       "      <td>electric_scooter</td>\n",
       "      <td>0.0</td>\n",
       "      <td>No</td>\n",
       "      <td>Urban</td>\n",
       "      <td>(min) 26</td>\n",
       "    </tr>\n",
       "    <tr>\n",
       "      <th>352</th>\n",
       "      <td>&lt;NA&gt;</td>\n",
       "      <td>NaN</td>\n",
       "      <td>23.374989</td>\n",
       "      <td>85.335486</td>\n",
       "      <td>23.424989</td>\n",
       "      <td>85.385486</td>\n",
       "      <td>01-03-2022</td>\n",
       "      <td>NaT</td>\n",
       "      <td>22:30:00</td>\n",
       "      <td>Stormy</td>\n",
       "      <td>Low</td>\n",
       "      <td>1</td>\n",
       "      <td>Snack</td>\n",
       "      <td>motorcycle</td>\n",
       "      <td>1.0</td>\n",
       "      <td>No</td>\n",
       "      <td>Metropolitian</td>\n",
       "      <td>(min) 22</td>\n",
       "    </tr>\n",
       "    <tr>\n",
       "      <th>353</th>\n",
       "      <td>&lt;NA&gt;</td>\n",
       "      <td>NaN</td>\n",
       "      <td>23.374878</td>\n",
       "      <td>85.335739</td>\n",
       "      <td>23.384878</td>\n",
       "      <td>85.345739</td>\n",
       "      <td>01-03-2022</td>\n",
       "      <td>NaT</td>\n",
       "      <td>11:35:00</td>\n",
       "      <td>Stormy</td>\n",
       "      <td>High</td>\n",
       "      <td>1</td>\n",
       "      <td>Drinks</td>\n",
       "      <td>motorcycle</td>\n",
       "      <td>0.0</td>\n",
       "      <td>No</td>\n",
       "      <td>Urban</td>\n",
       "      <td>(min) 12</td>\n",
       "    </tr>\n",
       "    <tr>\n",
       "      <th>356</th>\n",
       "      <td>&lt;NA&gt;</td>\n",
       "      <td>NaN</td>\n",
       "      <td>22.761226</td>\n",
       "      <td>75.887522</td>\n",
       "      <td>22.781226</td>\n",
       "      <td>75.907522</td>\n",
       "      <td>01-03-2022</td>\n",
       "      <td>NaT</td>\n",
       "      <td>10:30:00</td>\n",
       "      <td>NaN</td>\n",
       "      <td>Low</td>\n",
       "      <td>3</td>\n",
       "      <td>Meal</td>\n",
       "      <td>bicycle</td>\n",
       "      <td>1.0</td>\n",
       "      <td>No</td>\n",
       "      <td>Metropolitian</td>\n",
       "      <td>(min) 24</td>\n",
       "    </tr>\n",
       "    <tr>\n",
       "      <th>396</th>\n",
       "      <td>&lt;NA&gt;</td>\n",
       "      <td>NaN</td>\n",
       "      <td>-10.961850</td>\n",
       "      <td>76.971082</td>\n",
       "      <td>10.981850</td>\n",
       "      <td>76.991082</td>\n",
       "      <td>01-03-2022</td>\n",
       "      <td>NaT</td>\n",
       "      <td>11:55:00</td>\n",
       "      <td>Sandstorms</td>\n",
       "      <td>High</td>\n",
       "      <td>1</td>\n",
       "      <td>Meal</td>\n",
       "      <td>motorcycle</td>\n",
       "      <td>0.0</td>\n",
       "      <td>No</td>\n",
       "      <td>Urban</td>\n",
       "      <td>(min) 21</td>\n",
       "    </tr>\n",
       "    <tr>\n",
       "      <th>413</th>\n",
       "      <td>50</td>\n",
       "      <td>4.7</td>\n",
       "      <td>21.186608</td>\n",
       "      <td>72.794136</td>\n",
       "      <td>21.206608</td>\n",
       "      <td>72.814136</td>\n",
       "      <td>01-03-2022</td>\n",
       "      <td>NaT</td>\n",
       "      <td>11:25:00</td>\n",
       "      <td>NaN</td>\n",
       "      <td>Low</td>\n",
       "      <td>3</td>\n",
       "      <td>Meal</td>\n",
       "      <td>scooter</td>\n",
       "      <td>1.0</td>\n",
       "      <td>No</td>\n",
       "      <td>Urban</td>\n",
       "      <td>(min) 22</td>\n",
       "    </tr>\n",
       "    <tr>\n",
       "      <th>435</th>\n",
       "      <td>&lt;NA&gt;</td>\n",
       "      <td>NaN</td>\n",
       "      <td>-12.311072</td>\n",
       "      <td>-76.654878</td>\n",
       "      <td>12.321072</td>\n",
       "      <td>76.664878</td>\n",
       "      <td>01-03-2022</td>\n",
       "      <td>NaT</td>\n",
       "      <td>10:05:00</td>\n",
       "      <td>NaN</td>\n",
       "      <td>Low</td>\n",
       "      <td>3</td>\n",
       "      <td>Meal</td>\n",
       "      <td>scooter</td>\n",
       "      <td>0.0</td>\n",
       "      <td>No</td>\n",
       "      <td>Metropolitian</td>\n",
       "      <td>(min) 24</td>\n",
       "    </tr>\n",
       "    <tr>\n",
       "      <th>471</th>\n",
       "      <td>&lt;NA&gt;</td>\n",
       "      <td>NaN</td>\n",
       "      <td>26.913987</td>\n",
       "      <td>75.752891</td>\n",
       "      <td>26.923987</td>\n",
       "      <td>75.762891</td>\n",
       "      <td>01-03-2022</td>\n",
       "      <td>NaT</td>\n",
       "      <td>11:30:00</td>\n",
       "      <td>NaN</td>\n",
       "      <td>Low</td>\n",
       "      <td>3</td>\n",
       "      <td>Snack</td>\n",
       "      <td>motorcycle</td>\n",
       "      <td>0.0</td>\n",
       "      <td>No</td>\n",
       "      <td>Metropolitian</td>\n",
       "      <td>(min) 22</td>\n",
       "    </tr>\n",
       "    <tr>\n",
       "      <th>476</th>\n",
       "      <td>&lt;NA&gt;</td>\n",
       "      <td>NaN</td>\n",
       "      <td>13.027018</td>\n",
       "      <td>80.254791</td>\n",
       "      <td>13.067018</td>\n",
       "      <td>80.294791</td>\n",
       "      <td>01-03-2022</td>\n",
       "      <td>NaT</td>\n",
       "      <td>16:15:00</td>\n",
       "      <td>NaN</td>\n",
       "      <td>Low</td>\n",
       "      <td>3</td>\n",
       "      <td>Drinks</td>\n",
       "      <td>scooter</td>\n",
       "      <td>1.0</td>\n",
       "      <td>No</td>\n",
       "      <td>Metropolitian</td>\n",
       "      <td>(min) 27</td>\n",
       "    </tr>\n",
       "    <tr>\n",
       "      <th>493</th>\n",
       "      <td>&lt;NA&gt;</td>\n",
       "      <td>NaN</td>\n",
       "      <td>13.064181</td>\n",
       "      <td>80.236442</td>\n",
       "      <td>13.104181</td>\n",
       "      <td>80.276442</td>\n",
       "      <td>01-03-2022</td>\n",
       "      <td>NaT</td>\n",
       "      <td>15:00:00</td>\n",
       "      <td>NaN</td>\n",
       "      <td>Low</td>\n",
       "      <td>3</td>\n",
       "      <td>Snack</td>\n",
       "      <td>electric_scooter</td>\n",
       "      <td>1.0</td>\n",
       "      <td>No</td>\n",
       "      <td>Metropolitian</td>\n",
       "      <td>(min) 23</td>\n",
       "    </tr>\n",
       "    <tr>\n",
       "      <th>506</th>\n",
       "      <td>&lt;NA&gt;</td>\n",
       "      <td>NaN</td>\n",
       "      <td>12.326356</td>\n",
       "      <td>76.619103</td>\n",
       "      <td>12.366356</td>\n",
       "      <td>76.659103</td>\n",
       "      <td>01-03-2022</td>\n",
       "      <td>NaT</td>\n",
       "      <td>14:10:00</td>\n",
       "      <td>Cloudy</td>\n",
       "      <td>High</td>\n",
       "      <td>2</td>\n",
       "      <td>Buffet</td>\n",
       "      <td>motorcycle</td>\n",
       "      <td>0.0</td>\n",
       "      <td>No</td>\n",
       "      <td>Urban</td>\n",
       "      <td>(min) 31</td>\n",
       "    </tr>\n",
       "    <tr>\n",
       "      <th>579</th>\n",
       "      <td>&lt;NA&gt;</td>\n",
       "      <td>NaN</td>\n",
       "      <td>23.374878</td>\n",
       "      <td>85.335739</td>\n",
       "      <td>23.414878</td>\n",
       "      <td>85.375739</td>\n",
       "      <td>01-03-2022</td>\n",
       "      <td>NaT</td>\n",
       "      <td>13:35:00</td>\n",
       "      <td>Cloudy</td>\n",
       "      <td>High</td>\n",
       "      <td>0</td>\n",
       "      <td>Snack</td>\n",
       "      <td>motorcycle</td>\n",
       "      <td>1.0</td>\n",
       "      <td>No</td>\n",
       "      <td>Metropolitian</td>\n",
       "      <td>(min) 25</td>\n",
       "    </tr>\n",
       "    <tr>\n",
       "      <th>602</th>\n",
       "      <td>&lt;NA&gt;</td>\n",
       "      <td>NaN</td>\n",
       "      <td>21.186884</td>\n",
       "      <td>72.793616</td>\n",
       "      <td>21.226884</td>\n",
       "      <td>72.833616</td>\n",
       "      <td>01-03-2022</td>\n",
       "      <td>NaT</td>\n",
       "      <td>13:15:00</td>\n",
       "      <td>Cloudy</td>\n",
       "      <td>High</td>\n",
       "      <td>0</td>\n",
       "      <td>Meal</td>\n",
       "      <td>motorcycle</td>\n",
       "      <td>1.0</td>\n",
       "      <td>No</td>\n",
       "      <td>Metropolitian</td>\n",
       "      <td>(min) 27</td>\n",
       "    </tr>\n",
       "    <tr>\n",
       "      <th>604</th>\n",
       "      <td>&lt;NA&gt;</td>\n",
       "      <td>NaN</td>\n",
       "      <td>12.913041</td>\n",
       "      <td>77.683237</td>\n",
       "      <td>12.973041</td>\n",
       "      <td>77.743237</td>\n",
       "      <td>01-03-2022</td>\n",
       "      <td>NaT</td>\n",
       "      <td>23:10:00</td>\n",
       "      <td>NaN</td>\n",
       "      <td>Low</td>\n",
       "      <td>3</td>\n",
       "      <td>Drinks</td>\n",
       "      <td>electric_scooter</td>\n",
       "      <td>1.0</td>\n",
       "      <td>No</td>\n",
       "      <td>Metropolitian</td>\n",
       "      <td>(min) 27</td>\n",
       "    </tr>\n",
       "    <tr>\n",
       "      <th>617</th>\n",
       "      <td>&lt;NA&gt;</td>\n",
       "      <td>NaN</td>\n",
       "      <td>12.939496</td>\n",
       "      <td>77.625999</td>\n",
       "      <td>12.969496</td>\n",
       "      <td>77.655999</td>\n",
       "      <td>01-03-2022</td>\n",
       "      <td>NaT</td>\n",
       "      <td>17:50:00</td>\n",
       "      <td>Sandstorms</td>\n",
       "      <td>Medium</td>\n",
       "      <td>0</td>\n",
       "      <td>Snack</td>\n",
       "      <td>motorcycle</td>\n",
       "      <td>1.0</td>\n",
       "      <td>No</td>\n",
       "      <td>Metropolitian</td>\n",
       "      <td>(min) 24</td>\n",
       "    </tr>\n",
       "    <tr>\n",
       "      <th>644</th>\n",
       "      <td>&lt;NA&gt;</td>\n",
       "      <td>NaN</td>\n",
       "      <td>19.109300</td>\n",
       "      <td>72.825451</td>\n",
       "      <td>19.149300</td>\n",
       "      <td>72.865451</td>\n",
       "      <td>01-03-2022</td>\n",
       "      <td>NaT</td>\n",
       "      <td>13:55:00</td>\n",
       "      <td>Sunny</td>\n",
       "      <td>High</td>\n",
       "      <td>1</td>\n",
       "      <td>Drinks</td>\n",
       "      <td>motorcycle</td>\n",
       "      <td>0.0</td>\n",
       "      <td>No</td>\n",
       "      <td>Metropolitian</td>\n",
       "      <td>(min) 14</td>\n",
       "    </tr>\n",
       "    <tr>\n",
       "      <th>670</th>\n",
       "      <td>&lt;NA&gt;</td>\n",
       "      <td>NaN</td>\n",
       "      <td>11.010375</td>\n",
       "      <td>76.952950</td>\n",
       "      <td>11.030375</td>\n",
       "      <td>76.972950</td>\n",
       "      <td>01-03-2022</td>\n",
       "      <td>NaT</td>\n",
       "      <td>11:00:00</td>\n",
       "      <td>Sunny</td>\n",
       "      <td>Low</td>\n",
       "      <td>2</td>\n",
       "      <td>Snack</td>\n",
       "      <td>scooter</td>\n",
       "      <td>1.0</td>\n",
       "      <td>No</td>\n",
       "      <td>Urban</td>\n",
       "      <td>(min) 19</td>\n",
       "    </tr>\n",
       "    <tr>\n",
       "      <th>674</th>\n",
       "      <td>&lt;NA&gt;</td>\n",
       "      <td>NaN</td>\n",
       "      <td>-21.186608</td>\n",
       "      <td>72.794136</td>\n",
       "      <td>21.246608</td>\n",
       "      <td>72.854136</td>\n",
       "      <td>01-03-2022</td>\n",
       "      <td>NaT</td>\n",
       "      <td>22:10:00</td>\n",
       "      <td>Fog</td>\n",
       "      <td>Jam</td>\n",
       "      <td>1</td>\n",
       "      <td>Snack</td>\n",
       "      <td>scooter</td>\n",
       "      <td>1.0</td>\n",
       "      <td>No</td>\n",
       "      <td>Urban</td>\n",
       "      <td>(min) 26</td>\n",
       "    </tr>\n",
       "    <tr>\n",
       "      <th>681</th>\n",
       "      <td>&lt;NA&gt;</td>\n",
       "      <td>NaN</td>\n",
       "      <td>-11.003681</td>\n",
       "      <td>76.975525</td>\n",
       "      <td>11.063681</td>\n",
       "      <td>77.035525</td>\n",
       "      <td>01-03-2022</td>\n",
       "      <td>NaT</td>\n",
       "      <td>21:15:00</td>\n",
       "      <td>Sandstorms</td>\n",
       "      <td>Jam</td>\n",
       "      <td>2</td>\n",
       "      <td>Buffet</td>\n",
       "      <td>scooter</td>\n",
       "      <td>1.0</td>\n",
       "      <td>No</td>\n",
       "      <td>Metropolitian</td>\n",
       "      <td>(min) 19</td>\n",
       "    </tr>\n",
       "    <tr>\n",
       "      <th>686</th>\n",
       "      <td>&lt;NA&gt;</td>\n",
       "      <td>NaN</td>\n",
       "      <td>12.939496</td>\n",
       "      <td>77.625999</td>\n",
       "      <td>12.999496</td>\n",
       "      <td>77.685999</td>\n",
       "      <td>01-03-2022</td>\n",
       "      <td>NaT</td>\n",
       "      <td>22:55:00</td>\n",
       "      <td>NaN</td>\n",
       "      <td>Low</td>\n",
       "      <td>3</td>\n",
       "      <td>Buffet</td>\n",
       "      <td>motorcycle</td>\n",
       "      <td>0.0</td>\n",
       "      <td>No</td>\n",
       "      <td>Metropolitian</td>\n",
       "      <td>(min) 14</td>\n",
       "    </tr>\n",
       "    <tr>\n",
       "      <th>738</th>\n",
       "      <td>&lt;NA&gt;</td>\n",
       "      <td>NaN</td>\n",
       "      <td>0.000000</td>\n",
       "      <td>0.000000</td>\n",
       "      <td>0.060000</td>\n",
       "      <td>0.060000</td>\n",
       "      <td>01-03-2022</td>\n",
       "      <td>NaT</td>\n",
       "      <td>19:45:00</td>\n",
       "      <td>Sandstorms</td>\n",
       "      <td>Jam</td>\n",
       "      <td>1</td>\n",
       "      <td>Buffet</td>\n",
       "      <td>motorcycle</td>\n",
       "      <td>1.0</td>\n",
       "      <td>No</td>\n",
       "      <td>Metropolitian</td>\n",
       "      <td>(min) 22</td>\n",
       "    </tr>\n",
       "    <tr>\n",
       "      <th>764</th>\n",
       "      <td>&lt;NA&gt;</td>\n",
       "      <td>NaN</td>\n",
       "      <td>-23.333017</td>\n",
       "      <td>-85.317200</td>\n",
       "      <td>23.363017</td>\n",
       "      <td>85.347200</td>\n",
       "      <td>01-03-2022</td>\n",
       "      <td>NaT</td>\n",
       "      <td>22:45:00</td>\n",
       "      <td>NaN</td>\n",
       "      <td>Low</td>\n",
       "      <td>3</td>\n",
       "      <td>Buffet</td>\n",
       "      <td>scooter</td>\n",
       "      <td>0.0</td>\n",
       "      <td>No</td>\n",
       "      <td>Urban</td>\n",
       "      <td>(min) 11</td>\n",
       "    </tr>\n",
       "    <tr>\n",
       "      <th>779</th>\n",
       "      <td>&lt;NA&gt;</td>\n",
       "      <td>NaN</td>\n",
       "      <td>13.027018</td>\n",
       "      <td>80.254791</td>\n",
       "      <td>13.037018</td>\n",
       "      <td>80.264791</td>\n",
       "      <td>01-03-2022</td>\n",
       "      <td>NaT</td>\n",
       "      <td>10:20:00</td>\n",
       "      <td>Fog</td>\n",
       "      <td>Low</td>\n",
       "      <td>0</td>\n",
       "      <td>Buffet</td>\n",
       "      <td>motorcycle</td>\n",
       "      <td>0.0</td>\n",
       "      <td>No</td>\n",
       "      <td>Metropolitian</td>\n",
       "      <td>(min) 21</td>\n",
       "    </tr>\n",
       "    <tr>\n",
       "      <th>782</th>\n",
       "      <td>&lt;NA&gt;</td>\n",
       "      <td>NaN</td>\n",
       "      <td>21.157735</td>\n",
       "      <td>72.768778</td>\n",
       "      <td>21.177735</td>\n",
       "      <td>72.788778</td>\n",
       "      <td>01-03-2022</td>\n",
       "      <td>NaT</td>\n",
       "      <td>08:20:00</td>\n",
       "      <td>Windy</td>\n",
       "      <td>Low</td>\n",
       "      <td>0</td>\n",
       "      <td>Buffet</td>\n",
       "      <td>motorcycle</td>\n",
       "      <td>1.0</td>\n",
       "      <td>No</td>\n",
       "      <td>Metropolitian</td>\n",
       "      <td>(min) 20</td>\n",
       "    </tr>\n",
       "    <tr>\n",
       "      <th>820</th>\n",
       "      <td>&lt;NA&gt;</td>\n",
       "      <td>NaN</td>\n",
       "      <td>21.170798</td>\n",
       "      <td>72.790489</td>\n",
       "      <td>21.200798</td>\n",
       "      <td>72.820489</td>\n",
       "      <td>01-03-2022</td>\n",
       "      <td>NaT</td>\n",
       "      <td>22:00:00</td>\n",
       "      <td>Sandstorms</td>\n",
       "      <td>Jam</td>\n",
       "      <td>0</td>\n",
       "      <td>Snack</td>\n",
       "      <td>motorcycle</td>\n",
       "      <td>1.0</td>\n",
       "      <td>No</td>\n",
       "      <td>Metropolitian</td>\n",
       "      <td>(min) 37</td>\n",
       "    </tr>\n",
       "    <tr>\n",
       "      <th>835</th>\n",
       "      <td>&lt;NA&gt;</td>\n",
       "      <td>NaN</td>\n",
       "      <td>10.961850</td>\n",
       "      <td>76.971082</td>\n",
       "      <td>11.001850</td>\n",
       "      <td>77.011082</td>\n",
       "      <td>01-03-2022</td>\n",
       "      <td>NaT</td>\n",
       "      <td>14:55:00</td>\n",
       "      <td>NaN</td>\n",
       "      <td>Low</td>\n",
       "      <td>3</td>\n",
       "      <td>Snack</td>\n",
       "      <td>electric_scooter</td>\n",
       "      <td>1.0</td>\n",
       "      <td>No</td>\n",
       "      <td>Metropolitian</td>\n",
       "      <td>(min) 23</td>\n",
       "    </tr>\n",
       "    <tr>\n",
       "      <th>845</th>\n",
       "      <td>50</td>\n",
       "      <td>4.7</td>\n",
       "      <td>-12.975377</td>\n",
       "      <td>-77.696664</td>\n",
       "      <td>13.015377</td>\n",
       "      <td>77.736664</td>\n",
       "      <td>01-03-2022</td>\n",
       "      <td>NaT</td>\n",
       "      <td>13:55:00</td>\n",
       "      <td>NaN</td>\n",
       "      <td>Low</td>\n",
       "      <td>3</td>\n",
       "      <td>Drinks</td>\n",
       "      <td>electric_scooter</td>\n",
       "      <td>1.0</td>\n",
       "      <td>No</td>\n",
       "      <td>Metropolitian</td>\n",
       "      <td>(min) 15</td>\n",
       "    </tr>\n",
       "    <tr>\n",
       "      <th>855</th>\n",
       "      <td>&lt;NA&gt;</td>\n",
       "      <td>NaN</td>\n",
       "      <td>0.000000</td>\n",
       "      <td>0.000000</td>\n",
       "      <td>0.010000</td>\n",
       "      <td>0.010000</td>\n",
       "      <td>01-03-2022</td>\n",
       "      <td>NaT</td>\n",
       "      <td>10:45:00</td>\n",
       "      <td>NaN</td>\n",
       "      <td>Low</td>\n",
       "      <td>3</td>\n",
       "      <td>Meal</td>\n",
       "      <td>electric_scooter</td>\n",
       "      <td>0.0</td>\n",
       "      <td>No</td>\n",
       "      <td>Metropolitian</td>\n",
       "      <td>(min) 27</td>\n",
       "    </tr>\n",
       "    <tr>\n",
       "      <th>881</th>\n",
       "      <td>&lt;NA&gt;</td>\n",
       "      <td>NaN</td>\n",
       "      <td>-12.323978</td>\n",
       "      <td>76.627961</td>\n",
       "      <td>12.343978</td>\n",
       "      <td>76.647961</td>\n",
       "      <td>01-03-2022</td>\n",
       "      <td>NaT</td>\n",
       "      <td>09:15:00</td>\n",
       "      <td>NaN</td>\n",
       "      <td>Low</td>\n",
       "      <td>3</td>\n",
       "      <td>Snack</td>\n",
       "      <td>bicycle</td>\n",
       "      <td>1.0</td>\n",
       "      <td>No</td>\n",
       "      <td>Metropolitian</td>\n",
       "      <td>(min) 18</td>\n",
       "    </tr>\n",
       "    <tr>\n",
       "      <th>884</th>\n",
       "      <td>&lt;NA&gt;</td>\n",
       "      <td>NaN</td>\n",
       "      <td>26.891191</td>\n",
       "      <td>75.802083</td>\n",
       "      <td>26.941191</td>\n",
       "      <td>75.852083</td>\n",
       "      <td>01-03-2022</td>\n",
       "      <td>NaT</td>\n",
       "      <td>23:20:00</td>\n",
       "      <td>Cloudy</td>\n",
       "      <td>Low</td>\n",
       "      <td>2</td>\n",
       "      <td>Snack</td>\n",
       "      <td>electric_scooter</td>\n",
       "      <td>1.0</td>\n",
       "      <td>No</td>\n",
       "      <td>Metropolitian</td>\n",
       "      <td>(min) 14</td>\n",
       "    </tr>\n",
       "    <tr>\n",
       "      <th>911</th>\n",
       "      <td>15</td>\n",
       "      <td>1.0</td>\n",
       "      <td>12.334022</td>\n",
       "      <td>76.618203</td>\n",
       "      <td>12.354022</td>\n",
       "      <td>76.638203</td>\n",
       "      <td>01-03-2022</td>\n",
       "      <td>NaT</td>\n",
       "      <td>09:35:00</td>\n",
       "      <td>NaN</td>\n",
       "      <td>Low</td>\n",
       "      <td>3</td>\n",
       "      <td>Drinks</td>\n",
       "      <td>scooter</td>\n",
       "      <td>1.0</td>\n",
       "      <td>No</td>\n",
       "      <td>Metropolitian</td>\n",
       "      <td>(min) 13</td>\n",
       "    </tr>\n",
       "    <tr>\n",
       "      <th>939</th>\n",
       "      <td>&lt;NA&gt;</td>\n",
       "      <td>NaN</td>\n",
       "      <td>0.000000</td>\n",
       "      <td>0.000000</td>\n",
       "      <td>0.020000</td>\n",
       "      <td>0.020000</td>\n",
       "      <td>01-03-2022</td>\n",
       "      <td>NaT</td>\n",
       "      <td>08:45:00</td>\n",
       "      <td>NaN</td>\n",
       "      <td>Low</td>\n",
       "      <td>3</td>\n",
       "      <td>Drinks</td>\n",
       "      <td>motorcycle</td>\n",
       "      <td>0.0</td>\n",
       "      <td>No</td>\n",
       "      <td>Metropolitian</td>\n",
       "      <td>(min) 19</td>\n",
       "    </tr>\n",
       "    <tr>\n",
       "      <th>962</th>\n",
       "      <td>&lt;NA&gt;</td>\n",
       "      <td>NaN</td>\n",
       "      <td>18.927584</td>\n",
       "      <td>72.832585</td>\n",
       "      <td>18.937584</td>\n",
       "      <td>72.842585</td>\n",
       "      <td>01-03-2022</td>\n",
       "      <td>NaT</td>\n",
       "      <td>09:35:00</td>\n",
       "      <td>Sandstorms</td>\n",
       "      <td>Low</td>\n",
       "      <td>1</td>\n",
       "      <td>Drinks</td>\n",
       "      <td>motorcycle</td>\n",
       "      <td>0.0</td>\n",
       "      <td>No</td>\n",
       "      <td>Metropolitian</td>\n",
       "      <td>(min) 20</td>\n",
       "    </tr>\n",
       "    <tr>\n",
       "      <th>993</th>\n",
       "      <td>&lt;NA&gt;</td>\n",
       "      <td>NaN</td>\n",
       "      <td>12.906229</td>\n",
       "      <td>77.596791</td>\n",
       "      <td>12.966229</td>\n",
       "      <td>77.656791</td>\n",
       "      <td>01-03-2022</td>\n",
       "      <td>NaT</td>\n",
       "      <td>22:45:00</td>\n",
       "      <td>NaN</td>\n",
       "      <td>Low</td>\n",
       "      <td>3</td>\n",
       "      <td>Drinks</td>\n",
       "      <td>scooter</td>\n",
       "      <td>0.0</td>\n",
       "      <td>No</td>\n",
       "      <td>Metropolitian</td>\n",
       "      <td>(min) 24</td>\n",
       "    </tr>\n",
       "    <tr>\n",
       "      <th>1012</th>\n",
       "      <td>&lt;NA&gt;</td>\n",
       "      <td>NaN</td>\n",
       "      <td>0.000000</td>\n",
       "      <td>0.000000</td>\n",
       "      <td>0.040000</td>\n",
       "      <td>0.040000</td>\n",
       "      <td>01-03-2022</td>\n",
       "      <td>NaT</td>\n",
       "      <td>13:30:00</td>\n",
       "      <td>Sandstorms</td>\n",
       "      <td>High</td>\n",
       "      <td>2</td>\n",
       "      <td>Buffet</td>\n",
       "      <td>motorcycle</td>\n",
       "      <td>0.0</td>\n",
       "      <td>No</td>\n",
       "      <td>Urban</td>\n",
       "      <td>(min) 32</td>\n",
       "    </tr>\n",
       "    <tr>\n",
       "      <th>1015</th>\n",
       "      <td>&lt;NA&gt;</td>\n",
       "      <td>NaN</td>\n",
       "      <td>12.323978</td>\n",
       "      <td>76.627961</td>\n",
       "      <td>12.363978</td>\n",
       "      <td>76.667961</td>\n",
       "      <td>01-03-2022</td>\n",
       "      <td>NaT</td>\n",
       "      <td>12:25:00</td>\n",
       "      <td>NaN</td>\n",
       "      <td>Low</td>\n",
       "      <td>3</td>\n",
       "      <td>Buffet</td>\n",
       "      <td>scooter</td>\n",
       "      <td>1.0</td>\n",
       "      <td>No</td>\n",
       "      <td>Metropolitian</td>\n",
       "      <td>(min) 47</td>\n",
       "    </tr>\n",
       "    <tr>\n",
       "      <th>1024</th>\n",
       "      <td>&lt;NA&gt;</td>\n",
       "      <td>NaN</td>\n",
       "      <td>26.891191</td>\n",
       "      <td>75.802083</td>\n",
       "      <td>26.911191</td>\n",
       "      <td>75.822083</td>\n",
       "      <td>01-03-2022</td>\n",
       "      <td>NaT</td>\n",
       "      <td>11:45:00</td>\n",
       "      <td>Fog</td>\n",
       "      <td>High</td>\n",
       "      <td>1</td>\n",
       "      <td>Buffet</td>\n",
       "      <td>scooter</td>\n",
       "      <td>1.0</td>\n",
       "      <td>No</td>\n",
       "      <td>Metropolitian</td>\n",
       "      <td>(min) 31</td>\n",
       "    </tr>\n",
       "    <tr>\n",
       "      <th>1038</th>\n",
       "      <td>&lt;NA&gt;</td>\n",
       "      <td>NaN</td>\n",
       "      <td>0.000000</td>\n",
       "      <td>0.000000</td>\n",
       "      <td>0.060000</td>\n",
       "      <td>0.060000</td>\n",
       "      <td>01-03-2022</td>\n",
       "      <td>NaT</td>\n",
       "      <td>19:50:00</td>\n",
       "      <td>Windy</td>\n",
       "      <td>Jam</td>\n",
       "      <td>1</td>\n",
       "      <td>Drinks</td>\n",
       "      <td>scooter</td>\n",
       "      <td>1.0</td>\n",
       "      <td>No</td>\n",
       "      <td>Metropolitian</td>\n",
       "      <td>(min) 18</td>\n",
       "    </tr>\n",
       "    <tr>\n",
       "      <th>1039</th>\n",
       "      <td>&lt;NA&gt;</td>\n",
       "      <td>NaN</td>\n",
       "      <td>21.160522</td>\n",
       "      <td>72.771477</td>\n",
       "      <td>21.170522</td>\n",
       "      <td>72.781477</td>\n",
       "      <td>01-03-2022</td>\n",
       "      <td>NaT</td>\n",
       "      <td>08:55:00</td>\n",
       "      <td>NaN</td>\n",
       "      <td>Low</td>\n",
       "      <td>3</td>\n",
       "      <td>Meal</td>\n",
       "      <td>electric_scooter</td>\n",
       "      <td>1.0</td>\n",
       "      <td>No</td>\n",
       "      <td>Urban</td>\n",
       "      <td>(min) 15</td>\n",
       "    </tr>\n",
       "    <tr>\n",
       "      <th>1049</th>\n",
       "      <td>&lt;NA&gt;</td>\n",
       "      <td>NaN</td>\n",
       "      <td>12.972161</td>\n",
       "      <td>77.596014</td>\n",
       "      <td>12.992161</td>\n",
       "      <td>77.616014</td>\n",
       "      <td>01-03-2022</td>\n",
       "      <td>NaT</td>\n",
       "      <td>09:35:00</td>\n",
       "      <td>Cloudy</td>\n",
       "      <td>Low</td>\n",
       "      <td>1</td>\n",
       "      <td>Snack</td>\n",
       "      <td>motorcycle</td>\n",
       "      <td>1.0</td>\n",
       "      <td>No</td>\n",
       "      <td>Metropolitian</td>\n",
       "      <td>(min) 16</td>\n",
       "    </tr>\n",
       "    <tr>\n",
       "      <th>1050</th>\n",
       "      <td>&lt;NA&gt;</td>\n",
       "      <td>NaN</td>\n",
       "      <td>12.323978</td>\n",
       "      <td>76.627961</td>\n",
       "      <td>12.383978</td>\n",
       "      <td>76.687961</td>\n",
       "      <td>01-03-2022</td>\n",
       "      <td>NaT</td>\n",
       "      <td>21:45:00</td>\n",
       "      <td>Sandstorms</td>\n",
       "      <td>Jam</td>\n",
       "      <td>1</td>\n",
       "      <td>Buffet</td>\n",
       "      <td>motorcycle</td>\n",
       "      <td>1.0</td>\n",
       "      <td>No</td>\n",
       "      <td>Metropolitian</td>\n",
       "      <td>(min) 26</td>\n",
       "    </tr>\n",
       "    <tr>\n",
       "      <th>1057</th>\n",
       "      <td>&lt;NA&gt;</td>\n",
       "      <td>NaN</td>\n",
       "      <td>17.433809</td>\n",
       "      <td>78.386744</td>\n",
       "      <td>17.493809</td>\n",
       "      <td>78.446744</td>\n",
       "      <td>01-03-2022</td>\n",
       "      <td>NaT</td>\n",
       "      <td>22:05:00</td>\n",
       "      <td>NaN</td>\n",
       "      <td>Low</td>\n",
       "      <td>0</td>\n",
       "      <td>Meal</td>\n",
       "      <td>motorcycle</td>\n",
       "      <td>0.0</td>\n",
       "      <td>No</td>\n",
       "      <td>Metropolitian</td>\n",
       "      <td>(min) 26</td>\n",
       "    </tr>\n",
       "    <tr>\n",
       "      <th>1071</th>\n",
       "      <td>&lt;NA&gt;</td>\n",
       "      <td>NaN</td>\n",
       "      <td>13.044694</td>\n",
       "      <td>80.261470</td>\n",
       "      <td>13.074694</td>\n",
       "      <td>80.291470</td>\n",
       "      <td>01-03-2022</td>\n",
       "      <td>NaT</td>\n",
       "      <td>19:40:00</td>\n",
       "      <td>NaN</td>\n",
       "      <td>Low</td>\n",
       "      <td>3</td>\n",
       "      <td>Drinks</td>\n",
       "      <td>electric_scooter</td>\n",
       "      <td>1.0</td>\n",
       "      <td>No</td>\n",
       "      <td>Metropolitian</td>\n",
       "      <td>(min) 24</td>\n",
       "    </tr>\n",
       "    <tr>\n",
       "      <th>1079</th>\n",
       "      <td>&lt;NA&gt;</td>\n",
       "      <td>NaN</td>\n",
       "      <td>26.905287</td>\n",
       "      <td>75.794592</td>\n",
       "      <td>26.945287</td>\n",
       "      <td>75.834592</td>\n",
       "      <td>01-03-2022</td>\n",
       "      <td>NaT</td>\n",
       "      <td>17:00:00</td>\n",
       "      <td>Cloudy</td>\n",
       "      <td>Medium</td>\n",
       "      <td>1</td>\n",
       "      <td>Snack</td>\n",
       "      <td>motorcycle</td>\n",
       "      <td>0.0</td>\n",
       "      <td>No</td>\n",
       "      <td>Metropolitian</td>\n",
       "      <td>(min) 19</td>\n",
       "    </tr>\n",
       "    <tr>\n",
       "      <th>1131</th>\n",
       "      <td>&lt;NA&gt;</td>\n",
       "      <td>NaN</td>\n",
       "      <td>18.994237</td>\n",
       "      <td>72.825553</td>\n",
       "      <td>19.044237</td>\n",
       "      <td>72.875553</td>\n",
       "      <td>01-03-2022</td>\n",
       "      <td>NaT</td>\n",
       "      <td>00:05:00</td>\n",
       "      <td>Fog</td>\n",
       "      <td>Low</td>\n",
       "      <td>0</td>\n",
       "      <td>Buffet</td>\n",
       "      <td>motorcycle</td>\n",
       "      <td>0.0</td>\n",
       "      <td>No</td>\n",
       "      <td>Metropolitian</td>\n",
       "      <td>(min) 25</td>\n",
       "    </tr>\n",
       "  </tbody>\n",
       "</table>\n",
       "</div>"
      ],
      "text/plain": [
       "       Age  Ratings  Restaurant_latitude  Restaurant_longitude  \\\n",
       "3       50      4.7            11.001852             76.976268   \n",
       "61    <NA>      NaN            13.026279             80.174568   \n",
       "103   <NA>      NaN           -12.933284            -77.615428   \n",
       "117   <NA>      NaN           -18.569156             73.774723   \n",
       "136   <NA>      NaN            18.536562             73.896485   \n",
       "171   <NA>      NaN            17.438263             78.397865   \n",
       "172   <NA>      NaN             0.000000              0.000000   \n",
       "193   <NA>      NaN            13.086438             80.220672   \n",
       "204   <NA>      NaN             0.000000              0.000000   \n",
       "207   <NA>      NaN            22.311844             73.165081   \n",
       "229   <NA>      NaN            23.399250             85.390464   \n",
       "232   <NA>      NaN            12.297954             76.665169   \n",
       "246     15      1.0            13.054347             80.257221   \n",
       "261   <NA>      NaN           -12.970221             77.645396   \n",
       "349   <NA>      NaN            12.326356             76.619103   \n",
       "352   <NA>      NaN            23.374989             85.335486   \n",
       "353   <NA>      NaN            23.374878             85.335739   \n",
       "356   <NA>      NaN            22.761226             75.887522   \n",
       "396   <NA>      NaN           -10.961850             76.971082   \n",
       "413     50      4.7            21.186608             72.794136   \n",
       "435   <NA>      NaN           -12.311072            -76.654878   \n",
       "471   <NA>      NaN            26.913987             75.752891   \n",
       "476   <NA>      NaN            13.027018             80.254791   \n",
       "493   <NA>      NaN            13.064181             80.236442   \n",
       "506   <NA>      NaN            12.326356             76.619103   \n",
       "579   <NA>      NaN            23.374878             85.335739   \n",
       "602   <NA>      NaN            21.186884             72.793616   \n",
       "604   <NA>      NaN            12.913041             77.683237   \n",
       "617   <NA>      NaN            12.939496             77.625999   \n",
       "644   <NA>      NaN            19.109300             72.825451   \n",
       "670   <NA>      NaN            11.010375             76.952950   \n",
       "674   <NA>      NaN           -21.186608             72.794136   \n",
       "681   <NA>      NaN           -11.003681             76.975525   \n",
       "686   <NA>      NaN            12.939496             77.625999   \n",
       "738   <NA>      NaN             0.000000              0.000000   \n",
       "764   <NA>      NaN           -23.333017            -85.317200   \n",
       "779   <NA>      NaN            13.027018             80.254791   \n",
       "782   <NA>      NaN            21.157735             72.768778   \n",
       "820   <NA>      NaN            21.170798             72.790489   \n",
       "835   <NA>      NaN            10.961850             76.971082   \n",
       "845     50      4.7           -12.975377            -77.696664   \n",
       "855   <NA>      NaN             0.000000              0.000000   \n",
       "881   <NA>      NaN           -12.323978             76.627961   \n",
       "884   <NA>      NaN            26.891191             75.802083   \n",
       "911     15      1.0            12.334022             76.618203   \n",
       "939   <NA>      NaN             0.000000              0.000000   \n",
       "962   <NA>      NaN            18.927584             72.832585   \n",
       "993   <NA>      NaN            12.906229             77.596791   \n",
       "1012  <NA>      NaN             0.000000              0.000000   \n",
       "1015  <NA>      NaN            12.323978             76.627961   \n",
       "1024  <NA>      NaN            26.891191             75.802083   \n",
       "1038  <NA>      NaN             0.000000              0.000000   \n",
       "1039  <NA>      NaN            21.160522             72.771477   \n",
       "1049  <NA>      NaN            12.972161             77.596014   \n",
       "1050  <NA>      NaN            12.323978             76.627961   \n",
       "1057  <NA>      NaN            17.433809             78.386744   \n",
       "1071  <NA>      NaN            13.044694             80.261470   \n",
       "1079  <NA>      NaN            26.905287             75.794592   \n",
       "1131  <NA>      NaN            18.994237             72.825553   \n",
       "\n",
       "      Delivery_location_latitude  Delivery_location_longitude  Order_Date  \\\n",
       "3                      11.061852                    77.036268  01-03-2022   \n",
       "61                     13.086279                    80.234568  01-03-2022   \n",
       "103                    12.953284                    77.635428  01-03-2022   \n",
       "117                    18.589156                    73.794723  01-03-2022   \n",
       "136                    18.596562                    73.956485  01-03-2022   \n",
       "171                    17.458263                    78.417865  01-03-2022   \n",
       "172                     0.060000                     0.060000  01-03-2022   \n",
       "193                    13.136439                    80.270672  01-03-2022   \n",
       "204                     0.030000                     0.030000  01-03-2022   \n",
       "207                    22.371844                    73.225081  01-03-2022   \n",
       "229                    23.439250                    85.430464  01-03-2022   \n",
       "232                    12.357954                    76.725169  01-03-2022   \n",
       "246                    13.114347                    80.317221  01-03-2022   \n",
       "261                    12.990221                    77.665396  01-03-2022   \n",
       "349                    12.376356                    76.669103  01-03-2022   \n",
       "352                    23.424989                    85.385486  01-03-2022   \n",
       "353                    23.384878                    85.345739  01-03-2022   \n",
       "356                    22.781226                    75.907522  01-03-2022   \n",
       "396                    10.981850                    76.991082  01-03-2022   \n",
       "413                    21.206608                    72.814136  01-03-2022   \n",
       "435                    12.321072                    76.664878  01-03-2022   \n",
       "471                    26.923987                    75.762891  01-03-2022   \n",
       "476                    13.067018                    80.294791  01-03-2022   \n",
       "493                    13.104181                    80.276442  01-03-2022   \n",
       "506                    12.366356                    76.659103  01-03-2022   \n",
       "579                    23.414878                    85.375739  01-03-2022   \n",
       "602                    21.226884                    72.833616  01-03-2022   \n",
       "604                    12.973041                    77.743237  01-03-2022   \n",
       "617                    12.969496                    77.655999  01-03-2022   \n",
       "644                    19.149300                    72.865451  01-03-2022   \n",
       "670                    11.030375                    76.972950  01-03-2022   \n",
       "674                    21.246608                    72.854136  01-03-2022   \n",
       "681                    11.063681                    77.035525  01-03-2022   \n",
       "686                    12.999496                    77.685999  01-03-2022   \n",
       "738                     0.060000                     0.060000  01-03-2022   \n",
       "764                    23.363017                    85.347200  01-03-2022   \n",
       "779                    13.037018                    80.264791  01-03-2022   \n",
       "782                    21.177735                    72.788778  01-03-2022   \n",
       "820                    21.200798                    72.820489  01-03-2022   \n",
       "835                    11.001850                    77.011082  01-03-2022   \n",
       "845                    13.015377                    77.736664  01-03-2022   \n",
       "855                     0.010000                     0.010000  01-03-2022   \n",
       "881                    12.343978                    76.647961  01-03-2022   \n",
       "884                    26.941191                    75.852083  01-03-2022   \n",
       "911                    12.354022                    76.638203  01-03-2022   \n",
       "939                     0.020000                     0.020000  01-03-2022   \n",
       "962                    18.937584                    72.842585  01-03-2022   \n",
       "993                    12.966229                    77.656791  01-03-2022   \n",
       "1012                    0.040000                     0.040000  01-03-2022   \n",
       "1015                   12.363978                    76.667961  01-03-2022   \n",
       "1024                   26.911191                    75.822083  01-03-2022   \n",
       "1038                    0.060000                     0.060000  01-03-2022   \n",
       "1039                   21.170522                    72.781477  01-03-2022   \n",
       "1049                   12.992161                    77.616014  01-03-2022   \n",
       "1050                   12.383978                    76.687961  01-03-2022   \n",
       "1057                   17.493809                    78.446744  01-03-2022   \n",
       "1071                   13.074694                    80.291470  01-03-2022   \n",
       "1079                   26.945287                    75.834592  01-03-2022   \n",
       "1131                   19.044237                    72.875553  01-03-2022   \n",
       "\n",
       "     Time_Orderd Time_Order_picked Weatherconditions Road_traffic_density  \\\n",
       "3            NaT          17:50:00               NaN                  Low   \n",
       "61           NaT          20:00:00        Sandstorms                  Jam   \n",
       "103          NaT          11:55:00               NaN                  Low   \n",
       "117          NaT          09:55:00            Stormy                  Low   \n",
       "136          NaT          20:50:00             Windy                  Jam   \n",
       "171          NaT          10:35:00            Stormy                  Low   \n",
       "172          NaT          22:05:00               NaN                  Low   \n",
       "193          NaT          23:10:00        Sandstorms                  Low   \n",
       "204          NaT          21:55:00            Stormy                  Jam   \n",
       "207          NaT          22:45:00            Cloudy                  Low   \n",
       "229          NaT          17:15:00            Stormy               Medium   \n",
       "232          NaT          21:10:00        Sandstorms                  Jam   \n",
       "246          NaT          18:20:00               NaN                  Low   \n",
       "261          NaT          10:45:00               NaN                  Low   \n",
       "349          NaT          22:00:00               Fog                  Jam   \n",
       "352          NaT          22:30:00            Stormy                  Low   \n",
       "353          NaT          11:35:00            Stormy                 High   \n",
       "356          NaT          10:30:00               NaN                  Low   \n",
       "396          NaT          11:55:00        Sandstorms                 High   \n",
       "413          NaT          11:25:00               NaN                  Low   \n",
       "435          NaT          10:05:00               NaN                  Low   \n",
       "471          NaT          11:30:00               NaN                  Low   \n",
       "476          NaT          16:15:00               NaN                  Low   \n",
       "493          NaT          15:00:00               NaN                  Low   \n",
       "506          NaT          14:10:00            Cloudy                 High   \n",
       "579          NaT          13:35:00            Cloudy                 High   \n",
       "602          NaT          13:15:00            Cloudy                 High   \n",
       "604          NaT          23:10:00               NaN                  Low   \n",
       "617          NaT          17:50:00        Sandstorms               Medium   \n",
       "644          NaT          13:55:00             Sunny                 High   \n",
       "670          NaT          11:00:00             Sunny                  Low   \n",
       "674          NaT          22:10:00               Fog                  Jam   \n",
       "681          NaT          21:15:00        Sandstorms                  Jam   \n",
       "686          NaT          22:55:00               NaN                  Low   \n",
       "738          NaT          19:45:00        Sandstorms                  Jam   \n",
       "764          NaT          22:45:00               NaN                  Low   \n",
       "779          NaT          10:20:00               Fog                  Low   \n",
       "782          NaT          08:20:00             Windy                  Low   \n",
       "820          NaT          22:00:00        Sandstorms                  Jam   \n",
       "835          NaT          14:55:00               NaN                  Low   \n",
       "845          NaT          13:55:00               NaN                  Low   \n",
       "855          NaT          10:45:00               NaN                  Low   \n",
       "881          NaT          09:15:00               NaN                  Low   \n",
       "884          NaT          23:20:00            Cloudy                  Low   \n",
       "911          NaT          09:35:00               NaN                  Low   \n",
       "939          NaT          08:45:00               NaN                  Low   \n",
       "962          NaT          09:35:00        Sandstorms                  Low   \n",
       "993          NaT          22:45:00               NaN                  Low   \n",
       "1012         NaT          13:30:00        Sandstorms                 High   \n",
       "1015         NaT          12:25:00               NaN                  Low   \n",
       "1024         NaT          11:45:00               Fog                 High   \n",
       "1038         NaT          19:50:00             Windy                  Jam   \n",
       "1039         NaT          08:55:00               NaN                  Low   \n",
       "1049         NaT          09:35:00            Cloudy                  Low   \n",
       "1050         NaT          21:45:00        Sandstorms                  Jam   \n",
       "1057         NaT          22:05:00               NaN                  Low   \n",
       "1071         NaT          19:40:00               NaN                  Low   \n",
       "1079         NaT          17:00:00            Cloudy               Medium   \n",
       "1131         NaT          00:05:00               Fog                  Low   \n",
       "\n",
       "     Vehicle_condition Type_of_order   Type_of_vehicle  multiple_deliveries  \\\n",
       "3                    3          Meal  electric_scooter                  0.0   \n",
       "61                   0        Drinks        motorcycle                  1.0   \n",
       "103                  3        Buffet           scooter                  1.0   \n",
       "117                  1          Meal           scooter                  1.0   \n",
       "136                  1         Snack        motorcycle                  1.0   \n",
       "171                  1          Meal           scooter                  1.0   \n",
       "172                  3          Meal           scooter                  1.0   \n",
       "193                  1          Meal           scooter                  1.0   \n",
       "204                  2          Meal           scooter                  1.0   \n",
       "207                  2          Meal           scooter                  0.0   \n",
       "229                  0        Drinks        motorcycle                  1.0   \n",
       "232                  0        Drinks        motorcycle                  1.0   \n",
       "246                  3          Meal  electric_scooter                  1.0   \n",
       "261                  3         Snack           scooter                  0.0   \n",
       "349                  2         Snack  electric_scooter                  0.0   \n",
       "352                  1         Snack        motorcycle                  1.0   \n",
       "353                  1        Drinks        motorcycle                  0.0   \n",
       "356                  3          Meal           bicycle                  1.0   \n",
       "396                  1          Meal        motorcycle                  0.0   \n",
       "413                  3          Meal           scooter                  1.0   \n",
       "435                  3          Meal           scooter                  0.0   \n",
       "471                  3         Snack        motorcycle                  0.0   \n",
       "476                  3        Drinks           scooter                  1.0   \n",
       "493                  3         Snack  electric_scooter                  1.0   \n",
       "506                  2        Buffet        motorcycle                  0.0   \n",
       "579                  0         Snack        motorcycle                  1.0   \n",
       "602                  0          Meal        motorcycle                  1.0   \n",
       "604                  3        Drinks  electric_scooter                  1.0   \n",
       "617                  0         Snack        motorcycle                  1.0   \n",
       "644                  1        Drinks        motorcycle                  0.0   \n",
       "670                  2         Snack           scooter                  1.0   \n",
       "674                  1         Snack           scooter                  1.0   \n",
       "681                  2        Buffet           scooter                  1.0   \n",
       "686                  3        Buffet        motorcycle                  0.0   \n",
       "738                  1        Buffet        motorcycle                  1.0   \n",
       "764                  3        Buffet           scooter                  0.0   \n",
       "779                  0        Buffet        motorcycle                  0.0   \n",
       "782                  0        Buffet        motorcycle                  1.0   \n",
       "820                  0         Snack        motorcycle                  1.0   \n",
       "835                  3         Snack  electric_scooter                  1.0   \n",
       "845                  3        Drinks  electric_scooter                  1.0   \n",
       "855                  3          Meal  electric_scooter                  0.0   \n",
       "881                  3         Snack           bicycle                  1.0   \n",
       "884                  2         Snack  electric_scooter                  1.0   \n",
       "911                  3        Drinks           scooter                  1.0   \n",
       "939                  3        Drinks        motorcycle                  0.0   \n",
       "962                  1        Drinks        motorcycle                  0.0   \n",
       "993                  3        Drinks           scooter                  0.0   \n",
       "1012                 2        Buffet        motorcycle                  0.0   \n",
       "1015                 3        Buffet           scooter                  1.0   \n",
       "1024                 1        Buffet           scooter                  1.0   \n",
       "1038                 1        Drinks           scooter                  1.0   \n",
       "1039                 3          Meal  electric_scooter                  1.0   \n",
       "1049                 1         Snack        motorcycle                  1.0   \n",
       "1050                 1        Buffet        motorcycle                  1.0   \n",
       "1057                 0          Meal        motorcycle                  0.0   \n",
       "1071                 3        Drinks  electric_scooter                  1.0   \n",
       "1079                 1         Snack        motorcycle                  0.0   \n",
       "1131                 0        Buffet        motorcycle                  0.0   \n",
       "\n",
       "     Festival           City Time_taken(min)  \n",
       "3          No  Metropolitian        (min) 16  \n",
       "61         No  Metropolitian        (min) 27  \n",
       "103        No  Metropolitian        (min) 34  \n",
       "117        No          Urban        (min) 22  \n",
       "136        No  Metropolitian        (min) 31  \n",
       "171        No  Metropolitian        (min) 22  \n",
       "172        No  Metropolitian        (min) 37  \n",
       "193        No  Metropolitian        (min) 21  \n",
       "204        No  Metropolitian        (min) 30  \n",
       "207        No          Urban        (min) 18  \n",
       "229        No  Metropolitian        (min) 28  \n",
       "232        No  Metropolitian        (min) 23  \n",
       "246        No          Urban        (min) 21  \n",
       "261        No  Metropolitian        (min) 29  \n",
       "349        No          Urban        (min) 26  \n",
       "352        No  Metropolitian        (min) 22  \n",
       "353        No          Urban        (min) 12  \n",
       "356        No  Metropolitian        (min) 24  \n",
       "396        No          Urban        (min) 21  \n",
       "413        No          Urban        (min) 22  \n",
       "435        No  Metropolitian        (min) 24  \n",
       "471        No  Metropolitian        (min) 22  \n",
       "476        No  Metropolitian        (min) 27  \n",
       "493        No  Metropolitian        (min) 23  \n",
       "506        No          Urban        (min) 31  \n",
       "579        No  Metropolitian        (min) 25  \n",
       "602        No  Metropolitian        (min) 27  \n",
       "604        No  Metropolitian        (min) 27  \n",
       "617        No  Metropolitian        (min) 24  \n",
       "644        No  Metropolitian        (min) 14  \n",
       "670        No          Urban        (min) 19  \n",
       "674        No          Urban        (min) 26  \n",
       "681        No  Metropolitian        (min) 19  \n",
       "686        No  Metropolitian        (min) 14  \n",
       "738        No  Metropolitian        (min) 22  \n",
       "764        No          Urban        (min) 11  \n",
       "779        No  Metropolitian        (min) 21  \n",
       "782        No  Metropolitian        (min) 20  \n",
       "820        No  Metropolitian        (min) 37  \n",
       "835        No  Metropolitian        (min) 23  \n",
       "845        No  Metropolitian        (min) 15  \n",
       "855        No  Metropolitian        (min) 27  \n",
       "881        No  Metropolitian        (min) 18  \n",
       "884        No  Metropolitian        (min) 14  \n",
       "911        No  Metropolitian        (min) 13  \n",
       "939        No  Metropolitian        (min) 19  \n",
       "962        No  Metropolitian        (min) 20  \n",
       "993        No  Metropolitian        (min) 24  \n",
       "1012       No          Urban        (min) 32  \n",
       "1015       No  Metropolitian        (min) 47  \n",
       "1024       No  Metropolitian        (min) 31  \n",
       "1038       No  Metropolitian        (min) 18  \n",
       "1039       No          Urban        (min) 15  \n",
       "1049       No  Metropolitian        (min) 16  \n",
       "1050       No  Metropolitian        (min) 26  \n",
       "1057       No  Metropolitian        (min) 26  \n",
       "1071       No  Metropolitian        (min) 24  \n",
       "1079       No  Metropolitian        (min) 19  \n",
       "1131       No  Metropolitian        (min) 25  "
      ]
     },
     "execution_count": 224,
     "metadata": {},
     "output_type": "execute_result"
    }
   ],
   "source": [
    "df[(df[\"Order_Date\"] == \"01-03-2022\") & (df[\"Time_Orderd\"].isna())]"
   ]
  },
  {
   "cell_type": "code",
   "execution_count": 421,
   "metadata": {},
   "outputs": [
    {
     "name": "stdout",
     "output_type": "stream",
     "text": [
      "                            OLS Regression Results                            \n",
      "==============================================================================\n",
      "Dep. Variable:                    Age   R-squared:                       0.009\n",
      "Model:                            OLS   Adj. R-squared:                  0.008\n",
      "Method:                 Least Squares   F-statistic:                     20.89\n",
      "Date:                Sat, 07 Sep 2024   Prob (F-statistic):           1.86e-68\n",
      "Time:                        12:55:57   Log-Likelihood:            -1.3800e+05\n",
      "No. Observations:               43594   AIC:                         2.760e+05\n",
      "Df Residuals:                   43575   BIC:                         2.762e+05\n",
      "Df Model:                          18                                         \n",
      "Covariance Type:            nonrobust                                         \n",
      "===================================================================================================\n",
      "                                      coef    std err          t      P>|t|      [0.025      0.975]\n",
      "---------------------------------------------------------------------------------------------------\n",
      "Intercept                          29.8777      0.174    171.879      0.000      29.537      30.218\n",
      "Weatherconditions[T.Fog]           -0.1786      0.095     -1.887      0.059      -0.364       0.007\n",
      "Weatherconditions[T.Sandstorms]    -0.0033      0.095     -0.035      0.972      -0.190       0.184\n",
      "Weatherconditions[T.Stormy]         0.0752      0.095      0.792      0.428      -0.111       0.261\n",
      "Weatherconditions[T.Sunny]          0.1279      0.096      1.332      0.183      -0.060       0.316\n",
      "Weatherconditions[T.Windy]         -0.0435      0.095     -0.456      0.648      -0.231       0.144\n",
      "Road_traffic_density[T.Jam]        -0.1823      0.101     -1.814      0.070      -0.379       0.015\n",
      "Road_traffic_density[T.Low]         0.0128      0.099      0.129      0.898      -0.182       0.208\n",
      "Road_traffic_density[T.Medium]     -0.0885      0.104     -0.853      0.394      -0.292       0.115\n",
      "Vehicle_condition[T.1]              0.1234      0.077      1.601      0.109      -0.028       0.274\n",
      "Vehicle_condition[T.2]              0.0852      0.088      0.968      0.333      -0.087       0.258\n",
      "Vehicle_condition[T.3]          -1.292e-15   2.63e-16     -4.906      0.000   -1.81e-15   -7.76e-16\n",
      "Type_of_order[T.Drinks]            -0.0692      0.078     -0.886      0.376      -0.222       0.084\n",
      "Type_of_order[T.Meal]              -0.0136      0.078     -0.175      0.861      -0.166       0.139\n",
      "Type_of_order[T.Snack]             -0.1205      0.078     -1.551      0.121      -0.273       0.032\n",
      "Type_of_vehicle[T.motorcycle]      -0.1264      0.122     -1.039      0.299      -0.365       0.112\n",
      "Type_of_vehicle[T.scooter]         -0.1419      0.114     -1.248      0.212      -0.365       0.081\n",
      "Festival[T.Yes]                     2.4222      0.203     11.961      0.000       2.025       2.819\n",
      "City[T.Semi-Urban]                  2.4066      0.470      5.118      0.000       1.485       3.328\n",
      "City[T.Urban]                      -0.8772      0.066    -13.201      0.000      -1.007      -0.747\n",
      "==============================================================================\n",
      "Omnibus:                    32267.593   Durbin-Watson:                   2.009\n",
      "Prob(Omnibus):                  0.000   Jarque-Bera (JB):             2529.793\n",
      "Skew:                          -0.012   Prob(JB):                         0.00\n",
      "Kurtosis:                       1.820   Cond. No.                     4.31e+17\n",
      "==============================================================================\n",
      "\n",
      "Notes:\n",
      "[1] Standard Errors assume that the covariance matrix of the errors is correctly specified.\n",
      "[2] The smallest eigenvalue is 5.53e-31. This might indicate that there are\n",
      "strong multicollinearity problems or that the design matrix is singular.\n",
      "Coefficients (rounded):\n",
      "Intercept                          29.88\n",
      "Weatherconditions[T.Fog]           -0.18\n",
      "Weatherconditions[T.Sandstorms]    -0.00\n",
      "Weatherconditions[T.Stormy]         0.08\n",
      "Weatherconditions[T.Sunny]          0.13\n",
      "Weatherconditions[T.Windy]         -0.04\n",
      "Road_traffic_density[T.Jam]        -0.18\n",
      "Road_traffic_density[T.Low]         0.01\n",
      "Road_traffic_density[T.Medium]     -0.09\n",
      "Vehicle_condition[T.1]              0.12\n",
      "Vehicle_condition[T.2]              0.09\n",
      "Vehicle_condition[T.3]             -0.00\n",
      "Type_of_order[T.Drinks]            -0.07\n",
      "Type_of_order[T.Meal]              -0.01\n",
      "Type_of_order[T.Snack]             -0.12\n",
      "Type_of_vehicle[T.motorcycle]      -0.13\n",
      "Type_of_vehicle[T.scooter]         -0.14\n",
      "Festival[T.Yes]                     2.42\n",
      "City[T.Semi-Urban]                  2.41\n",
      "City[T.Urban]                      -0.88\n",
      "dtype: float64\n",
      "\n",
      "P-values (rounded):\n",
      "Intercept                          0.0000\n",
      "Weatherconditions[T.Fog]           0.0591\n",
      "Weatherconditions[T.Sandstorms]    0.9722\n",
      "Weatherconditions[T.Stormy]        0.4281\n",
      "Weatherconditions[T.Sunny]         0.1827\n",
      "Weatherconditions[T.Windy]         0.6482\n",
      "Road_traffic_density[T.Jam]        0.0698\n",
      "Road_traffic_density[T.Low]        0.8977\n",
      "Road_traffic_density[T.Medium]     0.3937\n",
      "Vehicle_condition[T.1]             0.1093\n",
      "Vehicle_condition[T.2]             0.3330\n",
      "Vehicle_condition[T.3]             0.0000\n",
      "Type_of_order[T.Drinks]            0.3755\n",
      "Type_of_order[T.Meal]              0.8612\n",
      "Type_of_order[T.Snack]             0.1209\n",
      "Type_of_vehicle[T.motorcycle]      0.2986\n",
      "Type_of_vehicle[T.scooter]         0.2119\n",
      "Festival[T.Yes]                    0.0000\n",
      "City[T.Semi-Urban]                 0.0000\n",
      "City[T.Urban]                      0.0000\n",
      "dtype: float64\n",
      "\n",
      "R-squared (rounded): 0.009\n"
     ]
    }
   ],
   "source": [
    "# Hypothesis Testing\n",
    "# One-way ANOVA\n",
    "import statsmodels.formula.api as smf\n",
    "\n",
    "nonna_df = df.dropna()\n",
    "# Perform one-way ANOVA\n",
    "model = smf.ols(\n",
    "    formula=\"Age ~ Weatherconditions + Road_traffic_density + Vehicle_condition + Type_of_order + Type_of_vehicle + Festival + City\",\n",
    "    data=nonna_df,\n",
    ")\n",
    "result = model.fit()\n",
    "\n",
    "# Print the ANOVA table\n",
    "print(result.summary())\n",
    "\n",
    "# Extract the coefficients and other important values, rounding them\n",
    "coefficients = result.params.round(2)  # Rounding the coefficients to 2 decimal places\n",
    "pvalues = result.pvalues.round(4)  # Rounding the p-values to 4 decimal places\n",
    "rsquared = round(result.rsquared, 3)  # Rounding R-squared to 3 decimal places\n",
    "\n",
    "# Displaying rounded values manually\n",
    "print(\"Coefficients (rounded):\")\n",
    "print(coefficients)\n",
    "print(\"\\nP-values (rounded):\")\n",
    "print(pvalues)\n",
    "print(f\"\\nR-squared (rounded): {rsquared}\")"
   ]
  },
  {
   "cell_type": "code",
   "execution_count": 219,
   "metadata": {},
   "outputs": [
    {
     "data": {
      "text/plain": [
       "[]"
      ]
     },
     "execution_count": 219,
     "metadata": {},
     "output_type": "execute_result"
    },
    {
     "data": {
      "image/png": "[encoded data removed]",
      "text/plain": [
       "<Figure size 640x480 with 1 Axes>"
      ]
     },
     "metadata": {},
     "output_type": "display_data"
    }
   ],
   "source": [
    "# dist of Age\n",
    "sns.kdeplot(df[\"Age\"])\n",
    "sns.rugplot(df[\"Age\"])\n",
    "plt.plot()"
   ]
  },
  {
   "cell_type": "code",
   "execution_count": 217,
   "metadata": {},
   "outputs": [
    {
     "data": {
      "text/plain": [
       "[]"
      ]
     },
     "execution_count": 217,
     "metadata": {},
     "output_type": "execute_result"
    },
    {
     "data": {
      "image/png": "[encoded data removed]",
      "text/plain": [
       "<Figure size 640x480 with 1 Axes>"
      ]
     },
     "metadata": {},
     "output_type": "display_data"
    }
   ],
   "source": [
    "# dist of rating\n",
    "sns.kdeplot(df[\"Ratings\"])\n",
    "sns.rugplot(df[\"Ratings\"])\n",
    "plt.plot()"
   ]
  },
  {
   "cell_type": "code",
   "execution_count": 218,
   "metadata": {},
   "outputs": [
    {
     "data": {
      "text/plain": [
       "[]"
      ]
     },
     "execution_count": 218,
     "metadata": {},
     "output_type": "execute_result"
    },
    {
     "data": {
      "image/png": "[encoded data removed]",
      "text/plain": [
       "<Figure size 500x500 with 1 Axes>"
      ]
     },
     "metadata": {},
     "output_type": "display_data"
    }
   ],
   "source": [
    "# rel b/w age & rating\n",
    "sns.relplot(x=df[\"Age\"], y=df[\"Ratings\"], kind=\"scatter\")\n",
    "plt.plot()"
   ]
  },
  {
   "cell_type": "markdown",
   "metadata": {},
   "source": [
    "# Feature Engineering\n",
    "\n",
    "\"restaurant - delivery location\" latitude & longitude\n",
    "\n",
    "- Euclidean dist\n",
    "- haversine dist\n",
    "- manhattan dist\n",
    "- estimate delivery time (assume 30 kmph)\n",
    "\n",
    "time ordered & time order picked\n",
    "\n",
    "- time lag\n",
    "- is weekend\n",
    "- is rush hour (i.e lunch or dinner time)\n",
    "\n",
    "order date\n",
    "\n",
    "- hour\n",
    "- day of week\n",
    "- month\n",
    "- quarter\n",
    "- year\n"
   ]
  },
  {
   "cell_type": "code",
   "execution_count": 475,
   "metadata": {},
   "outputs": [],
   "source": [
    "from math import radians, sin, cos, sqrt, atan2"
   ]
  },
  {
   "cell_type": "code",
   "execution_count": 563,
   "metadata": {},
   "outputs": [],
   "source": [
    "# Convert degrees to radians for Haversine calculation\n",
    "def haversine(df):\n",
    "    lat1, lon1, lat2, lon2 = (\n",
    "        df[\"Restaurant_latitude\"],\n",
    "        df[\"Restaurant_longitude\"],\n",
    "        df[\"Delivery_location_latitude\"],\n",
    "        df[\"Delivery_location_longitude\"],\n",
    "    )\n",
    "    R = 6371.0  # Earth radius in kilometers\n",
    "    dlat = radians(abs(lat2) - abs(lat1))\n",
    "    dlon = radians(abs(lon2) - abs(lon1))\n",
    "\n",
    "    a = (\n",
    "        sin(dlat / 2) ** 2\n",
    "        + cos(radians(lat1)) * cos(radians(lat2)) * sin(dlon / 2) ** 2\n",
    "    )\n",
    "    c = 2 * atan2(sqrt(a), sqrt(1 - a))\n",
    "\n",
    "    return round(R * c, 3)  # Distance in kilometers"
   ]
  },
  {
   "cell_type": "code",
   "execution_count": 564,
   "metadata": {},
   "outputs": [],
   "source": [
    "df[\"haversine_dist\"] = df.apply(haversine, axis=1)"
   ]
  },
  {
   "cell_type": "code",
   "execution_count": 567,
   "metadata": {},
   "outputs": [],
   "source": [
    "lat_lon = df[df[\"haversine_dist\"] > 20].loc[\n",
    "    :,\n",
    "    [\n",
    "        \"Restaurant_latitude\",\n",
    "        \"Restaurant_longitude\",\n",
    "        \"Delivery_location_latitude\",\n",
    "        \"Delivery_location_longitude\",\n",
    "        \"Order_Date\",\n",
    "        \"Time_Orderd\",\n",
    "        \"Time_Order_picked\",\n",
    "        \"Time_taken(min)\",\n",
    "        \"haversine_dist\",\n",
    "    ],\n",
    "]"
   ]
  },
  {
   "cell_type": "code",
   "execution_count": 568,
   "metadata": {},
   "outputs": [
    {
     "data": {
      "text/html": [
       "<div>\n",
       "<style scoped>\n",
       "    .dataframe tbody tr th:only-of-type {\n",
       "        vertical-align: middle;\n",
       "    }\n",
       "\n",
       "    .dataframe tbody tr th {\n",
       "        vertical-align: top;\n",
       "    }\n",
       "\n",
       "    .dataframe thead th {\n",
       "        text-align: right;\n",
       "    }\n",
       "</style>\n",
       "<table border=\"1\" class=\"dataframe\">\n",
       "  <thead>\n",
       "    <tr style=\"text-align: right;\">\n",
       "      <th></th>\n",
       "      <th>Restaurant_latitude</th>\n",
       "      <th>Restaurant_longitude</th>\n",
       "      <th>Delivery_location_latitude</th>\n",
       "      <th>Delivery_location_longitude</th>\n",
       "      <th>Order_Date</th>\n",
       "      <th>Time_Orderd</th>\n",
       "      <th>Time_Order_picked</th>\n",
       "      <th>Time_taken(min)</th>\n",
       "      <th>haversine_dist</th>\n",
       "    </tr>\n",
       "  </thead>\n",
       "  <tbody>\n",
       "    <tr>\n",
       "      <th>1</th>\n",
       "      <td>12.913041</td>\n",
       "      <td>77.683237</td>\n",
       "      <td>13.043041</td>\n",
       "      <td>77.813237</td>\n",
       "      <td>2022-03-25</td>\n",
       "      <td>19:45:00</td>\n",
       "      <td>19:50:00</td>\n",
       "      <td>(min) 33</td>\n",
       "      <td>20.184</td>\n",
       "    </tr>\n",
       "    <tr>\n",
       "      <th>7</th>\n",
       "      <td>12.352058</td>\n",
       "      <td>76.606650</td>\n",
       "      <td>12.482058</td>\n",
       "      <td>76.736650</td>\n",
       "      <td>2022-03-14</td>\n",
       "      <td>17:25:00</td>\n",
       "      <td>17:30:00</td>\n",
       "      <td>(min) 32</td>\n",
       "      <td>20.205</td>\n",
       "    </tr>\n",
       "    <tr>\n",
       "      <th>22</th>\n",
       "      <td>12.986047</td>\n",
       "      <td>80.218114</td>\n",
       "      <td>13.116047</td>\n",
       "      <td>80.348114</td>\n",
       "      <td>2022-03-27</td>\n",
       "      <td>19:30:00</td>\n",
       "      <td>19:45:00</td>\n",
       "      <td>(min) 39</td>\n",
       "      <td>20.181</td>\n",
       "    </tr>\n",
       "    <tr>\n",
       "      <th>107</th>\n",
       "      <td>12.284747</td>\n",
       "      <td>76.625861</td>\n",
       "      <td>12.414747</td>\n",
       "      <td>76.755861</td>\n",
       "      <td>2022-03-23</td>\n",
       "      <td>20:10:00</td>\n",
       "      <td>20:20:00</td>\n",
       "      <td>(min) 42</td>\n",
       "      <td>20.208</td>\n",
       "    </tr>\n",
       "    <tr>\n",
       "      <th>109</th>\n",
       "      <td>11.000762</td>\n",
       "      <td>76.981876</td>\n",
       "      <td>11.130762</td>\n",
       "      <td>77.111876</td>\n",
       "      <td>2022-03-08</td>\n",
       "      <td>20:35:00</td>\n",
       "      <td>20:45:00</td>\n",
       "      <td>(min) 38</td>\n",
       "      <td>20.254</td>\n",
       "    </tr>\n",
       "    <tr>\n",
       "      <th>...</th>\n",
       "      <td>...</td>\n",
       "      <td>...</td>\n",
       "      <td>...</td>\n",
       "      <td>...</td>\n",
       "      <td>...</td>\n",
       "      <td>...</td>\n",
       "      <td>...</td>\n",
       "      <td>...</td>\n",
       "      <td>...</td>\n",
       "    </tr>\n",
       "    <tr>\n",
       "      <th>45494</th>\n",
       "      <td>0.000000</td>\n",
       "      <td>0.000000</td>\n",
       "      <td>0.130000</td>\n",
       "      <td>0.130000</td>\n",
       "      <td>2022-02-14</td>\n",
       "      <td>19:35:00</td>\n",
       "      <td>19:45:00</td>\n",
       "      <td>(min) 34</td>\n",
       "      <td>20.443</td>\n",
       "    </tr>\n",
       "    <tr>\n",
       "      <th>45513</th>\n",
       "      <td>30.335259</td>\n",
       "      <td>78.053162</td>\n",
       "      <td>30.475259</td>\n",
       "      <td>78.193162</td>\n",
       "      <td>2022-02-16</td>\n",
       "      <td>18:10:00</td>\n",
       "      <td>18:20:00</td>\n",
       "      <td>(min) 41</td>\n",
       "      <td>20.557</td>\n",
       "    </tr>\n",
       "    <tr>\n",
       "      <th>45531</th>\n",
       "      <td>0.000000</td>\n",
       "      <td>0.000000</td>\n",
       "      <td>0.130000</td>\n",
       "      <td>0.130000</td>\n",
       "      <td>2022-03-10</td>\n",
       "      <td>00:00:00</td>\n",
       "      <td>00:10:00</td>\n",
       "      <td>(min) 22</td>\n",
       "      <td>20.443</td>\n",
       "    </tr>\n",
       "    <tr>\n",
       "      <th>45576</th>\n",
       "      <td>0.000000</td>\n",
       "      <td>0.000000</td>\n",
       "      <td>0.130000</td>\n",
       "      <td>0.130000</td>\n",
       "      <td>2022-04-04</td>\n",
       "      <td>17:25:00</td>\n",
       "      <td>17:30:00</td>\n",
       "      <td>(min) 48</td>\n",
       "      <td>20.443</td>\n",
       "    </tr>\n",
       "    <tr>\n",
       "      <th>45583</th>\n",
       "      <td>12.310972</td>\n",
       "      <td>76.659264</td>\n",
       "      <td>12.440972</td>\n",
       "      <td>76.789264</td>\n",
       "      <td>2022-03-18</td>\n",
       "      <td>21:10:00</td>\n",
       "      <td>21:20:00</td>\n",
       "      <td>(min) 29</td>\n",
       "      <td>20.207</td>\n",
       "    </tr>\n",
       "  </tbody>\n",
       "</table>\n",
       "<p>2136 rows × 9 columns</p>\n",
       "</div>"
      ],
      "text/plain": [
       "       Restaurant_latitude  Restaurant_longitude  Delivery_location_latitude  \\\n",
       "1                12.913041             77.683237                   13.043041   \n",
       "7                12.352058             76.606650                   12.482058   \n",
       "22               12.986047             80.218114                   13.116047   \n",
       "107              12.284747             76.625861                   12.414747   \n",
       "109              11.000762             76.981876                   11.130762   \n",
       "...                    ...                   ...                         ...   \n",
       "45494             0.000000              0.000000                    0.130000   \n",
       "45513            30.335259             78.053162                   30.475259   \n",
       "45531             0.000000              0.000000                    0.130000   \n",
       "45576             0.000000              0.000000                    0.130000   \n",
       "45583            12.310972             76.659264                   12.440972   \n",
       "\n",
       "       Delivery_location_longitude Order_Date Time_Orderd Time_Order_picked  \\\n",
       "1                        77.813237 2022-03-25    19:45:00          19:50:00   \n",
       "7                        76.736650 2022-03-14    17:25:00          17:30:00   \n",
       "22                       80.348114 2022-03-27    19:30:00          19:45:00   \n",
       "107                      76.755861 2022-03-23    20:10:00          20:20:00   \n",
       "109                      77.111876 2022-03-08    20:35:00          20:45:00   \n",
       "...                            ...        ...         ...               ...   \n",
       "45494                     0.130000 2022-02-14    19:35:00          19:45:00   \n",
       "45513                    78.193162 2022-02-16    18:10:00          18:20:00   \n",
       "45531                     0.130000 2022-03-10    00:00:00          00:10:00   \n",
       "45576                     0.130000 2022-04-04    17:25:00          17:30:00   \n",
       "45583                    76.789264 2022-03-18    21:10:00          21:20:00   \n",
       "\n",
       "      Time_taken(min)  haversine_dist  \n",
       "1            (min) 33          20.184  \n",
       "7            (min) 32          20.205  \n",
       "22           (min) 39          20.181  \n",
       "107          (min) 42          20.208  \n",
       "109          (min) 38          20.254  \n",
       "...               ...             ...  \n",
       "45494        (min) 34          20.443  \n",
       "45513        (min) 41          20.557  \n",
       "45531        (min) 22          20.443  \n",
       "45576        (min) 48          20.443  \n",
       "45583        (min) 29          20.207  \n",
       "\n",
       "[2136 rows x 9 columns]"
      ]
     },
     "execution_count": 568,
     "metadata": {},
     "output_type": "execute_result"
    }
   ],
   "source": [
    "lat_lon"
   ]
  },
  {
   "cell_type": "code",
   "execution_count": null,
   "metadata": {},
   "outputs": [],
   "source": []
  },
  {
   "cell_type": "code",
   "execution_count": null,
   "metadata": {},
   "outputs": [],
   "source": []
  },
  {
   "cell_type": "code",
   "execution_count": null,
   "metadata": {},
   "outputs": [],
   "source": [
    "# Euclidean Distance (assuming flat plane, less accurate for real-world distances)\n",
    "# def euclidean(lat1, lon1, lat2, lon2):\n",
    "#     return sqrt((lat2 - lat1) ** 2 + (lon2 - lon1) ** 2)"
   ]
  },
  {
   "cell_type": "code",
   "execution_count": null,
   "metadata": {},
   "outputs": [],
   "source": [
    "# Manhattan Distance (approximation of a grid-like path)\n",
    "def manhattan(lat1, lon1, lat2, lon2):\n",
    "    return abs(lat2 - lat1) + abs(lon2 - lon1)"
   ]
  },
  {
   "cell_type": "code",
   "execution_count": 491,
   "metadata": {},
   "outputs": [],
   "source": [
    "# Estimated Delivery Time assuming 30 km/h\n",
    "def estimated_delivery_time(df):\n",
    "    distance_km = df[\"haversine_dist\"]\n",
    "    return distance_km / 30  # Time in hours"
   ]
  },
  {
   "cell_type": "code",
   "execution_count": null,
   "metadata": {},
   "outputs": [],
   "source": []
  },
  {
   "cell_type": "code",
   "execution_count": 492,
   "metadata": {},
   "outputs": [],
   "source": [
    "# estimated time (in min)\n",
    "df[\"estm_time\"] = df.apply(estimated_delivery_time, axis=1)\n",
    "df[\"estm_time\"] = round(df[\"estm_time\"] * 60, 3)"
   ]
  },
  {
   "cell_type": "code",
   "execution_count": 541,
   "metadata": {},
   "outputs": [
    {
     "data": {
      "text/plain": [
       "<Axes: xlabel='estm_time', ylabel='Density'>"
      ]
     },
     "execution_count": 541,
     "metadata": {},
     "output_type": "execute_result"
    },
    {
     "data": {
      "image/png": "[encoded data removed]",
      "text/plain": [
       "<Figure size 640x480 with 1 Axes>"
      ]
     },
     "metadata": {},
     "output_type": "display_data"
    }
   ],
   "source": [
    "sns.kdeplot(df[\"estm_time\"])"
   ]
  },
  {
   "cell_type": "code",
   "execution_count": 511,
   "metadata": {},
   "outputs": [],
   "source": [
    "# get ordered_hour, ordered_min, picked_hour, picked_min\n",
    "df[\"ordered_hour\"] = df[\"Time_Orderd\"].apply(lambda x: x.hour)\n",
    "df[\"ordered_min\"] = df[\"Time_Orderd\"].apply(lambda x: x.minute)\n",
    "df[\"picked_hour\"] = df[\"Time_Order_picked\"].apply(lambda x: x.hour)\n",
    "df[\"picked_min\"] = df[\"Time_Order_picked\"].apply(lambda x: x.minute)"
   ]
  },
  {
   "cell_type": "code",
   "execution_count": 530,
   "metadata": {},
   "outputs": [],
   "source": [
    "# ese order bhi he jo 12 bje se phle order hue ho or 12 k baad pickup hue ho\n",
    "df[\"time_lag\"] = np.where(\n",
    "    (df[\"picked_hour\"] - df[\"ordered_hour\"]) < 0,\n",
    "    (23 + df[\"picked_hour\"] - df[\"ordered_hour\"]) * 60\n",
    "    + (60 + df[\"picked_min\"] - df[\"ordered_min\"]),\n",
    "    (df[\"picked_hour\"] - df[\"ordered_hour\"]) * 60\n",
    "    + (df[\"picked_min\"] - df[\"ordered_min\"]),\n",
    ")"
   ]
  },
  {
   "cell_type": "code",
   "execution_count": 540,
   "metadata": {},
   "outputs": [
    {
     "data": {
      "image/png": "[encoded data removed]",
      "text/plain": [
       "<Figure size 640x480 with 1 Axes>"
      ]
     },
     "metadata": {},
     "output_type": "display_data"
    }
   ],
   "source": [
    "sns.kdeplot(df[\"time_lag\"])\n",
    "plt.show()"
   ]
  },
  {
   "cell_type": "code",
   "execution_count": 457,
   "metadata": {},
   "outputs": [],
   "source": [
    "# extract hour\n",
    "df[\"hour\"] = df[\"Time_Orderd\"].apply(lambda x: x.hour)"
   ]
  },
  {
   "cell_type": "code",
   "execution_count": 452,
   "metadata": {},
   "outputs": [],
   "source": [
    "# get week day\n",
    "df[\"day\"] = df[\"Order_Date\"].dt.strftime(\"%A\")"
   ]
  },
  {
   "cell_type": "code",
   "execution_count": 463,
   "metadata": {},
   "outputs": [],
   "source": [
    "# is_weekend\n",
    "df[\"is_weekend\"] = df[\"day\"].apply(lambda x: 1 if x in [\"Saturday\", \"Sunday\"] else 0)"
   ]
  },
  {
   "cell_type": "code",
   "execution_count": 470,
   "metadata": {},
   "outputs": [],
   "source": [
    "# 5. Rush Hour (1 if order time is between 11:00-14:00 or 19:00-23:00, else 0)\n",
    "df[\"is_rush\"] = df[\"hour\"].apply(\n",
    "    lambda x: 1 if (11 <= x <= 14) or (19 <= x <= 23) else 0\n",
    ")"
   ]
  },
  {
   "cell_type": "code",
   "execution_count": null,
   "metadata": {},
   "outputs": [],
   "source": []
  },
  {
   "cell_type": "markdown",
   "metadata": {},
   "source": [
    "<font color = 'orange'>\n",
    "\n",
    "## <b> Script & Data Testing"
   ]
  },
  {
   "cell_type": "code",
   "execution_count": 54,
   "metadata": {},
   "outputs": [
    {
     "name": "stdout",
     "output_type": "stream",
     "text": [
      "e:/MLOps/delivery-time-estm\n"
     ]
    }
   ],
   "source": [
    "import pathlib\n",
    "\n",
    "home_dir = pathlib.Path().absolute().parent.as_posix()\n",
    "print(home_dir)\n",
    "\n",
    "if pathlib.Path(f\"{home_dir}/notebooks/sample.txt\").exists() :\n",
    "    pathlib.Path(f\"{home_dir}/notebooks/sample.txt\").unlink()\n"
   ]
  },
  {
   "cell_type": "code",
   "execution_count": 26,
   "metadata": {},
   "outputs": [],
   "source": [
    "import pathlib\n",
    "import pandas as pd\n",
    "\n",
    "pd.set_option('display.max_columns', None)\n",
    "\n",
    "train_df = pd.read_csv(f\"{pathlib.Path().absolute().parent.as_posix()}/data/processed/processed_train.csv\")\n",
    "test_df = pd.read_csv(f\"{pathlib.Path().absolute().parent.as_posix()}/data/processed/processed_test.csv\")"
   ]
  },
  {
   "cell_type": "code",
   "execution_count": 29,
   "metadata": {},
   "outputs": [
    {
     "data": {
      "text/plain": [
       "(8714, 18)"
      ]
     },
     "execution_count": 29,
     "metadata": {},
     "output_type": "execute_result"
    }
   ],
   "source": [
    "test_df.shape"
   ]
  },
  {
   "cell_type": "code",
   "execution_count": 27,
   "metadata": {},
   "outputs": [
    {
     "data": {
      "text/html": [
       "<div>\n",
       "<style scoped>\n",
       "    .dataframe tbody tr th:only-of-type {\n",
       "        vertical-align: middle;\n",
       "    }\n",
       "\n",
       "    .dataframe tbody tr th {\n",
       "        vertical-align: top;\n",
       "    }\n",
       "\n",
       "    .dataframe thead th {\n",
       "        text-align: right;\n",
       "    }\n",
       "</style>\n",
       "<table border=\"1\" class=\"dataframe\">\n",
       "  <thead>\n",
       "    <tr style=\"text-align: right;\">\n",
       "      <th></th>\n",
       "      <th>0</th>\n",
       "      <th>index</th>\n",
       "    </tr>\n",
       "  </thead>\n",
       "  <tbody>\n",
       "    <tr>\n",
       "      <th>0</th>\n",
       "      <td>int64</td>\n",
       "      <td>Age</td>\n",
       "    </tr>\n",
       "    <tr>\n",
       "      <th>1</th>\n",
       "      <td>float64</td>\n",
       "      <td>Ratings</td>\n",
       "    </tr>\n",
       "    <tr>\n",
       "      <th>2</th>\n",
       "      <td>int64</td>\n",
       "      <td>Weatherconditions</td>\n",
       "    </tr>\n",
       "    <tr>\n",
       "      <th>3</th>\n",
       "      <td>int64</td>\n",
       "      <td>Road_traffic_density</td>\n",
       "    </tr>\n",
       "    <tr>\n",
       "      <th>4</th>\n",
       "      <td>int64</td>\n",
       "      <td>Vehicle_condition</td>\n",
       "    </tr>\n",
       "    <tr>\n",
       "      <th>5</th>\n",
       "      <td>int64</td>\n",
       "      <td>Type_of_order</td>\n",
       "    </tr>\n",
       "    <tr>\n",
       "      <th>6</th>\n",
       "      <td>int64</td>\n",
       "      <td>Type_of_vehicle</td>\n",
       "    </tr>\n",
       "    <tr>\n",
       "      <th>7</th>\n",
       "      <td>int64</td>\n",
       "      <td>multiple_deliveries</td>\n",
       "    </tr>\n",
       "    <tr>\n",
       "      <th>8</th>\n",
       "      <td>int64</td>\n",
       "      <td>Festival</td>\n",
       "    </tr>\n",
       "    <tr>\n",
       "      <th>9</th>\n",
       "      <td>int64</td>\n",
       "      <td>City</td>\n",
       "    </tr>\n",
       "    <tr>\n",
       "      <th>10</th>\n",
       "      <td>int64</td>\n",
       "      <td>Time_taken(min)</td>\n",
       "    </tr>\n",
       "    <tr>\n",
       "      <th>11</th>\n",
       "      <td>float64</td>\n",
       "      <td>haversine_dist</td>\n",
       "    </tr>\n",
       "    <tr>\n",
       "      <th>12</th>\n",
       "      <td>float64</td>\n",
       "      <td>estm_time</td>\n",
       "    </tr>\n",
       "    <tr>\n",
       "      <th>13</th>\n",
       "      <td>float64</td>\n",
       "      <td>time_lag</td>\n",
       "    </tr>\n",
       "    <tr>\n",
       "      <th>14</th>\n",
       "      <td>float64</td>\n",
       "      <td>hour</td>\n",
       "    </tr>\n",
       "    <tr>\n",
       "      <th>15</th>\n",
       "      <td>int64</td>\n",
       "      <td>day</td>\n",
       "    </tr>\n",
       "    <tr>\n",
       "      <th>16</th>\n",
       "      <td>int64</td>\n",
       "      <td>is_weekend</td>\n",
       "    </tr>\n",
       "    <tr>\n",
       "      <th>17</th>\n",
       "      <td>int64</td>\n",
       "      <td>is_rush</td>\n",
       "    </tr>\n",
       "  </tbody>\n",
       "</table>\n",
       "</div>"
      ],
      "text/plain": [
       "          0                 index\n",
       "0     int64                   Age\n",
       "1   float64               Ratings\n",
       "2     int64     Weatherconditions\n",
       "3     int64  Road_traffic_density\n",
       "4     int64     Vehicle_condition\n",
       "5     int64         Type_of_order\n",
       "6     int64       Type_of_vehicle\n",
       "7     int64   multiple_deliveries\n",
       "8     int64              Festival\n",
       "9     int64                  City\n",
       "10    int64       Time_taken(min)\n",
       "11  float64        haversine_dist\n",
       "12  float64             estm_time\n",
       "13  float64              time_lag\n",
       "14  float64                  hour\n",
       "15    int64                   day\n",
       "16    int64            is_weekend\n",
       "17    int64               is_rush"
      ]
     },
     "execution_count": 27,
     "metadata": {},
     "output_type": "execute_result"
    }
   ],
   "source": [
    "pd.DataFrame(train_df.dtypes).reset_index().iloc[:, [1,0]]"
   ]
  },
  {
   "cell_type": "code",
   "execution_count": null,
   "metadata": {},
   "outputs": [],
   "source": [
    "'int64',\t'Age'\n",
    "'float64',\t'Ratings'\n",
    "'int64',\t'Weatherconditions'\n",
    "'int64',\t'Road_traffic_density'\n",
    "'int64',\t'Vehicle_condition'\n",
    "'int64',\t'Type_of_order'\n",
    "'int64',\t'Type_of_vehicle'\n",
    "'float64',\t'multiple_deliveries'\n",
    "'int64',\t'Festival'\n",
    "'int64',\t'City'\n",
    "'int64',\t'Time_taken(min)'\n",
    "'float64',\t'haversine_dist'\n",
    "'float64',\t'estm_time'\n",
    "'float64',\t'time_lag'\n",
    "'float64',\t'hour'\n",
    "'int64',\t'day'\n",
    "'int64',\t'is_weekend'\n",
    "'int64',\t'is_rush'"
   ]
  },
  {
   "cell_type": "code",
   "execution_count": null,
   "metadata": {},
   "outputs": [],
   "source": []
  },
  {
   "cell_type": "code",
   "execution_count": 57,
   "metadata": {},
   "outputs": [
    {
     "data": {
      "text/plain": [
       "Age                       int64\n",
       "Ratings                 float64\n",
       "Weatherconditions         int64\n",
       "Road_traffic_density      int64\n",
       "Vehicle_condition         int64\n",
       "Type_of_order             int64\n",
       "Type_of_vehicle           int64\n",
       "multiple_deliveries     float64\n",
       "Festival                  int64\n",
       "City                      int64\n",
       "Time_taken(min)           int64\n",
       "haversine_dist          float64\n",
       "estm_time               float64\n",
       "time_lag                float64\n",
       "hour                    float64\n",
       "day                       int64\n",
       "is_weekend                int64\n",
       "is_rush                   int64\n",
       "dtype: object"
      ]
     },
     "execution_count": 57,
     "metadata": {},
     "output_type": "execute_result"
    }
   ],
   "source": [
    "train_df.dtypes"
   ]
  },
  {
   "cell_type": "code",
   "execution_count": 58,
   "metadata": {},
   "outputs": [],
   "source": [
    "train_df['City'] = train_df['City'].astype('category')"
   ]
  },
  {
   "cell_type": "code",
   "execution_count": 63,
   "metadata": {},
   "outputs": [
    {
     "data": {
      "text/plain": [
       "(32691, 18)"
      ]
     },
     "execution_count": 63,
     "metadata": {},
     "output_type": "execute_result"
    }
   ],
   "source": [
    "train_df.shape"
   ]
  },
  {
   "cell_type": "code",
   "execution_count": 64,
   "metadata": {},
   "outputs": [
    {
     "data": {
      "text/plain": [
       "(10903, 18)"
      ]
     },
     "execution_count": 64,
     "metadata": {},
     "output_type": "execute_result"
    }
   ],
   "source": [
    "test_df.shape"
   ]
  },
  {
   "cell_type": "code",
   "execution_count": 24,
   "metadata": {},
   "outputs": [],
   "source": [
    "train_df['Time_taken(min)'] = train_df['Time_taken(min)'].apply(lambda x: x.split(' ')[-1]).astype('int')"
   ]
  },
  {
   "cell_type": "code",
   "execution_count": 36,
   "metadata": {},
   "outputs": [
    {
     "data": {
      "text/plain": [
       "(32691, 18)"
      ]
     },
     "execution_count": 36,
     "metadata": {},
     "output_type": "execute_result"
    }
   ],
   "source": [
    "train_df.shape"
   ]
  },
  {
   "cell_type": "code",
   "execution_count": 37,
   "metadata": {},
   "outputs": [
    {
     "data": {
      "text/plain": [
       "(10903, 29)"
      ]
     },
     "execution_count": 37,
     "metadata": {},
     "output_type": "execute_result"
    }
   ],
   "source": [
    "test_df.shape"
   ]
  },
  {
   "cell_type": "code",
   "execution_count": 41,
   "metadata": {},
   "outputs": [
    {
     "data": {
      "text/plain": [
       "Age                            0\n",
       "Ratings                        0\n",
       "Restaurant_latitude            0\n",
       "Restaurant_longitude           0\n",
       "Delivery_location_latitude     0\n",
       "Delivery_location_longitude    0\n",
       "Order_Date                     0\n",
       "Time_Orderd                    0\n",
       "Time_Order_picked              0\n",
       "Weatherconditions              0\n",
       "Road_traffic_density           0\n",
       "Vehicle_condition              0\n",
       "Type_of_order                  0\n",
       "Type_of_vehicle                0\n",
       "multiple_deliveries            0\n",
       "Festival                       0\n",
       "City                           0\n",
       "Time_taken(min)                0\n",
       "haversine_dist                 0\n",
       "estm_time                      0\n",
       "ordered_hour                   0\n",
       "ordered_min                    0\n",
       "picked_hour                    0\n",
       "picked_min                     0\n",
       "time_lag                       0\n",
       "hour                           0\n",
       "day                            0\n",
       "is_weekend                     0\n",
       "is_rush                        0\n",
       "dtype: int64"
      ]
     },
     "execution_count": 41,
     "metadata": {},
     "output_type": "execute_result"
    }
   ],
   "source": [
    "test_df.isna().sum()"
   ]
  },
  {
   "cell_type": "code",
   "execution_count": 27,
   "metadata": {},
   "outputs": [
    {
     "data": {
      "text/plain": [
       "Age                       int64\n",
       "Ratings                 float64\n",
       "Weatherconditions         int64\n",
       "Road_traffic_density      int64\n",
       "Vehicle_condition         int64\n",
       "Type_of_order             int64\n",
       "Type_of_vehicle           int64\n",
       "multiple_deliveries     float64\n",
       "Festival                  int64\n",
       "City                      int64\n",
       "Time_taken(min)           int64\n",
       "haversine_dist          float64\n",
       "estm_time               float64\n",
       "ordered_hour            float64\n",
       "ordered_min             float64\n",
       "picked_hour               int64\n",
       "picked_min                int64\n",
       "time_lag                float64\n",
       "hour                    float64\n",
       "day                      object\n",
       "is_weekend                int64\n",
       "is_rush                   int64\n",
       "dtype: object"
      ]
     },
     "execution_count": 27,
     "metadata": {},
     "output_type": "execute_result"
    }
   ],
   "source": [
    "train_df.dtypes"
   ]
  },
  {
   "cell_type": "code",
   "execution_count": 2,
   "metadata": {},
   "outputs": [
    {
     "ename": "TypeError",
     "evalue": "fit_transform() takes 2 positional arguments but 3 were given",
     "output_type": "error",
     "traceback": [
      "\u001b[1;31m---------------------------------------------------------------------------\u001b[0m",
      "\u001b[1;31mTypeError\u001b[0m                                 Traceback (most recent call last)",
      "Cell \u001b[1;32mIn[2], line 17\u001b[0m\n\u001b[0;32m     14\u001b[0m le \u001b[38;5;241m=\u001b[39m LabelEncoder()\n\u001b[0;32m     16\u001b[0m transformer \u001b[38;5;241m=\u001b[39m ColumnTransformer([(\u001b[38;5;124m'\u001b[39m\u001b[38;5;124mlabel_encoder\u001b[39m\u001b[38;5;124m'\u001b[39m, le, col_names)])\n\u001b[1;32m---> 17\u001b[0m encoded_data \u001b[38;5;241m=\u001b[39m \u001b[43mtransformer\u001b[49m\u001b[38;5;241;43m.\u001b[39;49m\u001b[43mfit_transform\u001b[49m\u001b[43m(\u001b[49m\u001b[43mtrain_df\u001b[49m\u001b[43m)\u001b[49m\n",
      "File \u001b[1;32me:\\MLOps\\delivery-time-estm\\venv\\lib\\site-packages\\sklearn\\utils\\_set_output.py:313\u001b[0m, in \u001b[0;36m_wrap_method_output.<locals>.wrapped\u001b[1;34m(self, X, *args, **kwargs)\u001b[0m\n\u001b[0;32m    311\u001b[0m \u001b[38;5;129m@wraps\u001b[39m(f)\n\u001b[0;32m    312\u001b[0m \u001b[38;5;28;01mdef\u001b[39;00m \u001b[38;5;21mwrapped\u001b[39m(\u001b[38;5;28mself\u001b[39m, X, \u001b[38;5;241m*\u001b[39margs, \u001b[38;5;241m*\u001b[39m\u001b[38;5;241m*\u001b[39mkwargs):\n\u001b[1;32m--> 313\u001b[0m     data_to_wrap \u001b[38;5;241m=\u001b[39m f(\u001b[38;5;28mself\u001b[39m, X, \u001b[38;5;241m*\u001b[39margs, \u001b[38;5;241m*\u001b[39m\u001b[38;5;241m*\u001b[39mkwargs)\n\u001b[0;32m    314\u001b[0m     \u001b[38;5;28;01mif\u001b[39;00m \u001b[38;5;28misinstance\u001b[39m(data_to_wrap, \u001b[38;5;28mtuple\u001b[39m):\n\u001b[0;32m    315\u001b[0m         \u001b[38;5;66;03m# only wrap the first output for cross decomposition\u001b[39;00m\n\u001b[0;32m    316\u001b[0m         return_tuple \u001b[38;5;241m=\u001b[39m (\n\u001b[0;32m    317\u001b[0m             _wrap_data_with_container(method, data_to_wrap[\u001b[38;5;241m0\u001b[39m], X, \u001b[38;5;28mself\u001b[39m),\n\u001b[0;32m    318\u001b[0m             \u001b[38;5;241m*\u001b[39mdata_to_wrap[\u001b[38;5;241m1\u001b[39m:],\n\u001b[0;32m    319\u001b[0m         )\n",
      "File \u001b[1;32me:\\MLOps\\delivery-time-estm\\venv\\lib\\site-packages\\sklearn\\base.py:1473\u001b[0m, in \u001b[0;36m_fit_context.<locals>.decorator.<locals>.wrapper\u001b[1;34m(estimator, *args, **kwargs)\u001b[0m\n\u001b[0;32m   1466\u001b[0m     estimator\u001b[38;5;241m.\u001b[39m_validate_params()\n\u001b[0;32m   1468\u001b[0m \u001b[38;5;28;01mwith\u001b[39;00m config_context(\n\u001b[0;32m   1469\u001b[0m     skip_parameter_validation\u001b[38;5;241m=\u001b[39m(\n\u001b[0;32m   1470\u001b[0m         prefer_skip_nested_validation \u001b[38;5;129;01mor\u001b[39;00m global_skip_validation\n\u001b[0;32m   1471\u001b[0m     )\n\u001b[0;32m   1472\u001b[0m ):\n\u001b[1;32m-> 1473\u001b[0m     \u001b[38;5;28;01mreturn\u001b[39;00m fit_method(estimator, \u001b[38;5;241m*\u001b[39margs, \u001b[38;5;241m*\u001b[39m\u001b[38;5;241m*\u001b[39mkwargs)\n",
      "File \u001b[1;32me:\\MLOps\\delivery-time-estm\\venv\\lib\\site-packages\\sklearn\\compose\\_column_transformer.py:976\u001b[0m, in \u001b[0;36mColumnTransformer.fit_transform\u001b[1;34m(self, X, y, **params)\u001b[0m\n\u001b[0;32m    973\u001b[0m \u001b[38;5;28;01melse\u001b[39;00m:\n\u001b[0;32m    974\u001b[0m     routed_params \u001b[38;5;241m=\u001b[39m \u001b[38;5;28mself\u001b[39m\u001b[38;5;241m.\u001b[39m_get_empty_routing()\n\u001b[1;32m--> 976\u001b[0m result \u001b[38;5;241m=\u001b[39m \u001b[38;5;28;43mself\u001b[39;49m\u001b[38;5;241;43m.\u001b[39;49m\u001b[43m_call_func_on_transformers\u001b[49m\u001b[43m(\u001b[49m\n\u001b[0;32m    977\u001b[0m \u001b[43m    \u001b[49m\u001b[43mX\u001b[49m\u001b[43m,\u001b[49m\n\u001b[0;32m    978\u001b[0m \u001b[43m    \u001b[49m\u001b[43my\u001b[49m\u001b[43m,\u001b[49m\n\u001b[0;32m    979\u001b[0m \u001b[43m    \u001b[49m\u001b[43m_fit_transform_one\u001b[49m\u001b[43m,\u001b[49m\n\u001b[0;32m    980\u001b[0m \u001b[43m    \u001b[49m\u001b[43mcolumn_as_labels\u001b[49m\u001b[38;5;241;43m=\u001b[39;49m\u001b[38;5;28;43;01mFalse\u001b[39;49;00m\u001b[43m,\u001b[49m\n\u001b[0;32m    981\u001b[0m \u001b[43m    \u001b[49m\u001b[43mrouted_params\u001b[49m\u001b[38;5;241;43m=\u001b[39;49m\u001b[43mrouted_params\u001b[49m\u001b[43m,\u001b[49m\n\u001b[0;32m    982\u001b[0m \u001b[43m\u001b[49m\u001b[43m)\u001b[49m\n\u001b[0;32m    984\u001b[0m \u001b[38;5;28;01mif\u001b[39;00m \u001b[38;5;129;01mnot\u001b[39;00m result:\n\u001b[0;32m    985\u001b[0m     \u001b[38;5;28mself\u001b[39m\u001b[38;5;241m.\u001b[39m_update_fitted_transformers([])\n",
      "File \u001b[1;32me:\\MLOps\\delivery-time-estm\\venv\\lib\\site-packages\\sklearn\\compose\\_column_transformer.py:885\u001b[0m, in \u001b[0;36mColumnTransformer._call_func_on_transformers\u001b[1;34m(self, X, y, func, column_as_labels, routed_params)\u001b[0m\n\u001b[0;32m    873\u001b[0m             extra_args \u001b[38;5;241m=\u001b[39m {}\n\u001b[0;32m    874\u001b[0m         jobs\u001b[38;5;241m.\u001b[39mappend(\n\u001b[0;32m    875\u001b[0m             delayed(func)(\n\u001b[0;32m    876\u001b[0m                 transformer\u001b[38;5;241m=\u001b[39mclone(trans) \u001b[38;5;28;01mif\u001b[39;00m \u001b[38;5;129;01mnot\u001b[39;00m fitted \u001b[38;5;28;01melse\u001b[39;00m trans,\n\u001b[1;32m   (...)\u001b[0m\n\u001b[0;32m    882\u001b[0m             )\n\u001b[0;32m    883\u001b[0m         )\n\u001b[1;32m--> 885\u001b[0m     \u001b[38;5;28;01mreturn\u001b[39;00m \u001b[43mParallel\u001b[49m\u001b[43m(\u001b[49m\u001b[43mn_jobs\u001b[49m\u001b[38;5;241;43m=\u001b[39;49m\u001b[38;5;28;43mself\u001b[39;49m\u001b[38;5;241;43m.\u001b[39;49m\u001b[43mn_jobs\u001b[49m\u001b[43m)\u001b[49m\u001b[43m(\u001b[49m\u001b[43mjobs\u001b[49m\u001b[43m)\u001b[49m\n\u001b[0;32m    887\u001b[0m \u001b[38;5;28;01mexcept\u001b[39;00m \u001b[38;5;167;01mValueError\u001b[39;00m \u001b[38;5;28;01mas\u001b[39;00m e:\n\u001b[0;32m    888\u001b[0m     \u001b[38;5;28;01mif\u001b[39;00m \u001b[38;5;124m\"\u001b[39m\u001b[38;5;124mExpected 2D array, got 1D array instead\u001b[39m\u001b[38;5;124m\"\u001b[39m \u001b[38;5;129;01min\u001b[39;00m \u001b[38;5;28mstr\u001b[39m(e):\n",
      "File \u001b[1;32me:\\MLOps\\delivery-time-estm\\venv\\lib\\site-packages\\sklearn\\utils\\parallel.py:74\u001b[0m, in \u001b[0;36mParallel.__call__\u001b[1;34m(self, iterable)\u001b[0m\n\u001b[0;32m     69\u001b[0m config \u001b[38;5;241m=\u001b[39m get_config()\n\u001b[0;32m     70\u001b[0m iterable_with_config \u001b[38;5;241m=\u001b[39m (\n\u001b[0;32m     71\u001b[0m     (_with_config(delayed_func, config), args, kwargs)\n\u001b[0;32m     72\u001b[0m     \u001b[38;5;28;01mfor\u001b[39;00m delayed_func, args, kwargs \u001b[38;5;129;01min\u001b[39;00m iterable\n\u001b[0;32m     73\u001b[0m )\n\u001b[1;32m---> 74\u001b[0m \u001b[38;5;28;01mreturn\u001b[39;00m \u001b[38;5;28;43msuper\u001b[39;49m\u001b[43m(\u001b[49m\u001b[43m)\u001b[49m\u001b[38;5;241;43m.\u001b[39;49m\u001b[38;5;21;43m__call__\u001b[39;49m\u001b[43m(\u001b[49m\u001b[43miterable_with_config\u001b[49m\u001b[43m)\u001b[49m\n",
      "File \u001b[1;32me:\\MLOps\\delivery-time-estm\\venv\\lib\\site-packages\\joblib\\parallel.py:1918\u001b[0m, in \u001b[0;36mParallel.__call__\u001b[1;34m(self, iterable)\u001b[0m\n\u001b[0;32m   1916\u001b[0m     output \u001b[38;5;241m=\u001b[39m \u001b[38;5;28mself\u001b[39m\u001b[38;5;241m.\u001b[39m_get_sequential_output(iterable)\n\u001b[0;32m   1917\u001b[0m     \u001b[38;5;28mnext\u001b[39m(output)\n\u001b[1;32m-> 1918\u001b[0m     \u001b[38;5;28;01mreturn\u001b[39;00m output \u001b[38;5;28;01mif\u001b[39;00m \u001b[38;5;28mself\u001b[39m\u001b[38;5;241m.\u001b[39mreturn_generator \u001b[38;5;28;01melse\u001b[39;00m \u001b[38;5;28;43mlist\u001b[39;49m\u001b[43m(\u001b[49m\u001b[43moutput\u001b[49m\u001b[43m)\u001b[49m\n\u001b[0;32m   1920\u001b[0m \u001b[38;5;66;03m# Let's create an ID that uniquely identifies the current call. If the\u001b[39;00m\n\u001b[0;32m   1921\u001b[0m \u001b[38;5;66;03m# call is interrupted early and that the same instance is immediately\u001b[39;00m\n\u001b[0;32m   1922\u001b[0m \u001b[38;5;66;03m# re-used, this id will be used to prevent workers that were\u001b[39;00m\n\u001b[0;32m   1923\u001b[0m \u001b[38;5;66;03m# concurrently finalizing a task from the previous call to run the\u001b[39;00m\n\u001b[0;32m   1924\u001b[0m \u001b[38;5;66;03m# callback.\u001b[39;00m\n\u001b[0;32m   1925\u001b[0m \u001b[38;5;28;01mwith\u001b[39;00m \u001b[38;5;28mself\u001b[39m\u001b[38;5;241m.\u001b[39m_lock:\n",
      "File \u001b[1;32me:\\MLOps\\delivery-time-estm\\venv\\lib\\site-packages\\joblib\\parallel.py:1847\u001b[0m, in \u001b[0;36mParallel._get_sequential_output\u001b[1;34m(self, iterable)\u001b[0m\n\u001b[0;32m   1845\u001b[0m \u001b[38;5;28mself\u001b[39m\u001b[38;5;241m.\u001b[39mn_dispatched_batches \u001b[38;5;241m+\u001b[39m\u001b[38;5;241m=\u001b[39m \u001b[38;5;241m1\u001b[39m\n\u001b[0;32m   1846\u001b[0m \u001b[38;5;28mself\u001b[39m\u001b[38;5;241m.\u001b[39mn_dispatched_tasks \u001b[38;5;241m+\u001b[39m\u001b[38;5;241m=\u001b[39m \u001b[38;5;241m1\u001b[39m\n\u001b[1;32m-> 1847\u001b[0m res \u001b[38;5;241m=\u001b[39m func(\u001b[38;5;241m*\u001b[39margs, \u001b[38;5;241m*\u001b[39m\u001b[38;5;241m*\u001b[39mkwargs)\n\u001b[0;32m   1848\u001b[0m \u001b[38;5;28mself\u001b[39m\u001b[38;5;241m.\u001b[39mn_completed_tasks \u001b[38;5;241m+\u001b[39m\u001b[38;5;241m=\u001b[39m \u001b[38;5;241m1\u001b[39m\n\u001b[0;32m   1849\u001b[0m \u001b[38;5;28mself\u001b[39m\u001b[38;5;241m.\u001b[39mprint_progress()\n",
      "File \u001b[1;32me:\\MLOps\\delivery-time-estm\\venv\\lib\\site-packages\\sklearn\\utils\\parallel.py:136\u001b[0m, in \u001b[0;36m_FuncWrapper.__call__\u001b[1;34m(self, *args, **kwargs)\u001b[0m\n\u001b[0;32m    134\u001b[0m     config \u001b[38;5;241m=\u001b[39m {}\n\u001b[0;32m    135\u001b[0m \u001b[38;5;28;01mwith\u001b[39;00m config_context(\u001b[38;5;241m*\u001b[39m\u001b[38;5;241m*\u001b[39mconfig):\n\u001b[1;32m--> 136\u001b[0m     \u001b[38;5;28;01mreturn\u001b[39;00m \u001b[38;5;28mself\u001b[39m\u001b[38;5;241m.\u001b[39mfunction(\u001b[38;5;241m*\u001b[39margs, \u001b[38;5;241m*\u001b[39m\u001b[38;5;241m*\u001b[39mkwargs)\n",
      "File \u001b[1;32me:\\MLOps\\delivery-time-estm\\venv\\lib\\site-packages\\sklearn\\pipeline.py:1310\u001b[0m, in \u001b[0;36m_fit_transform_one\u001b[1;34m(transformer, X, y, weight, message_clsname, message, params)\u001b[0m\n\u001b[0;32m   1308\u001b[0m \u001b[38;5;28;01mwith\u001b[39;00m _print_elapsed_time(message_clsname, message):\n\u001b[0;32m   1309\u001b[0m     \u001b[38;5;28;01mif\u001b[39;00m \u001b[38;5;28mhasattr\u001b[39m(transformer, \u001b[38;5;124m\"\u001b[39m\u001b[38;5;124mfit_transform\u001b[39m\u001b[38;5;124m\"\u001b[39m):\n\u001b[1;32m-> 1310\u001b[0m         res \u001b[38;5;241m=\u001b[39m transformer\u001b[38;5;241m.\u001b[39mfit_transform(X, y, \u001b[38;5;241m*\u001b[39m\u001b[38;5;241m*\u001b[39mparams\u001b[38;5;241m.\u001b[39mget(\u001b[38;5;124m\"\u001b[39m\u001b[38;5;124mfit_transform\u001b[39m\u001b[38;5;124m\"\u001b[39m, {}))\n\u001b[0;32m   1311\u001b[0m     \u001b[38;5;28;01melse\u001b[39;00m:\n\u001b[0;32m   1312\u001b[0m         res \u001b[38;5;241m=\u001b[39m transformer\u001b[38;5;241m.\u001b[39mfit(X, y, \u001b[38;5;241m*\u001b[39m\u001b[38;5;241m*\u001b[39mparams\u001b[38;5;241m.\u001b[39mget(\u001b[38;5;124m\"\u001b[39m\u001b[38;5;124mfit\u001b[39m\u001b[38;5;124m\"\u001b[39m, {}))\u001b[38;5;241m.\u001b[39mtransform(\n\u001b[0;32m   1313\u001b[0m             X, \u001b[38;5;241m*\u001b[39m\u001b[38;5;241m*\u001b[39mparams\u001b[38;5;241m.\u001b[39mget(\u001b[38;5;124m\"\u001b[39m\u001b[38;5;124mtransform\u001b[39m\u001b[38;5;124m\"\u001b[39m, {})\n\u001b[0;32m   1314\u001b[0m         )\n",
      "\u001b[1;31mTypeError\u001b[0m: fit_transform() takes 2 positional arguments but 3 were given"
     ]
    }
   ],
   "source": [
    "from sklearn.compose import ColumnTransformer\n",
    "from sklearn.preprocessing import LabelEncoder\n",
    "\n",
    "col_names = [\n",
    "    \"Weatherconditions\",\n",
    "    \"Road_traffic_density\",\n",
    "    \"City\",\n",
    "    \"Festival\",\n",
    "    \"Type_of_vehicle\",\n",
    "    \"Type_of_order\",\n",
    "    \"Vehicle_condition\",\n",
    "]\n",
    "\n",
    "le = LabelEncoder()\n",
    "\n",
    "transformer = ColumnTransformer([('label_encoder', le, col_names)])\n",
    "encoded_data = transformer.fit_transform(train_df)"
   ]
  },
  {
   "cell_type": "code",
   "execution_count": 6,
   "metadata": {},
   "outputs": [
    {
     "data": {
      "text/plain": [
       "Age                            float64\n",
       "Ratings                        float64\n",
       "Restaurant_latitude            float64\n",
       "Restaurant_longitude           float64\n",
       "Delivery_location_latitude     float64\n",
       "Delivery_location_longitude    float64\n",
       "Order_Date                      object\n",
       "Time_Orderd                     object\n",
       "Time_Order_picked               object\n",
       "Weatherconditions               object\n",
       "Road_traffic_density            object\n",
       "Vehicle_condition                int64\n",
       "Type_of_order                   object\n",
       "Type_of_vehicle                 object\n",
       "multiple_deliveries            float64\n",
       "Festival                        object\n",
       "City                            object\n",
       "Time_taken(min)                 object\n",
       "haversine_dist                 float64\n",
       "estm_time                      float64\n",
       "ordered_hour                   float64\n",
       "ordered_min                    float64\n",
       "picked_hour                      int64\n",
       "picked_min                       int64\n",
       "time_lag                       float64\n",
       "hour                           float64\n",
       "day                             object\n",
       "is_weekend                       int64\n",
       "is_rush                          int64\n",
       "dtype: object"
      ]
     },
     "execution_count": 6,
     "metadata": {},
     "output_type": "execute_result"
    }
   ],
   "source": [
    "train_df.dtypes"
   ]
  },
  {
   "cell_type": "code",
   "execution_count": 18,
   "metadata": {},
   "outputs": [
    {
     "data": {
      "text/plain": [
       "(34194, 29)"
      ]
     },
     "execution_count": 18,
     "metadata": {},
     "output_type": "execute_result"
    }
   ],
   "source": [
    "train_df.shape"
   ]
  },
  {
   "cell_type": "code",
   "execution_count": 15,
   "metadata": {},
   "outputs": [],
   "source": [
    "x = train_df.dropna()"
   ]
  },
  {
   "cell_type": "code",
   "execution_count": 17,
   "metadata": {},
   "outputs": [
    {
     "data": {
      "text/plain": [
       "(32691, 29)"
      ]
     },
     "execution_count": 17,
     "metadata": {},
     "output_type": "execute_result"
    }
   ],
   "source": [
    "x.shape"
   ]
  },
  {
   "cell_type": "code",
   "execution_count": 19,
   "metadata": {},
   "outputs": [],
   "source": [
    "from sklearn.preprocessing import LabelEncoder\n",
    "\n",
    "label_encoder = LabelEncoder()\n",
    "label_encoder.fit(train_df['City'])\n",
    "\n",
    "train_df['City'] = label_encoder.transform(train_df['City'])"
   ]
  },
  {
   "cell_type": "code",
   "execution_count": 24,
   "metadata": {},
   "outputs": [
    {
     "data": {
      "text/plain": [
       "City\n",
       "Metropolitian    26451\n",
       "Urban             7614\n",
       "Semi-Urban         129\n",
       "Name: count, dtype: int64"
      ]
     },
     "execution_count": 24,
     "metadata": {},
     "output_type": "execute_result"
    }
   ],
   "source": [
    "train_df['City'].value_counts()"
   ]
  },
  {
   "cell_type": "code",
   "execution_count": 22,
   "metadata": {},
   "outputs": [
    {
     "data": {
      "text/plain": [
       "City\n",
       "0    26451\n",
       "2     7614\n",
       "1      129\n",
       "Name: count, dtype: int64"
      ]
     },
     "execution_count": 22,
     "metadata": {},
     "output_type": "execute_result"
    }
   ],
   "source": [
    "train_df['City'].value_counts()"
   ]
  },
  {
   "cell_type": "code",
   "execution_count": 25,
   "metadata": {},
   "outputs": [],
   "source": [
    "test_df['City'] = label_encoder.transform(test_df['City'])"
   ]
  },
  {
   "cell_type": "code",
   "execution_count": 28,
   "metadata": {},
   "outputs": [
    {
     "data": {
      "text/plain": [
       "City\n",
       "Metropolitian    8842\n",
       "Urban            2522\n",
       "Semi-Urban         35\n",
       "Name: count, dtype: int64"
      ]
     },
     "execution_count": 28,
     "metadata": {},
     "output_type": "execute_result"
    }
   ],
   "source": [
    "test_df['City'].value_counts()"
   ]
  },
  {
   "cell_type": "code",
   "execution_count": 26,
   "metadata": {},
   "outputs": [
    {
     "data": {
      "text/plain": [
       "City\n",
       "0    8842\n",
       "2    2522\n",
       "1      35\n",
       "Name: count, dtype: int64"
      ]
     },
     "execution_count": 26,
     "metadata": {},
     "output_type": "execute_result"
    }
   ],
   "source": [
    "test_df['City'].value_counts()"
   ]
  },
  {
   "cell_type": "code",
   "execution_count": 16,
   "metadata": {},
   "outputs": [
    {
     "data": {
      "text/plain": [
       "Age                            0\n",
       "Ratings                        0\n",
       "Restaurant_latitude            0\n",
       "Restaurant_longitude           0\n",
       "Delivery_location_latitude     0\n",
       "Delivery_location_longitude    0\n",
       "Order_Date                     0\n",
       "Time_Orderd                    0\n",
       "Time_Order_picked              0\n",
       "Weatherconditions              0\n",
       "Road_traffic_density           0\n",
       "Vehicle_condition              0\n",
       "Type_of_order                  0\n",
       "Type_of_vehicle                0\n",
       "multiple_deliveries            0\n",
       "Festival                       0\n",
       "City                           0\n",
       "Time_taken(min)                0\n",
       "haversine_dist                 0\n",
       "estm_time                      0\n",
       "ordered_hour                   0\n",
       "ordered_min                    0\n",
       "picked_hour                    0\n",
       "picked_min                     0\n",
       "time_lag                       0\n",
       "hour                           0\n",
       "day                            0\n",
       "is_weekend                     0\n",
       "is_rush                        0\n",
       "dtype: int64"
      ]
     },
     "execution_count": 16,
     "metadata": {},
     "output_type": "execute_result"
    }
   ],
   "source": [
    "x.isna().sum()"
   ]
  },
  {
   "cell_type": "code",
   "execution_count": 586,
   "metadata": {},
   "outputs": [
    {
     "data": {
      "text/plain": [
       "Age                            4.07\n",
       "Ratings                        4.19\n",
       "Restaurant_latitude            0.00\n",
       "Restaurant_longitude           0.00\n",
       "Delivery_location_latitude     0.00\n",
       "Delivery_location_longitude    0.00\n",
       "Order_Date                     0.00\n",
       "Time_Orderd                    3.79\n",
       "Time_Order_picked              0.00\n",
       "Weatherconditions              1.33\n",
       "Road_traffic_density           1.29\n",
       "Vehicle_condition              0.00\n",
       "Type_of_order                  0.00\n",
       "Type_of_vehicle                0.00\n",
       "multiple_deliveries            2.19\n",
       "Festival                       0.49\n",
       "City                           2.59\n",
       "Time_taken(min)                0.00\n",
       "dtype: float64"
      ]
     },
     "execution_count": 586,
     "metadata": {},
     "output_type": "execute_result"
    }
   ],
   "source": [
    "round(df.isna().mean() * 100, 2)"
   ]
  },
  {
   "cell_type": "code",
   "execution_count": null,
   "metadata": {},
   "outputs": [],
   "source": []
  }
 ],
 "metadata": {
  "kernelspec": {
   "display_name": "venv",
   "language": "python",
   "name": "python3"
  },
  "language_info": {
   "codemirror_mode": {
    "name": "ipython",
    "version": 3
   },
   "file_extension": ".py",
   "mimetype": "text/x-python",
   "name": "python",
   "nbconvert_exporter": "python",
   "pygments_lexer": "ipython3",
   "version": "3.9.2"
  }
 },
 "nbformat": 4,
 "nbformat_minor": 2
}
