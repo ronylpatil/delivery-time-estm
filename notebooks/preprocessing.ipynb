{
 "cells": [
  {
   "cell_type": "code",
   "execution_count": 42,
   "metadata": {},
   "outputs": [],
   "source": [
    "import missingno\n",
    "import pathlib\n",
    "import pandas as pd\n",
    "import numpy as np\n",
    "import seaborn as sns\n",
    "import matplotlib.pyplot as plt"
   ]
  },
  {
   "cell_type": "code",
   "execution_count": 43,
   "metadata": {},
   "outputs": [],
   "source": [
    "data_dir = pathlib.Path().absolute().parent.as_posix() + '/data/raw/train.csv'\n",
    "\n",
    "df = pd.read_csv(data_dir)"
   ]
  },
  {
   "cell_type": "code",
   "execution_count": 44,
   "metadata": {},
   "outputs": [
    {
     "data": {
      "text/plain": [
       "(45593, 20)"
      ]
     },
     "execution_count": 44,
     "metadata": {},
     "output_type": "execute_result"
    }
   ],
   "source": [
    "df.shape"
   ]
  },
  {
   "cell_type": "code",
   "execution_count": 45,
   "metadata": {},
   "outputs": [],
   "source": [
    "# drop ID & Delivery_pperson_id\n",
    "df.drop(columns=['ID', 'Delivery_person_ID'], inplace=True)\n",
    "\n",
    "# rename columns\n",
    "df.rename(columns={\n",
    "    'Delivery_person_Age' : 'Age',\n",
    "    'Delivery_person_Ratings' : 'Ratings'\n",
    "}, inplace=True)"
   ]
  },
  {
   "cell_type": "code",
   "execution_count": 46,
   "metadata": {},
   "outputs": [
    {
     "data": {
      "text/html": [
       "<div>\n",
       "<style scoped>\n",
       "    .dataframe tbody tr th:only-of-type {\n",
       "        vertical-align: middle;\n",
       "    }\n",
       "\n",
       "    .dataframe tbody tr th {\n",
       "        vertical-align: top;\n",
       "    }\n",
       "\n",
       "    .dataframe thead th {\n",
       "        text-align: right;\n",
       "    }\n",
       "</style>\n",
       "<table border=\"1\" class=\"dataframe\">\n",
       "  <thead>\n",
       "    <tr style=\"text-align: right;\">\n",
       "      <th></th>\n",
       "      <th>Age</th>\n",
       "      <th>Ratings</th>\n",
       "      <th>Restaurant_latitude</th>\n",
       "      <th>Restaurant_longitude</th>\n",
       "      <th>Delivery_location_latitude</th>\n",
       "      <th>Delivery_location_longitude</th>\n",
       "      <th>Order_Date</th>\n",
       "      <th>Time_Orderd</th>\n",
       "      <th>Time_Order_picked</th>\n",
       "      <th>Weatherconditions</th>\n",
       "      <th>Road_traffic_density</th>\n",
       "      <th>Vehicle_condition</th>\n",
       "      <th>Type_of_order</th>\n",
       "      <th>Type_of_vehicle</th>\n",
       "      <th>multiple_deliveries</th>\n",
       "      <th>Festival</th>\n",
       "      <th>City</th>\n",
       "      <th>Time_taken(min)</th>\n",
       "    </tr>\n",
       "  </thead>\n",
       "  <tbody>\n",
       "    <tr>\n",
       "      <th>22479</th>\n",
       "      <td>25</td>\n",
       "      <td>4.6</td>\n",
       "      <td>19.121999</td>\n",
       "      <td>72.908493</td>\n",
       "      <td>19.181999</td>\n",
       "      <td>72.968493</td>\n",
       "      <td>17-03-2022</td>\n",
       "      <td>17:10:00</td>\n",
       "      <td>17:20:00</td>\n",
       "      <td>conditions Fog</td>\n",
       "      <td>Medium</td>\n",
       "      <td>0</td>\n",
       "      <td>Meal</td>\n",
       "      <td>motorcycle</td>\n",
       "      <td>NaN</td>\n",
       "      <td>No</td>\n",
       "      <td>Metropolitian</td>\n",
       "      <td>(min) 22</td>\n",
       "    </tr>\n",
       "    <tr>\n",
       "      <th>13548</th>\n",
       "      <td>31</td>\n",
       "      <td>4.6</td>\n",
       "      <td>11.003008</td>\n",
       "      <td>76.975440</td>\n",
       "      <td>11.023008</td>\n",
       "      <td>76.995440</td>\n",
       "      <td>01-04-2022</td>\n",
       "      <td>10:00:00</td>\n",
       "      <td>10:10:00</td>\n",
       "      <td>conditions Fog</td>\n",
       "      <td>Low</td>\n",
       "      <td>0</td>\n",
       "      <td>Buffet</td>\n",
       "      <td>motorcycle</td>\n",
       "      <td>1</td>\n",
       "      <td>No</td>\n",
       "      <td>Metropolitian</td>\n",
       "      <td>(min) 23</td>\n",
       "    </tr>\n",
       "    <tr>\n",
       "      <th>22333</th>\n",
       "      <td>32</td>\n",
       "      <td>4.7</td>\n",
       "      <td>25.450329</td>\n",
       "      <td>81.834279</td>\n",
       "      <td>25.490329</td>\n",
       "      <td>81.874279</td>\n",
       "      <td>11-02-2022</td>\n",
       "      <td>14:25:00</td>\n",
       "      <td>14:30:00</td>\n",
       "      <td>conditions Cloudy</td>\n",
       "      <td>High</td>\n",
       "      <td>2</td>\n",
       "      <td>Drinks</td>\n",
       "      <td>scooter</td>\n",
       "      <td>0</td>\n",
       "      <td>No</td>\n",
       "      <td>Metropolitian</td>\n",
       "      <td>(min) 37</td>\n",
       "    </tr>\n",
       "  </tbody>\n",
       "</table>\n",
       "</div>"
      ],
      "text/plain": [
       "      Age Ratings  Restaurant_latitude  Restaurant_longitude  \\\n",
       "22479  25     4.6            19.121999             72.908493   \n",
       "13548  31     4.6            11.003008             76.975440   \n",
       "22333  32     4.7            25.450329             81.834279   \n",
       "\n",
       "       Delivery_location_latitude  Delivery_location_longitude  Order_Date  \\\n",
       "22479                   19.181999                    72.968493  17-03-2022   \n",
       "13548                   11.023008                    76.995440  01-04-2022   \n",
       "22333                   25.490329                    81.874279  11-02-2022   \n",
       "\n",
       "      Time_Orderd Time_Order_picked  Weatherconditions Road_traffic_density  \\\n",
       "22479    17:10:00          17:20:00     conditions Fog              Medium    \n",
       "13548    10:00:00          10:10:00     conditions Fog                 Low    \n",
       "22333    14:25:00          14:30:00  conditions Cloudy                High    \n",
       "\n",
       "       Vehicle_condition Type_of_order Type_of_vehicle multiple_deliveries  \\\n",
       "22479                  0         Meal      motorcycle                 NaN    \n",
       "13548                  0       Buffet      motorcycle                    1   \n",
       "22333                  2       Drinks         scooter                    0   \n",
       "\n",
       "      Festival            City Time_taken(min)  \n",
       "22479      No   Metropolitian         (min) 22  \n",
       "13548      No   Metropolitian         (min) 23  \n",
       "22333      No   Metropolitian         (min) 37  "
      ]
     },
     "execution_count": 46,
     "metadata": {},
     "output_type": "execute_result"
    }
   ],
   "source": [
    "df.sample(3)"
   ]
  },
  {
   "cell_type": "code",
   "execution_count": 47,
   "metadata": {},
   "outputs": [
    {
     "data": {
      "text/plain": [
       "(45593, 18)"
      ]
     },
     "execution_count": 47,
     "metadata": {},
     "output_type": "execute_result"
    }
   ],
   "source": [
    "df.shape"
   ]
  },
  {
   "cell_type": "markdown",
   "metadata": {},
   "source": [
    "<font color = 'orange'>\n",
    "\n",
    "#### <b> Time_Orderd\n",
    "- handle NaN values\n",
    "- change data type"
   ]
  },
  {
   "cell_type": "code",
   "execution_count": 48,
   "metadata": {},
   "outputs": [
    {
     "name": "stdout",
     "output_type": "stream",
     "text": [
      "Start Date: 01-03-2022 \n",
      "End Date: 31-03-2022\n"
     ]
    }
   ],
   "source": [
    "# data is of March-23\n",
    "print(f\"Start Date: {df['Order_Date'].min()} \\n\\\n",
    "End Date: {df['Order_Date'].max()}\")"
   ]
  },
  {
   "cell_type": "code",
   "execution_count": 49,
   "metadata": {},
   "outputs": [],
   "source": [
    "df['Time_Orderd'] = df['Time_Orderd'].replace('NaN ', np.nan)\n",
    "df['Time_Orderd'] = pd.to_datetime(df['Time_Orderd'], format='%H:%M:%S').dt.time"
   ]
  },
  {
   "cell_type": "code",
   "execution_count": 50,
   "metadata": {},
   "outputs": [],
   "source": [
    "# handle NaN"
   ]
  },
  {
   "cell_type": "markdown",
   "metadata": {},
   "source": [
    "<font color = 'orange'>\n",
    "\n",
    "#### <b> Time_Order_picked\n",
    "- change data type"
   ]
  },
  {
   "cell_type": "code",
   "execution_count": 51,
   "metadata": {},
   "outputs": [],
   "source": [
    "df['Time_Order_picked'] = pd.to_datetime(df['Time_Order_picked'], format='%H:%M:%S').dt.time"
   ]
  },
  {
   "cell_type": "markdown",
   "metadata": {},
   "source": [
    "<font color = 'orange'>\n",
    "\n",
    "#### <b> Vehicle_condition\n",
    "- change data type"
   ]
  },
  {
   "cell_type": "code",
   "execution_count": 52,
   "metadata": {},
   "outputs": [],
   "source": [
    "df['Vehicle_condition'] = df['Vehicle_condition'].astype('category')"
   ]
  },
  {
   "cell_type": "markdown",
   "metadata": {},
   "source": [
    "<font color = 'orange'>\n",
    "\n",
    "#### <b> City\n",
    "- handle NaN values\n",
    "- handle extra space at suffix\n",
    "- change data type"
   ]
  },
  {
   "cell_type": "code",
   "execution_count": 53,
   "metadata": {},
   "outputs": [
    {
     "name": "stdout",
     "output_type": "stream",
     "text": [
      "Unique Valeus: ['Urban ' 'Metropolitian ' 'Semi-Urban ' 'NaN '] \n",
      "\n",
      "NaN Count: 1200 \n",
      "\n",
      "Value Count: City\n",
      "Metropolitian     34093\n",
      "Urban             10136\n",
      "NaN                1200\n",
      "Semi-Urban          164\n",
      "Name: count, dtype: int64\n"
     ]
    }
   ],
   "source": [
    "print(f\"Unique Valeus: {df['City'].unique()} \\n\\nNaN Count: {df[df['City'] == 'NaN '].shape[0]} \\n\\nValue Count: {df['City'].value_counts()}\")"
   ]
  },
  {
   "cell_type": "code",
   "execution_count": 54,
   "metadata": {},
   "outputs": [
    {
     "data": {
      "text/plain": [
       "array(['Urban', 'Metropolitian', 'Semi-Urban', 'NaN'], dtype=object)"
      ]
     },
     "execution_count": 54,
     "metadata": {},
     "output_type": "execute_result"
    }
   ],
   "source": [
    "# fix extra spaces\n",
    "df['City'] = list(map(lambda x: x.strip(), df['City']))\n",
    "\n",
    "df['City'].unique()"
   ]
  },
  {
   "cell_type": "code",
   "execution_count": 55,
   "metadata": {},
   "outputs": [],
   "source": [
    "# fix 'NaN' with np.nan\n",
    "df['City'] = df['City'].replace('NaN', np.nan)"
   ]
  },
  {
   "cell_type": "code",
   "execution_count": 56,
   "metadata": {},
   "outputs": [
    {
     "data": {
      "text/plain": [
       "np.int64(1200)"
      ]
     },
     "execution_count": 56,
     "metadata": {},
     "output_type": "execute_result"
    }
   ],
   "source": [
    "df['City'].isnull().sum()"
   ]
  },
  {
   "cell_type": "code",
   "execution_count": 57,
   "metadata": {},
   "outputs": [],
   "source": [
    "# NaN replaced by mode\n",
    "df['City'] = df['City'].fillna(value=df['City'].value_counts().index[0])"
   ]
  },
  {
   "cell_type": "markdown",
   "metadata": {},
   "source": [
    "<font color = 'orange'>\n",
    "\n",
    "#### <b> Festival\n",
    "- handle NaN\n",
    "- handle extra space at suffix\n",
    "- change data type"
   ]
  },
  {
   "cell_type": "code",
   "execution_count": 58,
   "metadata": {},
   "outputs": [
    {
     "name": "stdout",
     "output_type": "stream",
     "text": [
      "Unique Valeus: ['No ' 'Yes ' 'NaN '] \n",
      "\n",
      "NaN Count: 228 \n",
      "\n",
      "Value Count: Festival\n",
      "No      44469\n",
      "Yes       896\n",
      "NaN       228\n",
      "Name: count, dtype: int64\n"
     ]
    }
   ],
   "source": [
    "print(f\"Unique Valeus: {df['Festival'].unique()} \\n\\nNaN Count: {df[df['Festival'] == 'NaN '].shape[0]} \\n\\nValue Count: {df['Festival'].value_counts()}\")"
   ]
  },
  {
   "cell_type": "code",
   "execution_count": 59,
   "metadata": {},
   "outputs": [
    {
     "name": "stdout",
     "output_type": "stream",
     "text": [
      "Unique value: ['No' 'Yes' 'NaN']\n",
      "Value Count: 228\n"
     ]
    }
   ],
   "source": [
    "# fix the extra space\n",
    "df['Festival'] = list(map(lambda x: x.strip(), df['Festival']))\n",
    "print(f\"Unique value: {df['Festival'].unique()}\")\n",
    "\n",
    "# fix 'NaN' with np.nan\n",
    "df['Festival'] = df['Festival'].replace('NaN', np.nan)\n",
    "print(f\"Value Count: {df['Festival'].isnull().sum()}\")"
   ]
  },
  {
   "cell_type": "code",
   "execution_count": 60,
   "metadata": {},
   "outputs": [],
   "source": [
    "# NaN replaced by mode of column\n",
    "df['Festival'] = df['Festival'].fillna(df['Festival'].value_counts().index[0])"
   ]
  },
  {
   "cell_type": "code",
   "execution_count": 61,
   "metadata": {},
   "outputs": [
    {
     "data": {
      "text/plain": [
       "Festival\n",
       "No     44697\n",
       "Yes      896\n",
       "Name: count, dtype: int64"
      ]
     },
     "execution_count": 61,
     "metadata": {},
     "output_type": "execute_result"
    }
   ],
   "source": [
    "df['Festival'].value_counts()"
   ]
  },
  {
   "cell_type": "markdown",
   "metadata": {},
   "source": [
    "<font color = 'orange'>\n",
    "\n",
    "#### <b> multiple_deliveries\n",
    "- handle NaN\n",
    "- change data type"
   ]
  },
  {
   "cell_type": "code",
   "execution_count": 62,
   "metadata": {},
   "outputs": [
    {
     "data": {
      "text/plain": [
       "array(['0', '1', '3', 'NaN ', '2'], dtype=object)"
      ]
     },
     "execution_count": 62,
     "metadata": {},
     "output_type": "execute_result"
    }
   ],
   "source": [
    "df['multiple_deliveries'].unique()"
   ]
  },
  {
   "cell_type": "code",
   "execution_count": 63,
   "metadata": {},
   "outputs": [
    {
     "data": {
      "text/plain": [
       "multiple_deliveries\n",
       "1       28159\n",
       "0       14095\n",
       "2        1985\n",
       "NaN       993\n",
       "3         361\n",
       "Name: count, dtype: int64"
      ]
     },
     "execution_count": 63,
     "metadata": {},
     "output_type": "execute_result"
    }
   ],
   "source": [
    "df['multiple_deliveries'].value_counts()"
   ]
  },
  {
   "cell_type": "code",
   "execution_count": 64,
   "metadata": {},
   "outputs": [
    {
     "name": "stdout",
     "output_type": "stream",
     "text": [
      "Value Count: 993\n"
     ]
    }
   ],
   "source": [
    "# fix 'NaN ' with np.nan\n",
    "df['multiple_deliveries'] = df['multiple_deliveries'].replace('NaN ', np.nan)\n",
    "print(f\"Value Count: {df['multiple_deliveries'].isnull().sum()}\")"
   ]
  },
  {
   "cell_type": "code",
   "execution_count": 65,
   "metadata": {},
   "outputs": [],
   "source": [
    "# fixing data type\n",
    "df['multiple_deliveries'] = df['multiple_deliveries'].astype('Int64')"
   ]
  },
  {
   "cell_type": "code",
   "execution_count": 66,
   "metadata": {},
   "outputs": [],
   "source": [
    "# as we dont have any clear explanation we'll convert 1,2,3 as 1 which means multiple deliveries\n",
    "# and 0 means single delivery \n",
    "df['multiple_deliveries'] = df['multiple_deliveries'].apply(lambda x : x if x == 0 or np.isnan(x) else 1)"
   ]
  },
  {
   "cell_type": "code",
   "execution_count": 67,
   "metadata": {},
   "outputs": [
    {
     "data": {
      "text/plain": [
       "array([ 0.,  1., nan])"
      ]
     },
     "execution_count": 67,
     "metadata": {},
     "output_type": "execute_result"
    }
   ],
   "source": [
    "df['multiple_deliveries'].unique()"
   ]
  },
  {
   "cell_type": "code",
   "execution_count": 68,
   "metadata": {},
   "outputs": [
    {
     "data": {
      "text/plain": [
       "multiple_deliveries\n",
       "1.0    30505\n",
       "0.0    14095\n",
       "Name: count, dtype: int64"
      ]
     },
     "execution_count": 68,
     "metadata": {},
     "output_type": "execute_result"
    }
   ],
   "source": [
    "df['multiple_deliveries'].value_counts()"
   ]
  },
  {
   "cell_type": "code",
   "execution_count": 69,
   "metadata": {},
   "outputs": [
    {
     "data": {
      "text/plain": [
       "np.int64(993)"
      ]
     },
     "execution_count": 69,
     "metadata": {},
     "output_type": "execute_result"
    }
   ],
   "source": [
    "df['multiple_deliveries'].isna().sum()"
   ]
  },
  {
   "cell_type": "code",
   "execution_count": 70,
   "metadata": {},
   "outputs": [
    {
     "name": "stderr",
     "output_type": "stream",
     "text": [
      "C:\\Users\\lenovo\\AppData\\Local\\Temp\\ipykernel_18160\\1112967024.py:1: FutureWarning: A value is trying to be set on a copy of a DataFrame or Series through chained assignment using an inplace method.\n",
      "The behavior will change in pandas 3.0. This inplace method will never work because the intermediate object on which we are setting values always behaves as a copy.\n",
      "\n",
      "For example, when doing 'df[col].method(value, inplace=True)', try using 'df.method({col: value}, inplace=True)' or df[col] = df[col].method(value) instead, to perform the operation inplace on the original object.\n",
      "\n",
      "\n",
      "  df['multiple_deliveries'].fillna(value= 1, inplace=True)\n"
     ]
    }
   ],
   "source": [
    "df['multiple_deliveries'].fillna(value= 1, inplace=True)"
   ]
  },
  {
   "cell_type": "code",
   "execution_count": 71,
   "metadata": {},
   "outputs": [
    {
     "data": {
      "text/plain": [
       "multiple_deliveries\n",
       "1.0    31498\n",
       "0.0    14095\n",
       "Name: count, dtype: int64"
      ]
     },
     "execution_count": 71,
     "metadata": {},
     "output_type": "execute_result"
    }
   ],
   "source": [
    "df['multiple_deliveries'].value_counts()"
   ]
  },
  {
   "cell_type": "markdown",
   "metadata": {},
   "source": [
    "<font color = 'orange'>\n",
    "\n",
    "#### <b> Type_of_vehicle\n",
    "- handle extra space at suffix\n",
    "- change data type"
   ]
  },
  {
   "cell_type": "code",
   "execution_count": 72,
   "metadata": {},
   "outputs": [
    {
     "data": {
      "text/plain": [
       "array(['motorcycle ', 'scooter ', 'electric_scooter ', 'bicycle '],\n",
       "      dtype=object)"
      ]
     },
     "execution_count": 72,
     "metadata": {},
     "output_type": "execute_result"
    }
   ],
   "source": [
    "df['Type_of_vehicle'].unique()"
   ]
  },
  {
   "cell_type": "code",
   "execution_count": 73,
   "metadata": {},
   "outputs": [
    {
     "name": "stdout",
     "output_type": "stream",
     "text": [
      "Unique value: ['motorcycle' 'scooter' 'electric_scooter' 'bicycle']\n"
     ]
    }
   ],
   "source": [
    "# fix the extra space\n",
    "df['Type_of_vehicle'] = list(map(lambda x: x.strip(), df['Type_of_vehicle']))\n",
    "print(f\"Unique value: {df['Type_of_vehicle'].unique()}\")"
   ]
  },
  {
   "cell_type": "markdown",
   "metadata": {},
   "source": [
    "<font color = 'orange'>\n",
    "\n",
    "#### <b> Type_of_order\n",
    "- handle extra space at suffix\n",
    "- change data type"
   ]
  },
  {
   "cell_type": "code",
   "execution_count": 74,
   "metadata": {},
   "outputs": [
    {
     "data": {
      "text/plain": [
       "array(['Snack ', 'Drinks ', 'Buffet ', 'Meal '], dtype=object)"
      ]
     },
     "execution_count": 74,
     "metadata": {},
     "output_type": "execute_result"
    }
   ],
   "source": [
    "df['Type_of_order'].unique()"
   ]
  },
  {
   "cell_type": "code",
   "execution_count": 75,
   "metadata": {},
   "outputs": [
    {
     "name": "stdout",
     "output_type": "stream",
     "text": [
      "Unique value: ['Snack' 'Drinks' 'Buffet' 'Meal']\n"
     ]
    }
   ],
   "source": [
    "# fix the extra space\n",
    "df['Type_of_order'] = list(map(lambda x: x.strip(), df['Type_of_order']))\n",
    "print(f\"Unique value: {df['Type_of_order'].unique()}\")"
   ]
  },
  {
   "cell_type": "markdown",
   "metadata": {},
   "source": [
    "<font color = 'orange'>\n",
    "\n",
    "#### <b> Road_traffic_density\n",
    "- handle NaN\n",
    "- handle extra space at suffix\n",
    "- change data type"
   ]
  },
  {
   "cell_type": "code",
   "execution_count": 76,
   "metadata": {},
   "outputs": [
    {
     "data": {
      "text/plain": [
       "array(['High ', 'Jam ', 'Low ', 'Medium ', 'NaN '], dtype=object)"
      ]
     },
     "execution_count": 76,
     "metadata": {},
     "output_type": "execute_result"
    }
   ],
   "source": [
    "df['Road_traffic_density'].unique()"
   ]
  },
  {
   "cell_type": "code",
   "execution_count": 77,
   "metadata": {},
   "outputs": [
    {
     "data": {
      "text/plain": [
       "Road_traffic_density\n",
       "Low        15477\n",
       "Jam        14143\n",
       "Medium     10947\n",
       "High        4425\n",
       "NaN          601\n",
       "Name: count, dtype: int64"
      ]
     },
     "execution_count": 77,
     "metadata": {},
     "output_type": "execute_result"
    }
   ],
   "source": [
    "df['Road_traffic_density'].value_counts()"
   ]
  },
  {
   "cell_type": "code",
   "execution_count": 78,
   "metadata": {},
   "outputs": [
    {
     "name": "stdout",
     "output_type": "stream",
     "text": [
      "Unique value: ['High' 'Jam' 'Low' 'Medium' 'NaN']\n",
      "Value Count: 601\n"
     ]
    }
   ],
   "source": [
    "# fix the extra space\n",
    "df['Road_traffic_density'] = list(map(lambda x: x.strip(), df['Road_traffic_density']))\n",
    "print(f\"Unique value: {df['Road_traffic_density'].unique()}\")\n",
    "\n",
    "# fix 'NaN' with np.nan\n",
    "df['Road_traffic_density'] = df['Road_traffic_density'].replace('NaN', np.nan)\n",
    "print(f\"Value Count: {df['Road_traffic_density'].isnull().sum()}\")"
   ]
  },
  {
   "cell_type": "code",
   "execution_count": 79,
   "metadata": {},
   "outputs": [],
   "source": [
    "df['Road_traffic_density'] = df['Road_traffic_density'].fillna(value='Low')"
   ]
  },
  {
   "cell_type": "code",
   "execution_count": 80,
   "metadata": {},
   "outputs": [
    {
     "data": {
      "text/plain": [
       "Road_traffic_density\n",
       "Low       16078\n",
       "Jam       14143\n",
       "Medium    10947\n",
       "High       4425\n",
       "Name: count, dtype: int64"
      ]
     },
     "execution_count": 80,
     "metadata": {},
     "output_type": "execute_result"
    }
   ],
   "source": [
    "df['Road_traffic_density'].value_counts()"
   ]
  },
  {
   "cell_type": "markdown",
   "metadata": {},
   "source": [
    "<font color = 'orange'>\n",
    "\n",
    "#### <b> Delivery_person_Rattings\n",
    "- handle NaN\n",
    "- change data type"
   ]
  },
  {
   "cell_type": "code",
   "execution_count": 81,
   "metadata": {},
   "outputs": [
    {
     "data": {
      "text/plain": [
       "array(['4.9', '4.5', '4.4', '4.7', '4.6', '4.8', '4.2', '4.3', '4', '4.1',\n",
       "       '5', '3.5', 'NaN ', '3.8', '3.9', '3.7', '2.6', '2.5', '3.6',\n",
       "       '3.1', '2.7', '1', '3.2', '3.3', '6', '3.4', '2.8', '2.9', '3'],\n",
       "      dtype=object)"
      ]
     },
     "execution_count": 81,
     "metadata": {},
     "output_type": "execute_result"
    }
   ],
   "source": [
    "df['Ratings'].unique()"
   ]
  },
  {
   "cell_type": "code",
   "execution_count": 82,
   "metadata": {},
   "outputs": [
    {
     "data": {
      "text/plain": [
       "1908"
      ]
     },
     "execution_count": 82,
     "metadata": {},
     "output_type": "execute_result"
    }
   ],
   "source": [
    "df[df['Ratings'] == 'NaN '].shape[0]"
   ]
  },
  {
   "cell_type": "code",
   "execution_count": 83,
   "metadata": {},
   "outputs": [],
   "source": [
    "# fixing data type\n",
    "df['Ratings'] = df['Ratings'].astype('float')"
   ]
  },
  {
   "cell_type": "code",
   "execution_count": 84,
   "metadata": {},
   "outputs": [
    {
     "data": {
      "text/plain": [
       "np.int64(1908)"
      ]
     },
     "execution_count": 84,
     "metadata": {},
     "output_type": "execute_result"
    }
   ],
   "source": [
    "df['Ratings'].isna().sum()"
   ]
  },
  {
   "cell_type": "code",
   "execution_count": 85,
   "metadata": {},
   "outputs": [
    {
     "name": "stdout",
     "output_type": "stream",
     "text": [
      "Min: 1.0       \n",
      "Max: 6.0       \n",
      "Mean: 4.633780473846858       \n",
      "Median: 4.7\n"
     ]
    }
   ],
   "source": [
    "print(f\"Min: {df['Ratings'].min()} \\\n",
    "      \\nMax: {df['Ratings'].max()} \\\n",
    "      \\nMean: {df['Ratings'].mean()} \\\n",
    "      \\nMedian: {df['Ratings'].median()}\")"
   ]
  },
  {
   "cell_type": "code",
   "execution_count": 86,
   "metadata": {},
   "outputs": [
    {
     "data": {
      "text/plain": [
       "18"
      ]
     },
     "execution_count": 86,
     "metadata": {},
     "output_type": "execute_result"
    }
   ],
   "source": [
    "df[df['Ratings'] > 5].shape[1]"
   ]
  },
  {
   "cell_type": "code",
   "execution_count": 87,
   "metadata": {},
   "outputs": [
    {
     "data": {
      "text/plain": [
       "[]"
      ]
     },
     "execution_count": 87,
     "metadata": {},
     "output_type": "execute_result"
    },
    {
     "data": {
      "image/png": "[encoded data removed]",
      "text/plain": [
       "<Figure size 600x300 with 1 Axes>"
      ]
     },
     "metadata": {},
     "output_type": "display_data"
    }
   ],
   "source": [
    "# box plot\n",
    "plt.figure(figsize=(6, 3))\n",
    "sns.boxplot(df, x=df[\"Ratings\"].astype(\"float\"), fill=False)\n",
    "plt.plot()"
   ]
  },
  {
   "cell_type": "code",
   "execution_count": 88,
   "metadata": {},
   "outputs": [
    {
     "data": {
      "image/png": "[encoded data removed]",
      "text/plain": [
       "<Figure size 640x480 with 1 Axes>"
      ]
     },
     "metadata": {},
     "output_type": "display_data"
    }
   ],
   "source": [
    "sns.kdeplot(df['Ratings'])\n",
    "plt.show()"
   ]
  },
  {
   "cell_type": "code",
   "execution_count": 90,
   "metadata": {},
   "outputs": [],
   "source": [
    "# replace 6 ratting with median\n",
    "df['Ratings'] = df['Ratings'].replace(6, 4.7)"
   ]
  },
  {
   "cell_type": "markdown",
   "metadata": {},
   "source": [
    "<font color = 'orange'>\n",
    "\n",
    "#### <b> Age\n",
    "- handle NaN\n",
    "- change data type"
   ]
  },
  {
   "cell_type": "code",
   "execution_count": 91,
   "metadata": {},
   "outputs": [
    {
     "data": {
      "text/plain": [
       "array(['37', '34', '23', '38', '32', '22', '33', '35', '36', '21', '24',\n",
       "       '29', '25', '31', '27', '26', '20', 'NaN ', '28', '39', '30', '15',\n",
       "       '50'], dtype=object)"
      ]
     },
     "execution_count": 91,
     "metadata": {},
     "output_type": "execute_result"
    }
   ],
   "source": [
    "df['Age'].unique()"
   ]
  },
  {
   "cell_type": "code",
   "execution_count": 92,
   "metadata": {},
   "outputs": [
    {
     "data": {
      "text/plain": [
       "1854"
      ]
     },
     "execution_count": 92,
     "metadata": {},
     "output_type": "execute_result"
    }
   ],
   "source": [
    "# 'NaN ' is present in Age column - 1854\n",
    "df[df['Age'] == 'NaN '].shape[0]"
   ]
  },
  {
   "cell_type": "code",
   "execution_count": 93,
   "metadata": {},
   "outputs": [],
   "source": [
    "# fixing NaN\n",
    "df['Age'] = df['Age'].replace('NaN ', np.nan)\n",
    "\n",
    "# fixing data type\n",
    "df['Age'] = df['Age'].astype('Int64')"
   ]
  },
  {
   "cell_type": "code",
   "execution_count": 94,
   "metadata": {},
   "outputs": [
    {
     "data": {
      "text/plain": [
       "np.int64(1854)"
      ]
     },
     "execution_count": 94,
     "metadata": {},
     "output_type": "execute_result"
    }
   ],
   "source": [
    "df['Age'].isnull().sum()"
   ]
  },
  {
   "cell_type": "code",
   "execution_count": 95,
   "metadata": {},
   "outputs": [
    {
     "name": "stdout",
     "output_type": "stream",
     "text": [
      "Min: 15       \n",
      "Max: 50       \n",
      "Mean: 29.567136880129862       \n",
      "Median: 30.0\n"
     ]
    }
   ],
   "source": [
    "print(f\"Min: {df['Age'].min()} \\\n",
    "      \\nMax: {df['Age'].max()} \\\n",
    "      \\nMean: {df['Age'].mean()} \\\n",
    "      \\nMedian: {df['Age'].median()}\")"
   ]
  },
  {
   "cell_type": "code",
   "execution_count": 96,
   "metadata": {},
   "outputs": [
    {
     "data": {
      "text/plain": [
       "[]"
      ]
     },
     "execution_count": 96,
     "metadata": {},
     "output_type": "execute_result"
    },
    {
     "data": {
      "image/png": "[encoded data removed]",
      "text/plain": [
       "<Figure size 600x300 with 1 Axes>"
      ]
     },
     "metadata": {},
     "output_type": "display_data"
    }
   ],
   "source": [
    "# box plot\n",
    "plt.figure(figsize=(6, 3))\n",
    "sns.boxplot(df, x=df[\"Age\"], fill=False)\n",
    "plt.plot()"
   ]
  },
  {
   "cell_type": "markdown",
   "metadata": {},
   "source": [
    "<font color = 'orange'>\n",
    "\n",
    "#### <b> Weatherconditions\n",
    "- handle Nan\n",
    "- change data type"
   ]
  },
  {
   "cell_type": "code",
   "execution_count": 97,
   "metadata": {},
   "outputs": [
    {
     "data": {
      "text/plain": [
       "array(['conditions Sunny', 'conditions Stormy', 'conditions Sandstorms',\n",
       "       'conditions Cloudy', 'conditions Fog', 'conditions Windy',\n",
       "       'conditions NaN'], dtype=object)"
      ]
     },
     "execution_count": 97,
     "metadata": {},
     "output_type": "execute_result"
    }
   ],
   "source": [
    "df['Weatherconditions'].unique()"
   ]
  },
  {
   "cell_type": "code",
   "execution_count": 98,
   "metadata": {},
   "outputs": [
    {
     "data": {
      "text/plain": [
       "Weatherconditions\n",
       "conditions Fog           7654\n",
       "conditions Stormy        7586\n",
       "conditions Cloudy        7536\n",
       "conditions Sandstorms    7495\n",
       "conditions Windy         7422\n",
       "conditions Sunny         7284\n",
       "conditions NaN            616\n",
       "Name: count, dtype: int64"
      ]
     },
     "execution_count": 98,
     "metadata": {},
     "output_type": "execute_result"
    }
   ],
   "source": [
    "df['Weatherconditions'].value_counts()"
   ]
  },
  {
   "cell_type": "code",
   "execution_count": 99,
   "metadata": {},
   "outputs": [
    {
     "data": {
      "text/plain": [
       "np.int64(0)"
      ]
     },
     "execution_count": 99,
     "metadata": {},
     "output_type": "execute_result"
    }
   ],
   "source": [
    "df['Weatherconditions'].isnull().sum()"
   ]
  },
  {
   "cell_type": "code",
   "execution_count": 100,
   "metadata": {},
   "outputs": [],
   "source": [
    "# fixing category names\n",
    "df['Weatherconditions'] = df['Weatherconditions'].apply(lambda x: x.split(' ')[-1])\n",
    "\n",
    "# fixing NaN\n",
    "df['Weatherconditions'] = df['Weatherconditions'].replace('conditions NaN', np.nan)"
   ]
  },
  {
   "cell_type": "code",
   "execution_count": 101,
   "metadata": {},
   "outputs": [
    {
     "data": {
      "text/plain": [
       "Age                            1854\n",
       "Ratings                        1908\n",
       "Restaurant_latitude               0\n",
       "Restaurant_longitude              0\n",
       "Delivery_location_latitude        0\n",
       "Delivery_location_longitude       0\n",
       "Order_Date                        0\n",
       "Time_Orderd                    1731\n",
       "Time_Order_picked                 0\n",
       "Weatherconditions                 0\n",
       "Road_traffic_density              0\n",
       "Vehicle_condition                 0\n",
       "Type_of_order                     0\n",
       "Type_of_vehicle                   0\n",
       "multiple_deliveries               0\n",
       "Festival                          0\n",
       "City                              0\n",
       "Time_taken(min)                   0\n",
       "dtype: int64"
      ]
     },
     "execution_count": 101,
     "metadata": {},
     "output_type": "execute_result"
    }
   ],
   "source": [
    "df.isnull().sum()"
   ]
  },
  {
   "cell_type": "code",
   "execution_count": 102,
   "metadata": {},
   "outputs": [
    {
     "data": {
      "text/plain": [
       "Age                            4.07\n",
       "Ratings                        4.18\n",
       "Restaurant_latitude            0.00\n",
       "Restaurant_longitude           0.00\n",
       "Delivery_location_latitude     0.00\n",
       "Delivery_location_longitude    0.00\n",
       "Order_Date                     0.00\n",
       "Time_Orderd                    3.80\n",
       "Time_Order_picked              0.00\n",
       "Weatherconditions              0.00\n",
       "Road_traffic_density           0.00\n",
       "Vehicle_condition              0.00\n",
       "Type_of_order                  0.00\n",
       "Type_of_vehicle                0.00\n",
       "multiple_deliveries            0.00\n",
       "Festival                       0.00\n",
       "City                           0.00\n",
       "Time_taken(min)                0.00\n",
       "dtype: float64"
      ]
     },
     "execution_count": 102,
     "metadata": {},
     "output_type": "execute_result"
    }
   ],
   "source": [
    "# % of NaN values\n",
    "round(df.isnull().mean() * 100, 2)"
   ]
  },
  {
   "cell_type": "code",
   "execution_count": 103,
   "metadata": {},
   "outputs": [
    {
     "data": {
      "text/plain": [
       "<Axes: >"
      ]
     },
     "execution_count": 103,
     "metadata": {},
     "output_type": "execute_result"
    },
    {
     "data": {
      "image/png": "[encoded data removed]",
      "text/plain": [
       "<Figure size 2500x1000 with 2 Axes>"
      ]
     },
     "metadata": {},
     "output_type": "display_data"
    }
   ],
   "source": [
    "# Age & Rating seems very correlated columns\n",
    "%matplotlib inline\n",
    "missingno.matrix(df.loc[:,['Age', 'Ratings', 'Time_Orderd']], color=(1, 0.38, 0.27))"
   ]
  },
  {
   "cell_type": "code",
   "execution_count": 118,
   "metadata": {},
   "outputs": [],
   "source": [
    "df.sort_values(by='Order_Date', ascending=True, inplace=True)"
   ]
  },
  {
   "cell_type": "code",
   "execution_count": 121,
   "metadata": {},
   "outputs": [],
   "source": [
    "df.reset_index(inplace=True, drop=True)"
   ]
  },
  {
   "cell_type": "code",
   "execution_count": 143,
   "metadata": {},
   "outputs": [
    {
     "data": {
      "text/html": [
       "<div>\n",
       "<style scoped>\n",
       "    .dataframe tbody tr th:only-of-type {\n",
       "        vertical-align: middle;\n",
       "    }\n",
       "\n",
       "    .dataframe tbody tr th {\n",
       "        vertical-align: top;\n",
       "    }\n",
       "\n",
       "    .dataframe thead th {\n",
       "        text-align: right;\n",
       "    }\n",
       "</style>\n",
       "<table border=\"1\" class=\"dataframe\">\n",
       "  <thead>\n",
       "    <tr style=\"text-align: right;\">\n",
       "      <th></th>\n",
       "      <th>Age</th>\n",
       "      <th>Ratings</th>\n",
       "      <th>Restaurant_latitude</th>\n",
       "      <th>Restaurant_longitude</th>\n",
       "      <th>Delivery_location_latitude</th>\n",
       "      <th>Delivery_location_longitude</th>\n",
       "      <th>Order_Date</th>\n",
       "      <th>Time_Orderd</th>\n",
       "      <th>Time_Order_picked</th>\n",
       "      <th>Weatherconditions</th>\n",
       "      <th>Road_traffic_density</th>\n",
       "      <th>Vehicle_condition</th>\n",
       "      <th>Type_of_order</th>\n",
       "      <th>Type_of_vehicle</th>\n",
       "      <th>multiple_deliveries</th>\n",
       "      <th>Festival</th>\n",
       "      <th>City</th>\n",
       "      <th>Time_taken(min)</th>\n",
       "    </tr>\n",
       "  </thead>\n",
       "  <tbody>\n",
       "    <tr>\n",
       "      <th>911</th>\n",
       "      <td>15</td>\n",
       "      <td>1.0</td>\n",
       "      <td>12.334022</td>\n",
       "      <td>76.618203</td>\n",
       "      <td>12.354022</td>\n",
       "      <td>76.638203</td>\n",
       "      <td>01-03-2022</td>\n",
       "      <td>NaT</td>\n",
       "      <td>09:35:00</td>\n",
       "      <td>NaN</td>\n",
       "      <td>Low</td>\n",
       "      <td>3</td>\n",
       "      <td>Drinks</td>\n",
       "      <td>scooter</td>\n",
       "      <td>1.0</td>\n",
       "      <td>No</td>\n",
       "      <td>Metropolitian</td>\n",
       "      <td>(min) 13</td>\n",
       "    </tr>\n",
       "    <tr>\n",
       "      <th>207</th>\n",
       "      <td>&lt;NA&gt;</td>\n",
       "      <td>NaN</td>\n",
       "      <td>22.311844</td>\n",
       "      <td>73.165081</td>\n",
       "      <td>22.371844</td>\n",
       "      <td>73.225081</td>\n",
       "      <td>01-03-2022</td>\n",
       "      <td>NaT</td>\n",
       "      <td>22:45:00</td>\n",
       "      <td>Cloudy</td>\n",
       "      <td>Low</td>\n",
       "      <td>2</td>\n",
       "      <td>Meal</td>\n",
       "      <td>scooter</td>\n",
       "      <td>0.0</td>\n",
       "      <td>No</td>\n",
       "      <td>Urban</td>\n",
       "      <td>(min) 18</td>\n",
       "    </tr>\n",
       "    <tr>\n",
       "      <th>939</th>\n",
       "      <td>&lt;NA&gt;</td>\n",
       "      <td>NaN</td>\n",
       "      <td>0.000000</td>\n",
       "      <td>0.000000</td>\n",
       "      <td>0.020000</td>\n",
       "      <td>0.020000</td>\n",
       "      <td>01-03-2022</td>\n",
       "      <td>NaT</td>\n",
       "      <td>08:45:00</td>\n",
       "      <td>NaN</td>\n",
       "      <td>Low</td>\n",
       "      <td>3</td>\n",
       "      <td>Drinks</td>\n",
       "      <td>motorcycle</td>\n",
       "      <td>0.0</td>\n",
       "      <td>No</td>\n",
       "      <td>Metropolitian</td>\n",
       "      <td>(min) 19</td>\n",
       "    </tr>\n",
       "    <tr>\n",
       "      <th>1038</th>\n",
       "      <td>&lt;NA&gt;</td>\n",
       "      <td>NaN</td>\n",
       "      <td>0.000000</td>\n",
       "      <td>0.000000</td>\n",
       "      <td>0.060000</td>\n",
       "      <td>0.060000</td>\n",
       "      <td>01-03-2022</td>\n",
       "      <td>NaT</td>\n",
       "      <td>19:50:00</td>\n",
       "      <td>Windy</td>\n",
       "      <td>Jam</td>\n",
       "      <td>1</td>\n",
       "      <td>Drinks</td>\n",
       "      <td>scooter</td>\n",
       "      <td>1.0</td>\n",
       "      <td>No</td>\n",
       "      <td>Metropolitian</td>\n",
       "      <td>(min) 18</td>\n",
       "    </tr>\n",
       "    <tr>\n",
       "      <th>435</th>\n",
       "      <td>&lt;NA&gt;</td>\n",
       "      <td>NaN</td>\n",
       "      <td>-12.311072</td>\n",
       "      <td>-76.654878</td>\n",
       "      <td>12.321072</td>\n",
       "      <td>76.664878</td>\n",
       "      <td>01-03-2022</td>\n",
       "      <td>NaT</td>\n",
       "      <td>10:05:00</td>\n",
       "      <td>NaN</td>\n",
       "      <td>Low</td>\n",
       "      <td>3</td>\n",
       "      <td>Meal</td>\n",
       "      <td>scooter</td>\n",
       "      <td>0.0</td>\n",
       "      <td>No</td>\n",
       "      <td>Metropolitian</td>\n",
       "      <td>(min) 24</td>\n",
       "    </tr>\n",
       "  </tbody>\n",
       "</table>\n",
       "</div>"
      ],
      "text/plain": [
       "       Age  Ratings  Restaurant_latitude  Restaurant_longitude  \\\n",
       "911     15      1.0            12.334022             76.618203   \n",
       "207   <NA>      NaN            22.311844             73.165081   \n",
       "939   <NA>      NaN             0.000000              0.000000   \n",
       "1038  <NA>      NaN             0.000000              0.000000   \n",
       "435   <NA>      NaN           -12.311072            -76.654878   \n",
       "\n",
       "      Delivery_location_latitude  Delivery_location_longitude  Order_Date  \\\n",
       "911                    12.354022                    76.638203  01-03-2022   \n",
       "207                    22.371844                    73.225081  01-03-2022   \n",
       "939                     0.020000                     0.020000  01-03-2022   \n",
       "1038                    0.060000                     0.060000  01-03-2022   \n",
       "435                    12.321072                    76.664878  01-03-2022   \n",
       "\n",
       "     Time_Orderd Time_Order_picked Weatherconditions Road_traffic_density  \\\n",
       "911          NaT          09:35:00               NaN                  Low   \n",
       "207          NaT          22:45:00            Cloudy                  Low   \n",
       "939          NaT          08:45:00               NaN                  Low   \n",
       "1038         NaT          19:50:00             Windy                  Jam   \n",
       "435          NaT          10:05:00               NaN                  Low   \n",
       "\n",
       "     Vehicle_condition Type_of_order Type_of_vehicle  multiple_deliveries  \\\n",
       "911                  3        Drinks         scooter                  1.0   \n",
       "207                  2          Meal         scooter                  0.0   \n",
       "939                  3        Drinks      motorcycle                  0.0   \n",
       "1038                 1        Drinks         scooter                  1.0   \n",
       "435                  3          Meal         scooter                  0.0   \n",
       "\n",
       "     Festival           City Time_taken(min)  \n",
       "911        No  Metropolitian        (min) 13  \n",
       "207        No          Urban        (min) 18  \n",
       "939        No  Metropolitian        (min) 19  \n",
       "1038       No  Metropolitian        (min) 18  \n",
       "435        No  Metropolitian        (min) 24  "
      ]
     },
     "execution_count": 143,
     "metadata": {},
     "output_type": "execute_result"
    }
   ],
   "source": [
    "df[(df['Order_Date'] == '01-03-2022') & (df['Time_Orderd'].isna())].sample(5)"
   ]
  },
  {
   "cell_type": "code",
   "execution_count": null,
   "metadata": {},
   "outputs": [],
   "source": []
  },
  {
   "cell_type": "code",
   "execution_count": null,
   "metadata": {},
   "outputs": [],
   "source": []
  },
  {
   "cell_type": "code",
   "execution_count": 104,
   "metadata": {},
   "outputs": [
    {
     "data": {
      "text/plain": [
       "<Axes: >"
      ]
     },
     "execution_count": 104,
     "metadata": {},
     "output_type": "execute_result"
    },
    {
     "data": {
      "image/png": "[encoded data removed]",
      "text/plain": [
       "<Figure size 300x300 with 2 Axes>"
      ]
     },
     "metadata": {},
     "output_type": "display_data"
    }
   ],
   "source": [
    "missingno.heatmap(df, cmap='PiYG', figsize=(3,3), fontsize=9)"
   ]
  },
  {
   "cell_type": "code",
   "execution_count": 105,
   "metadata": {},
   "outputs": [
    {
     "data": {
      "text/plain": [
       "[]"
      ]
     },
     "execution_count": 105,
     "metadata": {},
     "output_type": "execute_result"
    },
    {
     "data": {
      "image/png": "[encoded data removed]",
      "text/plain": [
       "<Figure size 640x480 with 1 Axes>"
      ]
     },
     "metadata": {},
     "output_type": "display_data"
    }
   ],
   "source": [
    "# check for relationship b/w Age & Delivery_person_Ratting\n",
    "# Col - Age\n",
    "sns.kdeplot(df['Age'])\n",
    "sns.rugplot(df['Age'])\n",
    "plt.plot()"
   ]
  },
  {
   "cell_type": "code",
   "execution_count": 106,
   "metadata": {},
   "outputs": [
    {
     "data": {
      "text/html": [
       "<div>\n",
       "<style scoped>\n",
       "    .dataframe tbody tr th:only-of-type {\n",
       "        vertical-align: middle;\n",
       "    }\n",
       "\n",
       "    .dataframe tbody tr th {\n",
       "        vertical-align: top;\n",
       "    }\n",
       "\n",
       "    .dataframe thead th {\n",
       "        text-align: right;\n",
       "    }\n",
       "</style>\n",
       "<table border=\"1\" class=\"dataframe\">\n",
       "  <thead>\n",
       "    <tr style=\"text-align: right;\">\n",
       "      <th></th>\n",
       "      <th>Age</th>\n",
       "      <th>Ratings</th>\n",
       "      <th>Restaurant_latitude</th>\n",
       "      <th>Restaurant_longitude</th>\n",
       "      <th>Delivery_location_latitude</th>\n",
       "      <th>Delivery_location_longitude</th>\n",
       "      <th>Order_Date</th>\n",
       "      <th>Time_Orderd</th>\n",
       "      <th>Time_Order_picked</th>\n",
       "      <th>Weatherconditions</th>\n",
       "      <th>Road_traffic_density</th>\n",
       "      <th>Vehicle_condition</th>\n",
       "      <th>Type_of_order</th>\n",
       "      <th>Type_of_vehicle</th>\n",
       "      <th>multiple_deliveries</th>\n",
       "      <th>Festival</th>\n",
       "      <th>City</th>\n",
       "      <th>Time_taken(min)</th>\n",
       "    </tr>\n",
       "  </thead>\n",
       "  <tbody>\n",
       "    <tr>\n",
       "      <th>42000</th>\n",
       "      <td>27</td>\n",
       "      <td>4.6</td>\n",
       "      <td>12.980410</td>\n",
       "      <td>77.640489</td>\n",
       "      <td>13.000410</td>\n",
       "      <td>77.660489</td>\n",
       "      <td>11-03-2022</td>\n",
       "      <td>08:25:00</td>\n",
       "      <td>08:30:00</td>\n",
       "      <td>Fog</td>\n",
       "      <td>Low</td>\n",
       "      <td>0</td>\n",
       "      <td>Buffet</td>\n",
       "      <td>motorcycle</td>\n",
       "      <td>0.0</td>\n",
       "      <td>No</td>\n",
       "      <td>Metropolitian</td>\n",
       "      <td>(min) 23</td>\n",
       "    </tr>\n",
       "    <tr>\n",
       "      <th>41115</th>\n",
       "      <td>30</td>\n",
       "      <td>4.6</td>\n",
       "      <td>13.049645</td>\n",
       "      <td>80.242268</td>\n",
       "      <td>13.089645</td>\n",
       "      <td>80.282268</td>\n",
       "      <td>05-04-2022</td>\n",
       "      <td>15:10:00</td>\n",
       "      <td>15:25:00</td>\n",
       "      <td>Windy</td>\n",
       "      <td>Medium</td>\n",
       "      <td>0</td>\n",
       "      <td>Buffet</td>\n",
       "      <td>motorcycle</td>\n",
       "      <td>1.0</td>\n",
       "      <td>No</td>\n",
       "      <td>Metropolitian</td>\n",
       "      <td>(min) 37</td>\n",
       "    </tr>\n",
       "  </tbody>\n",
       "</table>\n",
       "</div>"
      ],
      "text/plain": [
       "       Age  Ratings  Restaurant_latitude  Restaurant_longitude  \\\n",
       "42000   27      4.6            12.980410             77.640489   \n",
       "41115   30      4.6            13.049645             80.242268   \n",
       "\n",
       "       Delivery_location_latitude  Delivery_location_longitude  Order_Date  \\\n",
       "42000                   13.000410                    77.660489  11-03-2022   \n",
       "41115                   13.089645                    80.282268  05-04-2022   \n",
       "\n",
       "      Time_Orderd Time_Order_picked Weatherconditions Road_traffic_density  \\\n",
       "42000    08:25:00          08:30:00               Fog                  Low   \n",
       "41115    15:10:00          15:25:00             Windy               Medium   \n",
       "\n",
       "      Vehicle_condition Type_of_order Type_of_vehicle  multiple_deliveries  \\\n",
       "42000                 0        Buffet      motorcycle                  0.0   \n",
       "41115                 0        Buffet      motorcycle                  1.0   \n",
       "\n",
       "      Festival           City Time_taken(min)  \n",
       "42000       No  Metropolitian        (min) 23  \n",
       "41115       No  Metropolitian        (min) 37  "
      ]
     },
     "execution_count": 106,
     "metadata": {},
     "output_type": "execute_result"
    }
   ],
   "source": [
    "df.sample(2)"
   ]
  },
  {
   "cell_type": "code",
   "execution_count": 115,
   "metadata": {},
   "outputs": [
    {
     "name": "stdout",
     "output_type": "stream",
     "text": [
      "Coefficients (rounded):\n",
      "Intercept                          29.88\n",
      "Weatherconditions[T.Fog]           -0.18\n",
      "Weatherconditions[T.Sandstorms]    -0.00\n",
      "Weatherconditions[T.Stormy]         0.08\n",
      "Weatherconditions[T.Sunny]          0.13\n",
      "Weatherconditions[T.Windy]         -0.04\n",
      "Road_traffic_density[T.Jam]        -0.18\n",
      "Road_traffic_density[T.Low]         0.01\n",
      "Road_traffic_density[T.Medium]     -0.09\n",
      "Vehicle_condition[T.1]              0.12\n",
      "Vehicle_condition[T.2]              0.09\n",
      "Vehicle_condition[T.3]             -0.00\n",
      "Type_of_order[T.Drinks]            -0.07\n",
      "Type_of_order[T.Meal]              -0.01\n",
      "Type_of_order[T.Snack]             -0.12\n",
      "Type_of_vehicle[T.motorcycle]      -0.13\n",
      "Type_of_vehicle[T.scooter]         -0.14\n",
      "Festival[T.Yes]                     2.42\n",
      "City[T.Semi-Urban]                  2.41\n",
      "City[T.Urban]                      -0.88\n",
      "dtype: float64\n",
      "\n",
      "P-values (rounded):\n",
      "Intercept                          0.0000\n",
      "Weatherconditions[T.Fog]           0.0591\n",
      "Weatherconditions[T.Sandstorms]    0.9722\n",
      "Weatherconditions[T.Stormy]        0.4281\n",
      "Weatherconditions[T.Sunny]         0.1827\n",
      "Weatherconditions[T.Windy]         0.6482\n",
      "Road_traffic_density[T.Jam]        0.0698\n",
      "Road_traffic_density[T.Low]        0.8977\n",
      "Road_traffic_density[T.Medium]     0.3937\n",
      "Vehicle_condition[T.1]             0.1093\n",
      "Vehicle_condition[T.2]             0.3330\n",
      "Vehicle_condition[T.3]             0.0000\n",
      "Type_of_order[T.Drinks]            0.3755\n",
      "Type_of_order[T.Meal]              0.8612\n",
      "Type_of_order[T.Snack]             0.1209\n",
      "Type_of_vehicle[T.motorcycle]      0.2986\n",
      "Type_of_vehicle[T.scooter]         0.2119\n",
      "Festival[T.Yes]                    0.0000\n",
      "City[T.Semi-Urban]                 0.0000\n",
      "City[T.Urban]                      0.0000\n",
      "dtype: float64\n",
      "\n",
      "R-squared (rounded): 0.009\n"
     ]
    }
   ],
   "source": [
    "# One-way ANOVA\n",
    "import statsmodels.formula.api as smf\n",
    "\n",
    "nonna_df = df.dropna()\n",
    "# Perform one-way ANOVA\n",
    "model = smf.ols(formula='Age ~ Weatherconditions + Road_traffic_density + Vehicle_condition + Type_of_order + Type_of_vehicle + Festival + City', data=nonna_df)\n",
    "result = model.fit()\n",
    "\n",
    "# Print the ANOVA table\n",
    "# print(result.summary())\n",
    "\n",
    "# Extract the coefficients and other important values, rounding them\n",
    "coefficients = result.params.round(2)  # Rounding the coefficients to 2 decimal places\n",
    "pvalues = result.pvalues.round(4)      # Rounding the p-values to 4 decimal places\n",
    "rsquared = round(result.rsquared, 3)   # Rounding R-squared to 3 decimal places\n",
    "\n",
    "# Displaying rounded values manually\n",
    "print(\"Coefficients (rounded):\")\n",
    "print(coefficients)\n",
    "print(\"\\nP-values (rounded):\")\n",
    "print(pvalues)\n",
    "print(f\"\\nR-squared (rounded): {rsquared}\")"
   ]
  },
  {
   "cell_type": "code",
   "execution_count": 86,
   "metadata": {},
   "outputs": [
    {
     "data": {
      "text/plain": [
       "[]"
      ]
     },
     "execution_count": 86,
     "metadata": {},
     "output_type": "execute_result"
    },
    {
     "data": {
      "image/png": "[encoded data removed]",
      "text/plain": [
       "<Figure size 640x480 with 1 Axes>"
      ]
     },
     "metadata": {},
     "output_type": "display_data"
    }
   ],
   "source": [
    "sns.kdeplot(df['Rating'])\n",
    "sns.rugplot(df['Rating'])\n",
    "plt.plot()"
   ]
  },
  {
   "cell_type": "code",
   "execution_count": null,
   "metadata": {},
   "outputs": [],
   "source": []
  },
  {
   "cell_type": "code",
   "execution_count": 85,
   "metadata": {},
   "outputs": [
    {
     "data": {
      "text/plain": [
       "[]"
      ]
     },
     "execution_count": 85,
     "metadata": {},
     "output_type": "execute_result"
    },
    {
     "data": {
      "image/png": "[encoded data removed]",
      "text/plain": [
       "<Figure size 500x500 with 1 Axes>"
      ]
     },
     "metadata": {},
     "output_type": "display_data"
    }
   ],
   "source": [
    "sns.relplot(x = df['Age'], y = df['Rating'], kind = 'scatter')\n",
    "plt.plot()"
   ]
  },
  {
   "cell_type": "markdown",
   "metadata": {},
   "source": [
    "# Feature Engineering\n",
    "\n",
    "\"restaurant - delivery location\" latitude & longitude\n",
    "- Euclidean dist\n",
    "- haversine dist\n",
    "- manhattan dist\n",
    "- estimate delivery time (assume 30 kmph)\n",
    "\n",
    "time ordered & time order picked\n",
    "- time lag\n",
    "- ordered picked time ratio\n",
    "\n",
    "order date\n",
    "- hour\n",
    "- day of week\n",
    "- month\n",
    "- quarter\n",
    "- year"
   ]
  },
  {
   "cell_type": "code",
   "execution_count": null,
   "metadata": {},
   "outputs": [],
   "source": []
  },
  {
   "cell_type": "code",
   "execution_count": null,
   "metadata": {},
   "outputs": [],
   "source": []
  },
  {
   "cell_type": "code",
   "execution_count": null,
   "metadata": {},
   "outputs": [],
   "source": []
  },
  {
   "cell_type": "code",
   "execution_count": null,
   "metadata": {},
   "outputs": [],
   "source": []
  },
  {
   "cell_type": "code",
   "execution_count": null,
   "metadata": {},
   "outputs": [],
   "source": []
  },
  {
   "cell_type": "code",
   "execution_count": null,
   "metadata": {},
   "outputs": [],
   "source": []
  }
 ],
 "metadata": {
  "kernelspec": {
   "display_name": "venv",
   "language": "python",
   "name": "python3"
  },
  "language_info": {
   "codemirror_mode": {
    "name": "ipython",
    "version": 3
   },
   "file_extension": ".py",
   "mimetype": "text/x-python",
   "name": "python",
   "nbconvert_exporter": "python",
   "pygments_lexer": "ipython3",
   "version": "3.9.2"
  }
 },
 "nbformat": 4,
 "nbformat_minor": 2
}
