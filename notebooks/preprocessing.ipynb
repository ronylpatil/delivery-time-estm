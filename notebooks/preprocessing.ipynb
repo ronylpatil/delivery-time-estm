{
 "cells": [
  {
   "cell_type": "code",
   "execution_count": 12,
   "metadata": {},
   "outputs": [],
   "source": [
    "import missingno\n",
    "import pathlib\n",
    "import pandas as pd\n",
    "import numpy as np\n",
    "import seaborn as sns\n",
    "import matplotlib.pyplot as plt"
   ]
  },
  {
   "cell_type": "code",
   "execution_count": 13,
   "metadata": {},
   "outputs": [],
   "source": [
    "data_dir = pathlib.Path().absolute().parent.as_posix() + '/data/raw/train.csv'\n",
    "\n",
    "df = pd.read_csv(data_dir)"
   ]
  },
  {
   "cell_type": "code",
   "execution_count": 14,
   "metadata": {},
   "outputs": [
    {
     "data": {
      "text/html": [
       "<div>\n",
       "<style scoped>\n",
       "    .dataframe tbody tr th:only-of-type {\n",
       "        vertical-align: middle;\n",
       "    }\n",
       "\n",
       "    .dataframe tbody tr th {\n",
       "        vertical-align: top;\n",
       "    }\n",
       "\n",
       "    .dataframe thead th {\n",
       "        text-align: right;\n",
       "    }\n",
       "</style>\n",
       "<table border=\"1\" class=\"dataframe\">\n",
       "  <thead>\n",
       "    <tr style=\"text-align: right;\">\n",
       "      <th></th>\n",
       "      <th>ID</th>\n",
       "      <th>Delivery_person_ID</th>\n",
       "      <th>Delivery_person_Age</th>\n",
       "      <th>Delivery_person_Ratings</th>\n",
       "      <th>Restaurant_latitude</th>\n",
       "      <th>Restaurant_longitude</th>\n",
       "      <th>Delivery_location_latitude</th>\n",
       "      <th>Delivery_location_longitude</th>\n",
       "      <th>Order_Date</th>\n",
       "      <th>Time_Orderd</th>\n",
       "      <th>Time_Order_picked</th>\n",
       "      <th>Weatherconditions</th>\n",
       "      <th>Road_traffic_density</th>\n",
       "      <th>Vehicle_condition</th>\n",
       "      <th>Type_of_order</th>\n",
       "      <th>Type_of_vehicle</th>\n",
       "      <th>multiple_deliveries</th>\n",
       "      <th>Festival</th>\n",
       "      <th>City</th>\n",
       "      <th>Time_taken(min)</th>\n",
       "    </tr>\n",
       "  </thead>\n",
       "  <tbody>\n",
       "    <tr>\n",
       "      <th>31087</th>\n",
       "      <td>0x85a6</td>\n",
       "      <td>VADRES19DEL01</td>\n",
       "      <td>33</td>\n",
       "      <td>3.7</td>\n",
       "      <td>22.311844</td>\n",
       "      <td>73.165081</td>\n",
       "      <td>22.381844</td>\n",
       "      <td>73.235081</td>\n",
       "      <td>25-03-2022</td>\n",
       "      <td>17:50:00</td>\n",
       "      <td>17:55:00</td>\n",
       "      <td>conditions Stormy</td>\n",
       "      <td>Medium</td>\n",
       "      <td>2</td>\n",
       "      <td>Meal</td>\n",
       "      <td>scooter</td>\n",
       "      <td>1</td>\n",
       "      <td>No</td>\n",
       "      <td>Metropolitian</td>\n",
       "      <td>(min) 32</td>\n",
       "    </tr>\n",
       "    <tr>\n",
       "      <th>8621</th>\n",
       "      <td>0x2491</td>\n",
       "      <td>COIMBRES20DEL03</td>\n",
       "      <td>32</td>\n",
       "      <td>4.5</td>\n",
       "      <td>10.994136</td>\n",
       "      <td>76.963303</td>\n",
       "      <td>11.024136</td>\n",
       "      <td>76.993303</td>\n",
       "      <td>03-03-2022</td>\n",
       "      <td>19:40:00</td>\n",
       "      <td>19:50:00</td>\n",
       "      <td>conditions Sunny</td>\n",
       "      <td>Jam</td>\n",
       "      <td>1</td>\n",
       "      <td>Snack</td>\n",
       "      <td>motorcycle</td>\n",
       "      <td>1</td>\n",
       "      <td>No</td>\n",
       "      <td>Metropolitian</td>\n",
       "      <td>(min) 23</td>\n",
       "    </tr>\n",
       "    <tr>\n",
       "      <th>25463</th>\n",
       "      <td>0x61a</td>\n",
       "      <td>RANCHIRES03DEL02</td>\n",
       "      <td>NaN</td>\n",
       "      <td>NaN</td>\n",
       "      <td>0.000000</td>\n",
       "      <td>0.000000</td>\n",
       "      <td>0.080000</td>\n",
       "      <td>0.080000</td>\n",
       "      <td>06-03-2022</td>\n",
       "      <td>NaN</td>\n",
       "      <td>18:05:00</td>\n",
       "      <td>conditions Sandstorms</td>\n",
       "      <td>Medium</td>\n",
       "      <td>2</td>\n",
       "      <td>Drinks</td>\n",
       "      <td>scooter</td>\n",
       "      <td>1</td>\n",
       "      <td>No</td>\n",
       "      <td>Urban</td>\n",
       "      <td>(min) 20</td>\n",
       "    </tr>\n",
       "  </tbody>\n",
       "</table>\n",
       "</div>"
      ],
      "text/plain": [
       "            ID Delivery_person_ID Delivery_person_Age Delivery_person_Ratings  \\\n",
       "31087  0x85a6      VADRES19DEL01                   33                     3.7   \n",
       "8621   0x2491    COIMBRES20DEL03                   32                     4.5   \n",
       "25463   0x61a   RANCHIRES03DEL02                 NaN                     NaN    \n",
       "\n",
       "       Restaurant_latitude  Restaurant_longitude  Delivery_location_latitude  \\\n",
       "31087            22.311844             73.165081                   22.381844   \n",
       "8621             10.994136             76.963303                   11.024136   \n",
       "25463             0.000000              0.000000                    0.080000   \n",
       "\n",
       "       Delivery_location_longitude  Order_Date Time_Orderd Time_Order_picked  \\\n",
       "31087                    73.235081  25-03-2022    17:50:00          17:55:00   \n",
       "8621                     76.993303  03-03-2022    19:40:00          19:50:00   \n",
       "25463                     0.080000  06-03-2022        NaN           18:05:00   \n",
       "\n",
       "           Weatherconditions Road_traffic_density  Vehicle_condition  \\\n",
       "31087      conditions Stormy              Medium                   2   \n",
       "8621        conditions Sunny                 Jam                   1   \n",
       "25463  conditions Sandstorms              Medium                   2   \n",
       "\n",
       "      Type_of_order Type_of_vehicle multiple_deliveries Festival  \\\n",
       "31087         Meal         scooter                    1      No    \n",
       "8621         Snack      motorcycle                    1      No    \n",
       "25463       Drinks         scooter                    1      No    \n",
       "\n",
       "                 City Time_taken(min)  \n",
       "31087  Metropolitian         (min) 32  \n",
       "8621   Metropolitian         (min) 23  \n",
       "25463          Urban         (min) 20  "
      ]
     },
     "execution_count": 14,
     "metadata": {},
     "output_type": "execute_result"
    }
   ],
   "source": [
    "df.sample(3)"
   ]
  },
  {
   "cell_type": "code",
   "execution_count": 15,
   "metadata": {},
   "outputs": [
    {
     "data": {
      "text/plain": [
       "(45593, 20)"
      ]
     },
     "execution_count": 15,
     "metadata": {},
     "output_type": "execute_result"
    }
   ],
   "source": [
    "df.shape"
   ]
  },
  {
   "cell_type": "code",
   "execution_count": 16,
   "metadata": {},
   "outputs": [],
   "source": [
    "# drop ID & Delivery_pperson_id"
   ]
  },
  {
   "cell_type": "markdown",
   "metadata": {},
   "source": [
    "<font color = 'orange'>\n",
    "\n",
    "#### <b> City\n",
    "- handle NaN values\n",
    "- handle extra space at suffix\n",
    "- change data type"
   ]
  },
  {
   "cell_type": "code",
   "execution_count": 17,
   "metadata": {},
   "outputs": [
    {
     "name": "stdout",
     "output_type": "stream",
     "text": [
      "Unique Valeus: ['Urban ' 'Metropolitian ' 'Semi-Urban ' 'NaN '] \n",
      "\n",
      "NaN Count: 1200 \n",
      "\n",
      "Value Count: City\n",
      "Metropolitian     34093\n",
      "Urban             10136\n",
      "NaN                1200\n",
      "Semi-Urban          164\n",
      "Name: count, dtype: int64\n"
     ]
    }
   ],
   "source": [
    "print(f\"Unique Valeus: {df['City'].unique()} \\n\\nNaN Count: {df[df['City'] == 'NaN '].shape[0]} \\n\\nValue Count: {df['City'].value_counts()}\")"
   ]
  },
  {
   "cell_type": "code",
   "execution_count": 18,
   "metadata": {},
   "outputs": [
    {
     "data": {
      "text/plain": [
       "array(['Urban', 'Metropolitian', 'Semi-Urban', 'NaN'], dtype=object)"
      ]
     },
     "execution_count": 18,
     "metadata": {},
     "output_type": "execute_result"
    }
   ],
   "source": [
    "# fix extra spaces\n",
    "df['City'] = list(map(lambda x: x.strip(), df['City']))\n",
    "\n",
    "df['City'].unique()"
   ]
  },
  {
   "cell_type": "code",
   "execution_count": 19,
   "metadata": {},
   "outputs": [],
   "source": [
    "# fix 'NaN' with np.nan\n",
    "df['City'] = df['City'].replace('NaN', np.nan)"
   ]
  },
  {
   "cell_type": "code",
   "execution_count": 20,
   "metadata": {},
   "outputs": [
    {
     "data": {
      "text/plain": [
       "np.int64(1200)"
      ]
     },
     "execution_count": 20,
     "metadata": {},
     "output_type": "execute_result"
    }
   ],
   "source": [
    "df['City'].isnull().sum()"
   ]
  },
  {
   "cell_type": "code",
   "execution_count": 21,
   "metadata": {},
   "outputs": [],
   "source": [
    "# NaN replaced by mode\n",
    "df['City'] = df['City'].fillna(value=df['City'].value_counts().index[0])"
   ]
  },
  {
   "cell_type": "markdown",
   "metadata": {},
   "source": [
    "<font color = 'orange'>\n",
    "\n",
    "#### <b> Festival\n",
    "- handle NaN\n",
    "- handle extra space at suffix\n",
    "- change data type"
   ]
  },
  {
   "cell_type": "code",
   "execution_count": 22,
   "metadata": {},
   "outputs": [
    {
     "name": "stdout",
     "output_type": "stream",
     "text": [
      "Unique Valeus: ['No ' 'Yes ' 'NaN '] \n",
      "\n",
      "NaN Count: 228 \n",
      "\n",
      "Value Count: Festival\n",
      "No      44469\n",
      "Yes       896\n",
      "NaN       228\n",
      "Name: count, dtype: int64\n"
     ]
    }
   ],
   "source": [
    "print(f\"Unique Valeus: {df['Festival'].unique()} \\n\\nNaN Count: {df[df['Festival'] == 'NaN '].shape[0]} \\n\\nValue Count: {df['Festival'].value_counts()}\")"
   ]
  },
  {
   "cell_type": "code",
   "execution_count": 23,
   "metadata": {},
   "outputs": [
    {
     "name": "stdout",
     "output_type": "stream",
     "text": [
      "Unique value: ['No' 'Yes' 'NaN']\n",
      "Value Count: 228\n"
     ]
    }
   ],
   "source": [
    "# fix the extra space\n",
    "df['Festival'] = list(map(lambda x: x.strip(), df['Festival']))\n",
    "print(f\"Unique value: {df['Festival'].unique()}\")\n",
    "\n",
    "# fix 'NaN' with np.nan\n",
    "df['Festival'] = df['Festival'].replace('NaN', np.nan)\n",
    "print(f\"Value Count: {df['Festival'].isnull().sum()}\")"
   ]
  },
  {
   "cell_type": "code",
   "execution_count": 24,
   "metadata": {},
   "outputs": [],
   "source": [
    "# NaN replaced by mode of column\n",
    "df['Festival'] = df['Festival'].fillna(df['Festival'].value_counts().index[0])"
   ]
  },
  {
   "cell_type": "code",
   "execution_count": 25,
   "metadata": {},
   "outputs": [
    {
     "data": {
      "text/plain": [
       "Festival\n",
       "No     44697\n",
       "Yes      896\n",
       "Name: count, dtype: int64"
      ]
     },
     "execution_count": 25,
     "metadata": {},
     "output_type": "execute_result"
    }
   ],
   "source": [
    "df['Festival'].value_counts()"
   ]
  },
  {
   "cell_type": "markdown",
   "metadata": {},
   "source": [
    "<font color = 'orange'>\n",
    "\n",
    "#### <b> multiple_deliveries\n",
    "- handle NaN\n",
    "- change data type"
   ]
  },
  {
   "cell_type": "code",
   "execution_count": 26,
   "metadata": {},
   "outputs": [
    {
     "data": {
      "text/plain": [
       "array(['0', '1', '3', 'NaN ', '2'], dtype=object)"
      ]
     },
     "execution_count": 26,
     "metadata": {},
     "output_type": "execute_result"
    }
   ],
   "source": [
    "df['multiple_deliveries'].unique()"
   ]
  },
  {
   "cell_type": "code",
   "execution_count": 27,
   "metadata": {},
   "outputs": [
    {
     "data": {
      "text/plain": [
       "multiple_deliveries\n",
       "1       28159\n",
       "0       14095\n",
       "2        1985\n",
       "NaN       993\n",
       "3         361\n",
       "Name: count, dtype: int64"
      ]
     },
     "execution_count": 27,
     "metadata": {},
     "output_type": "execute_result"
    }
   ],
   "source": [
    "df['multiple_deliveries'].value_counts()"
   ]
  },
  {
   "cell_type": "code",
   "execution_count": 28,
   "metadata": {},
   "outputs": [
    {
     "name": "stdout",
     "output_type": "stream",
     "text": [
      "Value Count: 993\n"
     ]
    }
   ],
   "source": [
    "# fix 'NaN ' with np.nan\n",
    "df['multiple_deliveries'] = df['multiple_deliveries'].replace('NaN ', np.nan)\n",
    "print(f\"Value Count: {df['multiple_deliveries'].isnull().sum()}\")"
   ]
  },
  {
   "cell_type": "code",
   "execution_count": 29,
   "metadata": {},
   "outputs": [],
   "source": [
    "# fixing data type\n",
    "df['multiple_deliveries'] = df['multiple_deliveries'].astype('Int64')"
   ]
  },
  {
   "cell_type": "code",
   "execution_count": 30,
   "metadata": {},
   "outputs": [],
   "source": [
    "# as we dont have any clear explanation we'll convert 1,2,3 as 1 which means multiple deliveries\n",
    "# and 0 means single delivery \n",
    "df['multiple_deliveries'] = df['multiple_deliveries'].apply(lambda x : x if x == 0 or np.isnan(x) else 1)"
   ]
  },
  {
   "cell_type": "code",
   "execution_count": 31,
   "metadata": {},
   "outputs": [
    {
     "data": {
      "text/plain": [
       "array([ 0.,  1., nan])"
      ]
     },
     "execution_count": 31,
     "metadata": {},
     "output_type": "execute_result"
    }
   ],
   "source": [
    "df['multiple_deliveries'].unique()"
   ]
  },
  {
   "cell_type": "code",
   "execution_count": 32,
   "metadata": {},
   "outputs": [
    {
     "data": {
      "text/plain": [
       "multiple_deliveries\n",
       "1.0    30505\n",
       "0.0    14095\n",
       "Name: count, dtype: int64"
      ]
     },
     "execution_count": 32,
     "metadata": {},
     "output_type": "execute_result"
    }
   ],
   "source": [
    "df['multiple_deliveries'].value_counts()"
   ]
  },
  {
   "cell_type": "code",
   "execution_count": 33,
   "metadata": {},
   "outputs": [
    {
     "data": {
      "text/plain": [
       "np.int64(993)"
      ]
     },
     "execution_count": 33,
     "metadata": {},
     "output_type": "execute_result"
    }
   ],
   "source": [
    "df['multiple_deliveries'].isna().sum()"
   ]
  },
  {
   "cell_type": "code",
   "execution_count": 34,
   "metadata": {},
   "outputs": [
    {
     "name": "stderr",
     "output_type": "stream",
     "text": [
      "C:\\Users\\lenovo\\AppData\\Local\\Temp\\ipykernel_30040\\1112967024.py:1: FutureWarning: A value is trying to be set on a copy of a DataFrame or Series through chained assignment using an inplace method.\n",
      "The behavior will change in pandas 3.0. This inplace method will never work because the intermediate object on which we are setting values always behaves as a copy.\n",
      "\n",
      "For example, when doing 'df[col].method(value, inplace=True)', try using 'df.method({col: value}, inplace=True)' or df[col] = df[col].method(value) instead, to perform the operation inplace on the original object.\n",
      "\n",
      "\n",
      "  df['multiple_deliveries'].fillna(value= 1, inplace=True)\n"
     ]
    }
   ],
   "source": [
    "df['multiple_deliveries'].fillna(value= 1, inplace=True)"
   ]
  },
  {
   "cell_type": "code",
   "execution_count": 35,
   "metadata": {},
   "outputs": [
    {
     "data": {
      "text/plain": [
       "multiple_deliveries\n",
       "1.0    31498\n",
       "0.0    14095\n",
       "Name: count, dtype: int64"
      ]
     },
     "execution_count": 35,
     "metadata": {},
     "output_type": "execute_result"
    }
   ],
   "source": [
    "df['multiple_deliveries'].value_counts()"
   ]
  },
  {
   "cell_type": "markdown",
   "metadata": {},
   "source": [
    "<font color = 'orange'>\n",
    "\n",
    "#### <b> Type_of_vehicle\n",
    "- handle extra space at suffix\n",
    "- change data type"
   ]
  },
  {
   "cell_type": "code",
   "execution_count": 36,
   "metadata": {},
   "outputs": [
    {
     "data": {
      "text/plain": [
       "array(['motorcycle ', 'scooter ', 'electric_scooter ', 'bicycle '],\n",
       "      dtype=object)"
      ]
     },
     "execution_count": 36,
     "metadata": {},
     "output_type": "execute_result"
    }
   ],
   "source": [
    "df['Type_of_vehicle'].unique()"
   ]
  },
  {
   "cell_type": "code",
   "execution_count": 37,
   "metadata": {},
   "outputs": [
    {
     "name": "stdout",
     "output_type": "stream",
     "text": [
      "Unique value: ['motorcycle' 'scooter' 'electric_scooter' 'bicycle']\n"
     ]
    }
   ],
   "source": [
    "# fix the extra space\n",
    "df['Type_of_vehicle'] = list(map(lambda x: x.strip(), df['Type_of_vehicle']))\n",
    "print(f\"Unique value: {df['Type_of_vehicle'].unique()}\")"
   ]
  },
  {
   "cell_type": "markdown",
   "metadata": {},
   "source": [
    "<font color = 'orange'>\n",
    "\n",
    "#### <b> Type_of_order\n",
    "- handle extra space at suffix\n",
    "- change data type"
   ]
  },
  {
   "cell_type": "code",
   "execution_count": 38,
   "metadata": {},
   "outputs": [
    {
     "data": {
      "text/plain": [
       "array(['Snack ', 'Drinks ', 'Buffet ', 'Meal '], dtype=object)"
      ]
     },
     "execution_count": 38,
     "metadata": {},
     "output_type": "execute_result"
    }
   ],
   "source": [
    "df['Type_of_order'].unique()"
   ]
  },
  {
   "cell_type": "code",
   "execution_count": 39,
   "metadata": {},
   "outputs": [
    {
     "name": "stdout",
     "output_type": "stream",
     "text": [
      "Unique value: ['Snack' 'Drinks' 'Buffet' 'Meal']\n"
     ]
    }
   ],
   "source": [
    "# fix the extra space\n",
    "df['Type_of_order'] = list(map(lambda x: x.strip(), df['Type_of_order']))\n",
    "print(f\"Unique value: {df['Type_of_order'].unique()}\")"
   ]
  },
  {
   "cell_type": "markdown",
   "metadata": {},
   "source": [
    "<font color = 'orange'>\n",
    "\n",
    "#### <b> Road_traffic_density\n",
    "- handle NaN\n",
    "- handle extra space at suffix\n",
    "- change data type"
   ]
  },
  {
   "cell_type": "code",
   "execution_count": 40,
   "metadata": {},
   "outputs": [
    {
     "data": {
      "text/plain": [
       "array(['High ', 'Jam ', 'Low ', 'Medium ', 'NaN '], dtype=object)"
      ]
     },
     "execution_count": 40,
     "metadata": {},
     "output_type": "execute_result"
    }
   ],
   "source": [
    "df['Road_traffic_density'].unique()"
   ]
  },
  {
   "cell_type": "code",
   "execution_count": 41,
   "metadata": {},
   "outputs": [
    {
     "data": {
      "text/plain": [
       "Road_traffic_density\n",
       "Low        15477\n",
       "Jam        14143\n",
       "Medium     10947\n",
       "High        4425\n",
       "NaN          601\n",
       "Name: count, dtype: int64"
      ]
     },
     "execution_count": 41,
     "metadata": {},
     "output_type": "execute_result"
    }
   ],
   "source": [
    "df['Road_traffic_density'].value_counts()"
   ]
  },
  {
   "cell_type": "code",
   "execution_count": 42,
   "metadata": {},
   "outputs": [
    {
     "name": "stdout",
     "output_type": "stream",
     "text": [
      "Unique value: ['High' 'Jam' 'Low' 'Medium' 'NaN']\n",
      "Value Count: 601\n"
     ]
    }
   ],
   "source": [
    "# fix the extra space\n",
    "df['Road_traffic_density'] = list(map(lambda x: x.strip(), df['Road_traffic_density']))\n",
    "print(f\"Unique value: {df['Road_traffic_density'].unique()}\")\n",
    "\n",
    "# fix 'NaN' with np.nan\n",
    "df['Road_traffic_density'] = df['Road_traffic_density'].replace('NaN', np.nan)\n",
    "print(f\"Value Count: {df['Road_traffic_density'].isnull().sum()}\")"
   ]
  },
  {
   "cell_type": "code",
   "execution_count": 43,
   "metadata": {},
   "outputs": [],
   "source": [
    "df['Road_traffic_density'] = df['Road_traffic_density'].fillna(value='Low')"
   ]
  },
  {
   "cell_type": "code",
   "execution_count": 44,
   "metadata": {},
   "outputs": [
    {
     "data": {
      "text/plain": [
       "Road_traffic_density\n",
       "Low       16078\n",
       "Jam       14143\n",
       "Medium    10947\n",
       "High       4425\n",
       "Name: count, dtype: int64"
      ]
     },
     "execution_count": 44,
     "metadata": {},
     "output_type": "execute_result"
    }
   ],
   "source": [
    "df['Road_traffic_density'].value_counts()"
   ]
  },
  {
   "cell_type": "markdown",
   "metadata": {},
   "source": [
    "<font color = 'orange'>\n",
    "\n",
    "#### <b> Delivery_person_Rattings\n",
    "- handle NaN\n",
    "- change data type"
   ]
  },
  {
   "cell_type": "code",
   "execution_count": 45,
   "metadata": {},
   "outputs": [
    {
     "data": {
      "text/plain": [
       "array(['4.9', '4.5', '4.4', '4.7', '4.6', '4.8', '4.2', '4.3', '4', '4.1',\n",
       "       '5', '3.5', 'NaN ', '3.8', '3.9', '3.7', '2.6', '2.5', '3.6',\n",
       "       '3.1', '2.7', '1', '3.2', '3.3', '6', '3.4', '2.8', '2.9', '3'],\n",
       "      dtype=object)"
      ]
     },
     "execution_count": 45,
     "metadata": {},
     "output_type": "execute_result"
    }
   ],
   "source": [
    "df['Delivery_person_Ratings'].unique()"
   ]
  },
  {
   "cell_type": "code",
   "execution_count": 46,
   "metadata": {},
   "outputs": [
    {
     "data": {
      "text/plain": [
       "1908"
      ]
     },
     "execution_count": 46,
     "metadata": {},
     "output_type": "execute_result"
    }
   ],
   "source": [
    "df[df['Delivery_person_Ratings'] == 'NaN '].shape[0]"
   ]
  },
  {
   "cell_type": "code",
   "execution_count": 47,
   "metadata": {},
   "outputs": [],
   "source": [
    "# fixing data type\n",
    "df['Delivery_person_Ratings'] = df['Delivery_person_Ratings'].astype('float')"
   ]
  },
  {
   "cell_type": "code",
   "execution_count": 48,
   "metadata": {},
   "outputs": [
    {
     "data": {
      "text/plain": [
       "np.int64(1908)"
      ]
     },
     "execution_count": 48,
     "metadata": {},
     "output_type": "execute_result"
    }
   ],
   "source": [
    "df['Delivery_person_Ratings'].isna().sum()"
   ]
  },
  {
   "cell_type": "code",
   "execution_count": 49,
   "metadata": {},
   "outputs": [
    {
     "name": "stdout",
     "output_type": "stream",
     "text": [
      "Min: 1.0       \n",
      "Max: 6.0       \n",
      "Mean: 4.633780473846858       \n",
      "Median: 4.7\n"
     ]
    }
   ],
   "source": [
    "print(f\"Min: {df['Delivery_person_Ratings'].min()} \\\n",
    "      \\nMax: {df['Delivery_person_Ratings'].max()} \\\n",
    "      \\nMean: {df['Delivery_person_Ratings'].mean()} \\\n",
    "      \\nMedian: {df['Delivery_person_Ratings'].median()}\")"
   ]
  },
  {
   "cell_type": "code",
   "execution_count": 50,
   "metadata": {},
   "outputs": [
    {
     "data": {
      "text/plain": [
       "20"
      ]
     },
     "execution_count": 50,
     "metadata": {},
     "output_type": "execute_result"
    }
   ],
   "source": [
    "df[df['Delivery_person_Ratings'] > 5].shape[1]"
   ]
  },
  {
   "cell_type": "code",
   "execution_count": 51,
   "metadata": {},
   "outputs": [
    {
     "data": {
      "text/plain": [
       "[]"
      ]
     },
     "execution_count": 51,
     "metadata": {},
     "output_type": "execute_result"
    },
    {
     "data": {
      "image/png": "[encoded data removed]",
      "text/plain": [
       "<Figure size 600x300 with 1 Axes>"
      ]
     },
     "metadata": {},
     "output_type": "display_data"
    }
   ],
   "source": [
    "# box plot\n",
    "plt.figure(figsize=(6, 3))\n",
    "sns.boxplot(df, x=df[\"Delivery_person_Ratings\"].astype(\"float\"), fill=False)\n",
    "plt.plot()"
   ]
  },
  {
   "cell_type": "code",
   "execution_count": 52,
   "metadata": {},
   "outputs": [
    {
     "data": {
      "image/png": "[encoded data removed]",
      "text/plain": [
       "<Figure size 640x480 with 1 Axes>"
      ]
     },
     "metadata": {},
     "output_type": "display_data"
    }
   ],
   "source": [
    "sns.kdeplot(df['Delivery_person_Ratings'])\n",
    "plt.show()"
   ]
  },
  {
   "cell_type": "code",
   "execution_count": 53,
   "metadata": {},
   "outputs": [],
   "source": [
    "# replace 6 ratting with median\n",
    "df['Delivery_person_Ratings'] = df['Delivery_person_Ratings'].replace(6, 4.7)"
   ]
  },
  {
   "cell_type": "markdown",
   "metadata": {},
   "source": [
    "<font color = 'orange'>\n",
    "\n",
    "#### <b> Delivery_person_Age\n",
    "- handle NaN\n",
    "- change data type"
   ]
  },
  {
   "cell_type": "code",
   "execution_count": 55,
   "metadata": {},
   "outputs": [
    {
     "data": {
      "text/plain": [
       "array(['37', '34', '23', '38', '32', '22', '33', '35', '36', '21', '24',\n",
       "       '29', '25', '31', '27', '26', '20', 'NaN ', '28', '39', '30', '15',\n",
       "       '50'], dtype=object)"
      ]
     },
     "execution_count": 55,
     "metadata": {},
     "output_type": "execute_result"
    }
   ],
   "source": [
    "df['Delivery_person_Age'].unique()"
   ]
  },
  {
   "cell_type": "code",
   "execution_count": 56,
   "metadata": {},
   "outputs": [
    {
     "data": {
      "text/plain": [
       "1854"
      ]
     },
     "execution_count": 56,
     "metadata": {},
     "output_type": "execute_result"
    }
   ],
   "source": [
    "# 'NaN ' is present in Delivery_person_Age column - 1854\n",
    "df[df['Delivery_person_Age'] == 'NaN '].shape[0]"
   ]
  },
  {
   "cell_type": "code",
   "execution_count": 57,
   "metadata": {},
   "outputs": [],
   "source": [
    "# fixing NaN\n",
    "df['Delivery_person_Age'] = df['Delivery_person_Age'].replace('NaN ', np.nan)\n",
    "\n",
    "# fixing data type\n",
    "df['Delivery_person_Age'] = df['Delivery_person_Age'].astype('Int64')"
   ]
  },
  {
   "cell_type": "code",
   "execution_count": 58,
   "metadata": {},
   "outputs": [
    {
     "data": {
      "text/plain": [
       "np.int64(1854)"
      ]
     },
     "execution_count": 58,
     "metadata": {},
     "output_type": "execute_result"
    }
   ],
   "source": [
    "df['Delivery_person_Age'].isnull().sum()"
   ]
  },
  {
   "cell_type": "code",
   "execution_count": 59,
   "metadata": {},
   "outputs": [
    {
     "name": "stdout",
     "output_type": "stream",
     "text": [
      "Min: 15       \n",
      "Max: 50       \n",
      "Mean: 29.567136880129862       \n",
      "Median: 30.0\n"
     ]
    }
   ],
   "source": [
    "print(f\"Min: {df['Delivery_person_Age'].min()} \\\n",
    "      \\nMax: {df['Delivery_person_Age'].max()} \\\n",
    "      \\nMean: {df['Delivery_person_Age'].mean()} \\\n",
    "      \\nMedian: {df['Delivery_person_Age'].median()}\")"
   ]
  },
  {
   "cell_type": "code",
   "execution_count": 60,
   "metadata": {},
   "outputs": [
    {
     "data": {
      "text/plain": [
       "[]"
      ]
     },
     "execution_count": 60,
     "metadata": {},
     "output_type": "execute_result"
    },
    {
     "data": {
      "image/png": "[encoded data removed]",
      "text/plain": [
       "<Figure size 600x300 with 1 Axes>"
      ]
     },
     "metadata": {},
     "output_type": "display_data"
    }
   ],
   "source": [
    "# box plot\n",
    "plt.figure(figsize=(6, 3))\n",
    "sns.boxplot(df, x=df[\"Delivery_person_Age\"], fill=False)\n",
    "plt.plot()"
   ]
  },
  {
   "cell_type": "markdown",
   "metadata": {},
   "source": [
    "<font color = 'orange'>\n",
    "\n",
    "#### <b> Weatherconditions\n",
    "- handle Nan\n",
    "- change data type"
   ]
  },
  {
   "cell_type": "code",
   "execution_count": 61,
   "metadata": {},
   "outputs": [
    {
     "data": {
      "text/plain": [
       "array(['conditions Sunny', 'conditions Stormy', 'conditions Sandstorms',\n",
       "       'conditions Cloudy', 'conditions Fog', 'conditions Windy',\n",
       "       'conditions NaN'], dtype=object)"
      ]
     },
     "execution_count": 61,
     "metadata": {},
     "output_type": "execute_result"
    }
   ],
   "source": [
    "df['Weatherconditions'].unique()"
   ]
  },
  {
   "cell_type": "code",
   "execution_count": 62,
   "metadata": {},
   "outputs": [
    {
     "data": {
      "text/plain": [
       "Weatherconditions\n",
       "conditions Fog           7654\n",
       "conditions Stormy        7586\n",
       "conditions Cloudy        7536\n",
       "conditions Sandstorms    7495\n",
       "conditions Windy         7422\n",
       "conditions Sunny         7284\n",
       "conditions NaN            616\n",
       "Name: count, dtype: int64"
      ]
     },
     "execution_count": 62,
     "metadata": {},
     "output_type": "execute_result"
    }
   ],
   "source": [
    "df['Weatherconditions'].value_counts()"
   ]
  },
  {
   "cell_type": "code",
   "execution_count": 63,
   "metadata": {},
   "outputs": [
    {
     "data": {
      "text/plain": [
       "np.int64(0)"
      ]
     },
     "execution_count": 63,
     "metadata": {},
     "output_type": "execute_result"
    }
   ],
   "source": [
    "df['Weatherconditions'].isnull().sum()"
   ]
  },
  {
   "cell_type": "code",
   "execution_count": 64,
   "metadata": {},
   "outputs": [],
   "source": [
    "# fixing category names\n",
    "df['Weatherconditions'] = df['Weatherconditions'].apply(lambda x: x.split(' ')[-1])\n",
    "\n",
    "# fixing NaN\n",
    "df['Weatherconditions'] = df['Weatherconditions'].replace('conditions NaN', np.nan)"
   ]
  },
  {
   "cell_type": "code",
   "execution_count": 65,
   "metadata": {},
   "outputs": [
    {
     "data": {
      "text/plain": [
       "ID                                0\n",
       "Delivery_person_ID                0\n",
       "Delivery_person_Age            1854\n",
       "Delivery_person_Ratings        1908\n",
       "Restaurant_latitude               0\n",
       "Restaurant_longitude              0\n",
       "Delivery_location_latitude        0\n",
       "Delivery_location_longitude       0\n",
       "Order_Date                        0\n",
       "Time_Orderd                       0\n",
       "Time_Order_picked                 0\n",
       "Weatherconditions                 0\n",
       "Road_traffic_density              0\n",
       "Vehicle_condition                 0\n",
       "Type_of_order                     0\n",
       "Type_of_vehicle                   0\n",
       "multiple_deliveries               0\n",
       "Festival                          0\n",
       "City                              0\n",
       "Time_taken(min)                   0\n",
       "dtype: int64"
      ]
     },
     "execution_count": 65,
     "metadata": {},
     "output_type": "execute_result"
    }
   ],
   "source": [
    "df.isnull().sum()"
   ]
  },
  {
   "cell_type": "code",
   "execution_count": 66,
   "metadata": {},
   "outputs": [
    {
     "data": {
      "text/plain": [
       "ID                             0.00\n",
       "Delivery_person_ID             0.00\n",
       "Delivery_person_Age            4.07\n",
       "Delivery_person_Ratings        4.18\n",
       "Restaurant_latitude            0.00\n",
       "Restaurant_longitude           0.00\n",
       "Delivery_location_latitude     0.00\n",
       "Delivery_location_longitude    0.00\n",
       "Order_Date                     0.00\n",
       "Time_Orderd                    0.00\n",
       "Time_Order_picked              0.00\n",
       "Weatherconditions              0.00\n",
       "Road_traffic_density           0.00\n",
       "Vehicle_condition              0.00\n",
       "Type_of_order                  0.00\n",
       "Type_of_vehicle                0.00\n",
       "multiple_deliveries            0.00\n",
       "Festival                       0.00\n",
       "City                           0.00\n",
       "Time_taken(min)                0.00\n",
       "dtype: float64"
      ]
     },
     "execution_count": 66,
     "metadata": {},
     "output_type": "execute_result"
    }
   ],
   "source": [
    "# % of NaN values\n",
    "round(df.isnull().mean() * 100, 2)"
   ]
  },
  {
   "cell_type": "code",
   "execution_count": 73,
   "metadata": {},
   "outputs": [
    {
     "data": {
      "text/plain": [
       "<Axes: >"
      ]
     },
     "execution_count": 73,
     "metadata": {},
     "output_type": "execute_result"
    },
    {
     "data": {
      "image/png": "[encoded data removed]",
      "text/plain": [
       "<Figure size 2500x1000 with 2 Axes>"
      ]
     },
     "metadata": {},
     "output_type": "display_data"
    }
   ],
   "source": [
    "# Delivery_person_Age & Delivery_person_Ratting seems very correlated columns\n",
    "%matplotlib inline\n",
    "missingno.matrix(df.loc[:,['Delivery_person_Age', 'Delivery_person_Ratings']], color=(1, 0.38, 0.27))"
   ]
  },
  {
   "cell_type": "code",
   "execution_count": 76,
   "metadata": {},
   "outputs": [
    {
     "data": {
      "text/plain": [
       "<Axes: >"
      ]
     },
     "execution_count": 76,
     "metadata": {},
     "output_type": "execute_result"
    },
    {
     "data": {
      "image/png": "[encoded data removed]",
      "text/plain": [
       "<Figure size 400x400 with 2 Axes>"
      ]
     },
     "metadata": {},
     "output_type": "display_data"
    }
   ],
   "source": [
    "missingno.heatmap(df, cmap='PiYG', figsize=(4,4))"
   ]
  },
  {
   "cell_type": "code",
   "execution_count": null,
   "metadata": {},
   "outputs": [],
   "source": [
    "# check for relationship b/w Delivery_person_Age & Delivery_person_Ratting"
   ]
  },
  {
   "cell_type": "code",
   "execution_count": null,
   "metadata": {},
   "outputs": [],
   "source": []
  },
  {
   "cell_type": "code",
   "execution_count": null,
   "metadata": {},
   "outputs": [],
   "source": []
  },
  {
   "cell_type": "markdown",
   "metadata": {},
   "source": [
    "# Feature Engineering\n",
    "\n",
    "\"restaurant - delivery location\" latitude & longitude\n",
    "- Euclidean dist\n",
    "- haversine dist\n",
    "- manhattan dist\n",
    "- estimate delivery time (assume 30 kmph)\n",
    "\n",
    "time ordered & time order picked\n",
    "- time lag\n",
    "- ordered picked time ratio\n",
    "\n",
    "order date\n",
    "- hour\n",
    "- day of week\n",
    "- month\n",
    "- quarter\n",
    "- year"
   ]
  },
  {
   "cell_type": "code",
   "execution_count": null,
   "metadata": {},
   "outputs": [],
   "source": []
  },
  {
   "cell_type": "code",
   "execution_count": null,
   "metadata": {},
   "outputs": [],
   "source": []
  },
  {
   "cell_type": "code",
   "execution_count": null,
   "metadata": {},
   "outputs": [],
   "source": []
  },
  {
   "cell_type": "code",
   "execution_count": null,
   "metadata": {},
   "outputs": [],
   "source": []
  },
  {
   "cell_type": "code",
   "execution_count": null,
   "metadata": {},
   "outputs": [],
   "source": []
  },
  {
   "cell_type": "code",
   "execution_count": null,
   "metadata": {},
   "outputs": [],
   "source": []
  }
 ],
 "metadata": {
  "kernelspec": {
   "display_name": "venv",
   "language": "python",
   "name": "python3"
  },
  "language_info": {
   "codemirror_mode": {
    "name": "ipython",
    "version": 3
   },
   "file_extension": ".py",
   "mimetype": "text/x-python",
   "name": "python",
   "nbconvert_exporter": "python",
   "pygments_lexer": "ipython3",
   "version": "3.9.2"
  }
 },
 "nbformat": 4,
 "nbformat_minor": 2
}
