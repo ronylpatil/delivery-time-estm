{
 "cells": [
  {
   "cell_type": "code",
   "execution_count": 160,
   "metadata": {},
   "outputs": [],
   "source": [
    "import pathlib\n",
    "import pandas as pd\n",
    "import numpy as np"
   ]
  },
  {
   "cell_type": "code",
   "execution_count": 161,
   "metadata": {},
   "outputs": [],
   "source": [
    "data_dir = pathlib.Path().absolute().parent.as_posix() + '/data/raw/train.csv'\n",
    "\n",
    "df = pd.read_csv(data_dir)"
   ]
  },
  {
   "cell_type": "code",
   "execution_count": 162,
   "metadata": {},
   "outputs": [
    {
     "data": {
      "text/html": [
       "<div>\n",
       "<style scoped>\n",
       "    .dataframe tbody tr th:only-of-type {\n",
       "        vertical-align: middle;\n",
       "    }\n",
       "\n",
       "    .dataframe tbody tr th {\n",
       "        vertical-align: top;\n",
       "    }\n",
       "\n",
       "    .dataframe thead th {\n",
       "        text-align: right;\n",
       "    }\n",
       "</style>\n",
       "<table border=\"1\" class=\"dataframe\">\n",
       "  <thead>\n",
       "    <tr style=\"text-align: right;\">\n",
       "      <th></th>\n",
       "      <th>ID</th>\n",
       "      <th>Delivery_person_ID</th>\n",
       "      <th>Delivery_person_Age</th>\n",
       "      <th>Delivery_person_Ratings</th>\n",
       "      <th>Restaurant_latitude</th>\n",
       "      <th>Restaurant_longitude</th>\n",
       "      <th>Delivery_location_latitude</th>\n",
       "      <th>Delivery_location_longitude</th>\n",
       "      <th>Order_Date</th>\n",
       "      <th>Time_Orderd</th>\n",
       "      <th>Time_Order_picked</th>\n",
       "      <th>Weatherconditions</th>\n",
       "      <th>Road_traffic_density</th>\n",
       "      <th>Vehicle_condition</th>\n",
       "      <th>Type_of_order</th>\n",
       "      <th>Type_of_vehicle</th>\n",
       "      <th>multiple_deliveries</th>\n",
       "      <th>Festival</th>\n",
       "      <th>City</th>\n",
       "      <th>Time_taken(min)</th>\n",
       "    </tr>\n",
       "  </thead>\n",
       "  <tbody>\n",
       "    <tr>\n",
       "      <th>33352</th>\n",
       "      <td>0xad6b</td>\n",
       "      <td>BANGRES16DEL02</td>\n",
       "      <td>30</td>\n",
       "      <td>5</td>\n",
       "      <td>13.029198</td>\n",
       "      <td>77.570997</td>\n",
       "      <td>13.159198</td>\n",
       "      <td>77.700997</td>\n",
       "      <td>04-03-2022</td>\n",
       "      <td>19:15:00</td>\n",
       "      <td>19:20:00</td>\n",
       "      <td>conditions Stormy</td>\n",
       "      <td>Jam</td>\n",
       "      <td>0</td>\n",
       "      <td>Meal</td>\n",
       "      <td>motorcycle</td>\n",
       "      <td>1</td>\n",
       "      <td>No</td>\n",
       "      <td>Metropolitian</td>\n",
       "      <td>(min) 37</td>\n",
       "    </tr>\n",
       "    <tr>\n",
       "      <th>3199</th>\n",
       "      <td>0xd81f</td>\n",
       "      <td>AURGRES11DEL01</td>\n",
       "      <td>38</td>\n",
       "      <td>5</td>\n",
       "      <td>0.000000</td>\n",
       "      <td>0.000000</td>\n",
       "      <td>0.010000</td>\n",
       "      <td>0.010000</td>\n",
       "      <td>15-02-2022</td>\n",
       "      <td>09:00:00</td>\n",
       "      <td>09:10:00</td>\n",
       "      <td>conditions Windy</td>\n",
       "      <td>Low</td>\n",
       "      <td>1</td>\n",
       "      <td>Snack</td>\n",
       "      <td>motorcycle</td>\n",
       "      <td>1</td>\n",
       "      <td>No</td>\n",
       "      <td>Metropolitian</td>\n",
       "      <td>(min) 21</td>\n",
       "    </tr>\n",
       "    <tr>\n",
       "      <th>5444</th>\n",
       "      <td>0x8c08</td>\n",
       "      <td>VADRES18DEL02</td>\n",
       "      <td>21</td>\n",
       "      <td>4.3</td>\n",
       "      <td>0.000000</td>\n",
       "      <td>0.000000</td>\n",
       "      <td>0.020000</td>\n",
       "      <td>0.020000</td>\n",
       "      <td>26-03-2022</td>\n",
       "      <td>11:10:00</td>\n",
       "      <td>11:25:00</td>\n",
       "      <td>conditions Fog</td>\n",
       "      <td>High</td>\n",
       "      <td>1</td>\n",
       "      <td>Meal</td>\n",
       "      <td>motorcycle</td>\n",
       "      <td>1</td>\n",
       "      <td>No</td>\n",
       "      <td>Metropolitian</td>\n",
       "      <td>(min) 33</td>\n",
       "    </tr>\n",
       "  </tbody>\n",
       "</table>\n",
       "</div>"
      ],
      "text/plain": [
       "            ID Delivery_person_ID Delivery_person_Age Delivery_person_Ratings  \\\n",
       "33352  0xad6b     BANGRES16DEL02                   30                       5   \n",
       "3199   0xd81f     AURGRES11DEL01                   38                       5   \n",
       "5444   0x8c08      VADRES18DEL02                   21                     4.3   \n",
       "\n",
       "       Restaurant_latitude  Restaurant_longitude  Delivery_location_latitude  \\\n",
       "33352            13.029198             77.570997                   13.159198   \n",
       "3199              0.000000              0.000000                    0.010000   \n",
       "5444              0.000000              0.000000                    0.020000   \n",
       "\n",
       "       Delivery_location_longitude  Order_Date Time_Orderd Time_Order_picked  \\\n",
       "33352                    77.700997  04-03-2022    19:15:00          19:20:00   \n",
       "3199                      0.010000  15-02-2022    09:00:00          09:10:00   \n",
       "5444                      0.020000  26-03-2022    11:10:00          11:25:00   \n",
       "\n",
       "       Weatherconditions Road_traffic_density  Vehicle_condition  \\\n",
       "33352  conditions Stormy                 Jam                   0   \n",
       "3199    conditions Windy                 Low                   1   \n",
       "5444      conditions Fog                High                   1   \n",
       "\n",
       "      Type_of_order Type_of_vehicle multiple_deliveries Festival  \\\n",
       "33352         Meal      motorcycle                    1      No    \n",
       "3199         Snack      motorcycle                    1      No    \n",
       "5444          Meal      motorcycle                    1      No    \n",
       "\n",
       "                 City Time_taken(min)  \n",
       "33352  Metropolitian         (min) 37  \n",
       "3199   Metropolitian         (min) 21  \n",
       "5444   Metropolitian         (min) 33  "
      ]
     },
     "execution_count": 162,
     "metadata": {},
     "output_type": "execute_result"
    }
   ],
   "source": [
    "df.sample(3)"
   ]
  },
  {
   "cell_type": "code",
   "execution_count": 163,
   "metadata": {},
   "outputs": [
    {
     "data": {
      "text/plain": [
       "(45593, 20)"
      ]
     },
     "execution_count": 163,
     "metadata": {},
     "output_type": "execute_result"
    }
   ],
   "source": [
    "df.shape"
   ]
  },
  {
   "cell_type": "code",
   "execution_count": 164,
   "metadata": {},
   "outputs": [],
   "source": [
    "# drop ID & Delivery_pperson_id"
   ]
  },
  {
   "cell_type": "markdown",
   "metadata": {},
   "source": [
    "<font color = 'orange'>\n",
    "\n",
    "#### <b> City\n",
    "- handle NaN values\n",
    "- handle extra space at suffix\n",
    "- change data type"
   ]
  },
  {
   "cell_type": "code",
   "execution_count": 165,
   "metadata": {},
   "outputs": [
    {
     "name": "stdout",
     "output_type": "stream",
     "text": [
      "Unique Valeus: ['Urban ' 'Metropolitian ' 'Semi-Urban ' 'NaN '] \n",
      "\n",
      "NaN Count: 1200 \n",
      "\n",
      "Value Count: City\n",
      "Metropolitian     34093\n",
      "Urban             10136\n",
      "NaN                1200\n",
      "Semi-Urban          164\n",
      "Name: count, dtype: int64\n"
     ]
    }
   ],
   "source": [
    "print(f\"Unique Valeus: {df['City'].unique()} \\n\\nNaN Count: {df[df['City'] == 'NaN '].shape[0]} \\n\\nValue Count: {df['City'].value_counts()}\")"
   ]
  },
  {
   "cell_type": "code",
   "execution_count": 166,
   "metadata": {},
   "outputs": [
    {
     "data": {
      "text/plain": [
       "array(['Urban', 'Metropolitian', 'Semi-Urban', 'NaN'], dtype=object)"
      ]
     },
     "execution_count": 166,
     "metadata": {},
     "output_type": "execute_result"
    }
   ],
   "source": [
    "# fix extra spaces\n",
    "df['City'] = list(map(lambda x: x.strip(), df['City']))\n",
    "\n",
    "df['City'].unique()"
   ]
  },
  {
   "cell_type": "code",
   "execution_count": 167,
   "metadata": {},
   "outputs": [],
   "source": [
    "# fix 'NaN' with np.nan\n",
    "df['City'] = df['City'].replace('NaN', np.nan)"
   ]
  },
  {
   "cell_type": "code",
   "execution_count": 168,
   "metadata": {},
   "outputs": [
    {
     "data": {
      "text/plain": [
       "np.int64(1200)"
      ]
     },
     "execution_count": 168,
     "metadata": {},
     "output_type": "execute_result"
    }
   ],
   "source": [
    "df['City'].isnull().sum()"
   ]
  },
  {
   "cell_type": "markdown",
   "metadata": {},
   "source": [
    "<font color = 'orange'>\n",
    "\n",
    "#### <b> Festival\n",
    "- handle NaN\n",
    "- handle extra space at suffix\n",
    "- change data type"
   ]
  },
  {
   "cell_type": "code",
   "execution_count": 169,
   "metadata": {},
   "outputs": [
    {
     "name": "stdout",
     "output_type": "stream",
     "text": [
      "Unique Valeus: ['No ' 'Yes ' 'NaN '] \n",
      "\n",
      "NaN Count: 228 \n",
      "\n",
      "Value Count: Festival\n",
      "No      44469\n",
      "Yes       896\n",
      "NaN       228\n",
      "Name: count, dtype: int64\n"
     ]
    }
   ],
   "source": [
    "print(f\"Unique Valeus: {df['Festival'].unique()} \\n\\nNaN Count: {df[df['Festival'] == 'NaN '].shape[0]} \\n\\nValue Count: {df['Festival'].value_counts()}\")"
   ]
  },
  {
   "cell_type": "code",
   "execution_count": 170,
   "metadata": {},
   "outputs": [
    {
     "name": "stdout",
     "output_type": "stream",
     "text": [
      "Unique value: ['No' 'Yes' 'NaN']\n",
      "Value Count: 228\n"
     ]
    }
   ],
   "source": [
    "# fix the extra space\n",
    "df['Festival'] = list(map(lambda x: x.strip(), df['Festival']))\n",
    "print(f\"Unique value: {df['Festival'].unique()}\")\n",
    "\n",
    "# fix 'NaN' with np.nan\n",
    "df['Festival'] = df['Festival'].replace('NaN', np.nan)\n",
    "print(f\"Value Count: {df['Festival'].isnull().sum()}\")"
   ]
  },
  {
   "cell_type": "markdown",
   "metadata": {},
   "source": [
    "<font color = 'orange'>\n",
    "\n",
    "#### <b> multiple_deliveries\n",
    "- handle NaN\n",
    "- change data type"
   ]
  },
  {
   "cell_type": "code",
   "execution_count": 171,
   "metadata": {},
   "outputs": [
    {
     "data": {
      "text/plain": [
       "array(['0', '1', '3', 'NaN ', '2'], dtype=object)"
      ]
     },
     "execution_count": 171,
     "metadata": {},
     "output_type": "execute_result"
    }
   ],
   "source": [
    "df['multiple_deliveries'].unique()"
   ]
  },
  {
   "cell_type": "code",
   "execution_count": 172,
   "metadata": {},
   "outputs": [],
   "source": [
    "# as we dont have any clear explanation we'll convert 1,2,3 as 1 which means multiple deliveries\n",
    "# and 0 means single delivery"
   ]
  },
  {
   "cell_type": "code",
   "execution_count": 173,
   "metadata": {},
   "outputs": [
    {
     "data": {
      "text/plain": [
       "multiple_deliveries\n",
       "1       28159\n",
       "0       14095\n",
       "2        1985\n",
       "NaN       993\n",
       "3         361\n",
       "Name: count, dtype: int64"
      ]
     },
     "execution_count": 173,
     "metadata": {},
     "output_type": "execute_result"
    }
   ],
   "source": [
    "df['multiple_deliveries'].value_counts()"
   ]
  },
  {
   "cell_type": "code",
   "execution_count": 174,
   "metadata": {},
   "outputs": [
    {
     "name": "stdout",
     "output_type": "stream",
     "text": [
      "Value Count: 993\n"
     ]
    }
   ],
   "source": [
    "# fix 'NaN ' with np.nan\n",
    "df['multiple_deliveries'] = df['multiple_deliveries'].replace('NaN ', np.nan)\n",
    "print(f\"Value Count: {df['multiple_deliveries'].isnull().sum()}\")"
   ]
  },
  {
   "cell_type": "code",
   "execution_count": 175,
   "metadata": {},
   "outputs": [],
   "source": [
    "df['multiple_deliveries'] = df['multiple_deliveries'].astype('Int64')"
   ]
  },
  {
   "cell_type": "code",
   "execution_count": 177,
   "metadata": {},
   "outputs": [
    {
     "data": {
      "text/plain": [
       "np.int64(993)"
      ]
     },
     "execution_count": 177,
     "metadata": {},
     "output_type": "execute_result"
    }
   ],
   "source": [
    "df['multiple_deliveries'].isna().sum()"
   ]
  },
  {
   "cell_type": "code",
   "execution_count": null,
   "metadata": {},
   "outputs": [],
   "source": [
    "# first fill nan then we can fixes multiple category"
   ]
  },
  {
   "cell_type": "code",
   "execution_count": 146,
   "metadata": {},
   "outputs": [
    {
     "data": {
      "text/plain": [
       "[0, 1, 1, 1, 1]"
      ]
     },
     "execution_count": 146,
     "metadata": {},
     "output_type": "execute_result"
    }
   ],
   "source": [
    "x = [0,1,2,3,4]\n",
    "\n",
    "list(map(lambda x: 1 if x > 0 else x, x))"
   ]
  },
  {
   "cell_type": "markdown",
   "metadata": {},
   "source": [
    "<font color = 'orange'>\n",
    "\n",
    "#### <b> Type_of_vehicle\n",
    "- handle extra space at suffix\n",
    "- change data type"
   ]
  },
  {
   "cell_type": "code",
   "execution_count": 56,
   "metadata": {},
   "outputs": [
    {
     "data": {
      "text/plain": [
       "array(['motorcycle ', 'scooter ', 'electric_scooter ', 'bicycle '],\n",
       "      dtype=object)"
      ]
     },
     "execution_count": 56,
     "metadata": {},
     "output_type": "execute_result"
    }
   ],
   "source": [
    "df['Type_of_vehicle'].unique()"
   ]
  },
  {
   "cell_type": "code",
   "execution_count": 179,
   "metadata": {},
   "outputs": [
    {
     "name": "stdout",
     "output_type": "stream",
     "text": [
      "Unique value: ['motorcycle' 'scooter' 'electric_scooter' 'bicycle']\n"
     ]
    }
   ],
   "source": [
    "# fix the extra space\n",
    "df['Type_of_vehicle'] = list(map(lambda x: x.strip(), df['Type_of_vehicle']))\n",
    "print(f\"Unique value: {df['Type_of_vehicle'].unique()}\")"
   ]
  },
  {
   "cell_type": "markdown",
   "metadata": {},
   "source": [
    "<font color = 'orange'>\n",
    "\n",
    "#### <b> Type_of_order\n",
    "- handle extra space at suffix\n",
    "- change data type"
   ]
  },
  {
   "cell_type": "code",
   "execution_count": 53,
   "metadata": {},
   "outputs": [
    {
     "data": {
      "text/plain": [
       "array(['Snack ', 'Drinks ', 'Buffet ', 'Meal '], dtype=object)"
      ]
     },
     "execution_count": 53,
     "metadata": {},
     "output_type": "execute_result"
    }
   ],
   "source": [
    "df['Type_of_order'].unique()"
   ]
  },
  {
   "cell_type": "code",
   "execution_count": 180,
   "metadata": {},
   "outputs": [
    {
     "name": "stdout",
     "output_type": "stream",
     "text": [
      "Unique value: ['Snack' 'Drinks' 'Buffet' 'Meal']\n"
     ]
    }
   ],
   "source": [
    "# fix the extra space\n",
    "df['Type_of_order'] = list(map(lambda x: x.strip(), df['Type_of_order']))\n",
    "print(f\"Unique value: {df['Type_of_order'].unique()}\")"
   ]
  },
  {
   "cell_type": "markdown",
   "metadata": {},
   "source": [
    "<font color = 'orange'>\n",
    "\n",
    "#### <b> Road_traffic_density\n",
    "- handle NaN\n",
    "- handle extra space at suffix\n",
    "- change data type"
   ]
  },
  {
   "cell_type": "code",
   "execution_count": 49,
   "metadata": {},
   "outputs": [
    {
     "data": {
      "text/plain": [
       "array(['High ', 'Jam ', 'Low ', 'Medium ', 'NaN '], dtype=object)"
      ]
     },
     "execution_count": 49,
     "metadata": {},
     "output_type": "execute_result"
    }
   ],
   "source": [
    "df['Road_traffic_density'].unique()"
   ]
  },
  {
   "cell_type": "code",
   "execution_count": 75,
   "metadata": {},
   "outputs": [
    {
     "data": {
      "text/plain": [
       "Road_traffic_density\n",
       "Low        15477\n",
       "Jam        14143\n",
       "Medium     10947\n",
       "High        4425\n",
       "NaN          601\n",
       "Name: count, dtype: int64"
      ]
     },
     "execution_count": 75,
     "metadata": {},
     "output_type": "execute_result"
    }
   ],
   "source": [
    "df['Road_traffic_density'].value_counts()"
   ]
  },
  {
   "cell_type": "code",
   "execution_count": 181,
   "metadata": {},
   "outputs": [
    {
     "name": "stdout",
     "output_type": "stream",
     "text": [
      "Unique value: ['High' 'Jam' 'Low' 'Medium' 'NaN']\n",
      "Value Count: 601\n"
     ]
    }
   ],
   "source": [
    "# fix the extra space\n",
    "df['Road_traffic_density'] = list(map(lambda x: x.strip(), df['Road_traffic_density']))\n",
    "print(f\"Unique value: {df['Road_traffic_density'].unique()}\")\n",
    "\n",
    "# fix 'NaN' with np.nan\n",
    "df['Road_traffic_density'] = df['Road_traffic_density'].replace('NaN', np.nan)\n",
    "print(f\"Value Count: {df['Road_traffic_density'].isnull().sum()}\")"
   ]
  },
  {
   "cell_type": "markdown",
   "metadata": {},
   "source": [
    "<font color = 'orange'>\n",
    "\n",
    "#### <b> Delivery_person_Rattings\n",
    "- handle NaN\n",
    "- change data type"
   ]
  },
  {
   "cell_type": "code",
   "execution_count": 42,
   "metadata": {},
   "outputs": [
    {
     "data": {
      "text/plain": [
       "array(['4.9', '4.5', '4.4', '4.7', '4.6', '4.8', '4.2', '4.3', '4', '4.1',\n",
       "       '5', '3.5', 'NaN ', '3.8', '3.9', '3.7', '2.6', '2.5', '3.6',\n",
       "       '3.1', '2.7', '1', '3.2', '3.3', '6', '3.4', '2.8', '2.9', '3'],\n",
       "      dtype=object)"
      ]
     },
     "execution_count": 42,
     "metadata": {},
     "output_type": "execute_result"
    }
   ],
   "source": [
    "df['Delivery_person_Ratings'].unique()"
   ]
  },
  {
   "cell_type": "code",
   "execution_count": 43,
   "metadata": {},
   "outputs": [
    {
     "data": {
      "text/plain": [
       "1908"
      ]
     },
     "execution_count": 43,
     "metadata": {},
     "output_type": "execute_result"
    }
   ],
   "source": [
    "df[df['Delivery_person_Ratings'] == 'NaN '].shape[0]"
   ]
  },
  {
   "cell_type": "code",
   "execution_count": 184,
   "metadata": {},
   "outputs": [],
   "source": [
    "# fixing data type\n",
    "df['Delivery_person_Ratings'] = df['Delivery_person_Ratings'].astype('float')"
   ]
  },
  {
   "cell_type": "code",
   "execution_count": 186,
   "metadata": {},
   "outputs": [
    {
     "data": {
      "text/plain": [
       "np.int64(1908)"
      ]
     },
     "execution_count": 186,
     "metadata": {},
     "output_type": "execute_result"
    }
   ],
   "source": [
    "df['Delivery_person_Ratings'].isna().sum()"
   ]
  },
  {
   "cell_type": "markdown",
   "metadata": {},
   "source": [
    "<font color = 'orange'>\n",
    "\n",
    "#### <b> Delivery_person_Age\n",
    "- handle NaN\n",
    "- change data type"
   ]
  },
  {
   "cell_type": "code",
   "execution_count": 26,
   "metadata": {},
   "outputs": [
    {
     "data": {
      "text/plain": [
       "array(['37', '34', '23', '38', '32', '22', '33', '35', '36', '21', '24',\n",
       "       '29', '25', '31', '27', '26', '20', 'NaN ', '28', '39', '30', '15',\n",
       "       '50'], dtype=object)"
      ]
     },
     "execution_count": 26,
     "metadata": {},
     "output_type": "execute_result"
    }
   ],
   "source": [
    "df['Delivery_person_Age'].unique()"
   ]
  },
  {
   "cell_type": "code",
   "execution_count": 35,
   "metadata": {},
   "outputs": [
    {
     "data": {
      "text/plain": [
       "1854"
      ]
     },
     "execution_count": 35,
     "metadata": {},
     "output_type": "execute_result"
    }
   ],
   "source": [
    "# 'NaN ' is present in Delivery_person_Age column - 1854\n",
    "df[df['Delivery_person_Age'] == 'NaN '].shape[0]"
   ]
  },
  {
   "cell_type": "code",
   "execution_count": 188,
   "metadata": {},
   "outputs": [],
   "source": [
    "# fixing NaN\n",
    "df['Delivery_person_Age'] = df['Delivery_person_Age'].replace('NaN ', np.nan)\n",
    "\n",
    "# fixing data type\n",
    "df['Delivery_person_Age'] = df['Delivery_person_Age'].astype('Int64')"
   ]
  },
  {
   "cell_type": "code",
   "execution_count": 189,
   "metadata": {},
   "outputs": [
    {
     "data": {
      "text/plain": [
       "np.int64(1854)"
      ]
     },
     "execution_count": 189,
     "metadata": {},
     "output_type": "execute_result"
    }
   ],
   "source": [
    "df['Delivery_person_Age'].isnull().sum()"
   ]
  },
  {
   "cell_type": "markdown",
   "metadata": {},
   "source": [
    "<font color = 'orange'>\n",
    "\n",
    "#### <b> Weatherconditions\n",
    "- handle Nan\n",
    "- change data type"
   ]
  },
  {
   "cell_type": "code",
   "execution_count": 38,
   "metadata": {},
   "outputs": [
    {
     "data": {
      "text/plain": [
       "array(['conditions Sunny', 'conditions Stormy', 'conditions Sandstorms',\n",
       "       'conditions Cloudy', 'conditions Fog', 'conditions Windy',\n",
       "       'conditions NaN'], dtype=object)"
      ]
     },
     "execution_count": 38,
     "metadata": {},
     "output_type": "execute_result"
    }
   ],
   "source": [
    "df['Weatherconditions'].unique()"
   ]
  },
  {
   "cell_type": "code",
   "execution_count": 76,
   "metadata": {},
   "outputs": [
    {
     "data": {
      "text/plain": [
       "Weatherconditions\n",
       "conditions Fog           7654\n",
       "conditions Stormy        7586\n",
       "conditions Cloudy        7536\n",
       "conditions Sandstorms    7495\n",
       "conditions Windy         7422\n",
       "conditions Sunny         7284\n",
       "conditions NaN            616\n",
       "Name: count, dtype: int64"
      ]
     },
     "execution_count": 76,
     "metadata": {},
     "output_type": "execute_result"
    }
   ],
   "source": [
    "df['Weatherconditions'].value_counts()"
   ]
  },
  {
   "cell_type": "code",
   "execution_count": 192,
   "metadata": {},
   "outputs": [],
   "source": [
    "# fixing NaN\n",
    "df['Weatherconditions'] = df['Weatherconditions'].replace('conditions NaN', np.nan)"
   ]
  },
  {
   "cell_type": "code",
   "execution_count": 193,
   "metadata": {},
   "outputs": [
    {
     "data": {
      "text/plain": [
       "np.int64(616)"
      ]
     },
     "execution_count": 193,
     "metadata": {},
     "output_type": "execute_result"
    }
   ],
   "source": [
    "df['Weatherconditions'].isnull().sum()"
   ]
  },
  {
   "cell_type": "code",
   "execution_count": 197,
   "metadata": {},
   "outputs": [
    {
     "data": {
      "text/plain": [
       "ID                                0\n",
       "Delivery_person_ID                0\n",
       "Delivery_person_Age            1854\n",
       "Delivery_person_Ratings        1908\n",
       "Restaurant_latitude               0\n",
       "Restaurant_longitude              0\n",
       "Delivery_location_latitude        0\n",
       "Delivery_location_longitude       0\n",
       "Order_Date                        0\n",
       "Time_Orderd                       0\n",
       "Time_Order_picked                 0\n",
       "Weatherconditions               616\n",
       "Road_traffic_density            601\n",
       "Vehicle_condition                 0\n",
       "Type_of_order                     0\n",
       "Type_of_vehicle                   0\n",
       "multiple_deliveries             993\n",
       "Festival                        228\n",
       "City                           1200\n",
       "Time_taken(min)                   0\n",
       "dtype: int64"
      ]
     },
     "execution_count": 197,
     "metadata": {},
     "output_type": "execute_result"
    }
   ],
   "source": [
    "df.isnull().sum()"
   ]
  },
  {
   "cell_type": "code",
   "execution_count": 200,
   "metadata": {},
   "outputs": [
    {
     "data": {
      "text/plain": [
       "ID                             0.00\n",
       "Delivery_person_ID             0.00\n",
       "Delivery_person_Age            4.07\n",
       "Delivery_person_Ratings        4.18\n",
       "Restaurant_latitude            0.00\n",
       "Restaurant_longitude           0.00\n",
       "Delivery_location_latitude     0.00\n",
       "Delivery_location_longitude    0.00\n",
       "Order_Date                     0.00\n",
       "Time_Orderd                    0.00\n",
       "Time_Order_picked              0.00\n",
       "Weatherconditions              1.35\n",
       "Road_traffic_density           1.32\n",
       "Vehicle_condition              0.00\n",
       "Type_of_order                  0.00\n",
       "Type_of_vehicle                0.00\n",
       "multiple_deliveries            2.18\n",
       "Festival                       0.50\n",
       "City                           2.63\n",
       "Time_taken(min)                0.00\n",
       "dtype: float64"
      ]
     },
     "execution_count": 200,
     "metadata": {},
     "output_type": "execute_result"
    }
   ],
   "source": [
    "# % of NaN values\n",
    "round(df.isnull().mean() * 100, 2)"
   ]
  },
  {
   "cell_type": "markdown",
   "metadata": {},
   "source": [
    "# Feature Engineering\n",
    "\n",
    "\"restaurant - delivery location\" latitude & longitude\n",
    "- Euclidean dist\n",
    "- haversine dist\n",
    "- manhattan dist\n",
    "- estimate delivery time (assume 30 kmph)\n",
    "\n",
    "time ordered & time order picked\n",
    "- time lag\n",
    "- ordered picked time ratio\n",
    "\n",
    "order date\n",
    "- hour\n",
    "- day of week\n",
    "- month\n",
    "- quarter\n",
    "- year"
   ]
  },
  {
   "cell_type": "code",
   "execution_count": null,
   "metadata": {},
   "outputs": [],
   "source": []
  },
  {
   "cell_type": "code",
   "execution_count": null,
   "metadata": {},
   "outputs": [],
   "source": []
  },
  {
   "cell_type": "code",
   "execution_count": null,
   "metadata": {},
   "outputs": [],
   "source": []
  },
  {
   "cell_type": "code",
   "execution_count": null,
   "metadata": {},
   "outputs": [],
   "source": []
  },
  {
   "cell_type": "code",
   "execution_count": null,
   "metadata": {},
   "outputs": [],
   "source": []
  },
  {
   "cell_type": "code",
   "execution_count": null,
   "metadata": {},
   "outputs": [],
   "source": []
  },
  {
   "cell_type": "code",
   "execution_count": null,
   "metadata": {},
   "outputs": [],
   "source": []
  },
  {
   "cell_type": "code",
   "execution_count": null,
   "metadata": {},
   "outputs": [],
   "source": []
  },
  {
   "cell_type": "code",
   "execution_count": null,
   "metadata": {},
   "outputs": [],
   "source": []
  },
  {
   "cell_type": "code",
   "execution_count": null,
   "metadata": {},
   "outputs": [],
   "source": []
  }
 ],
 "metadata": {
  "kernelspec": {
   "display_name": "venv",
   "language": "python",
   "name": "python3"
  },
  "language_info": {
   "codemirror_mode": {
    "name": "ipython",
    "version": 3
   },
   "file_extension": ".py",
   "mimetype": "text/x-python",
   "name": "python",
   "nbconvert_exporter": "python",
   "pygments_lexer": "ipython3",
   "version": "3.9.2"
  }
 },
 "nbformat": 4,
 "nbformat_minor": 2
}
